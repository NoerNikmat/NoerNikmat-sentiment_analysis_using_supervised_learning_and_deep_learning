{
  "nbformat": 4,
  "nbformat_minor": 0,
  "metadata": {
    "colab": {
      "name": "NLP_Sentiment_Analyst_using_Supervised_Learning.ipynb",
      "provenance": [],
      "collapsed_sections": [
        "45p5-zLc03hj",
        "an5ri2r72Ul3",
        "FanxbXRT4kl1",
        "eg4N24_d7IKq"
      ],
      "toc_visible": true,
      "authorship_tag": "ABX9TyO6Ox8P0L2cxwdAcQY5ruk0",
      "include_colab_link": true
    },
    "kernelspec": {
      "display_name": "Python 3",
      "name": "python3"
    },
    "accelerator": "TPU"
  },
  "cells": [
    {
      "cell_type": "markdown",
      "metadata": {
        "id": "view-in-github",
        "colab_type": "text"
      },
      "source": [
        "<a href=\"https://colab.research.google.com/github/NoerNikmat/sentiment_analysis_using_supervised_learning/blob/main/NLP_Sentiment_Analyst_using_Supervised_Learning.ipynb\" target=\"_parent\"><img src=\"https://colab.research.google.com/assets/colab-badge.svg\" alt=\"Open In Colab\"/></a>"
      ]
    },
    {
      "cell_type": "markdown",
      "metadata": {
        "id": "45p5-zLc03hj"
      },
      "source": [
        "## **About Dataset**\n"
      ]
    },
    {
      "cell_type": "markdown",
      "metadata": {
        "id": "an5ri2r72Ul3"
      },
      "source": [
        "### Description"
      ]
    },
    {
      "cell_type": "markdown",
      "metadata": {
        "id": "_1sppU8_2s6Q"
      },
      "source": [
        "**Women's E-Commerce Clothing Reviews on Kaggle**\n",
        "\n",
        "---\n",
        "\n",
        "***Link Dataset***: \n",
        "\n",
        "https://www.kaggle.com/nicapotato/womens-ecommerce-clothing-reviews\n",
        "\n",
        "\n",
        "***Context***\n",
        "\n",
        "Welcome. This is a Women’s Clothing E-Commerce dataset revolving around the reviews written by customers. Its nine supportive features offer a great environment to parse out the text through its multiple dimensions. Because this is real commercial data, it has been anonymized, and references to the company in the review text and body have been replaced with “retailer”.\n",
        "\n",
        "\n",
        "\n",
        "***Content***\n",
        "\n",
        "This dataset includes **23486 rows** and **10 feature variables**. Each row corresponds to a customer review, and includes the variables:\n",
        "\n",
        "- **Clothing ID**: Integer Categorical variable that refers to the specific piece \n",
        "being reviewed.\n",
        "- **Age**: Positive Integer variable of the reviewers age.\n",
        "- **Title**: String variable for the title of the review.\n",
        "- **Review** Text: String variable for the review body.\n",
        "- **Rating**: Positive Ordinal Integer variable for the product score granted by the customer from 1 Worst, to 5 Best.\n",
        "- **Recommended** IND: Binary variable stating where the customer recommends the product where 1 is recommended, 0 is not recommended.\n",
        "- **Positive Feedback Count**: Positive Integer documenting the number of other customers who found this review positive.\n",
        "- **Division Name**: Categorical name of the product high level division.\n",
        "- **Department Name**: Categorical name of the product department name.\n",
        "- **Class Name**: Categorical name of the product class name.\n",
        "\n",
        "\n",
        "***Acknowledgements***\n",
        "\n",
        "Anonymous but real source\n",
        "\n",
        "\n",
        "***Inspiration***\n",
        "\n",
        "Nicapotato, an owner of dataset Women's E-Commerce Clothing Reviews that looks forward to coming quality NLP! There are also some great opportunities for feature engineering and multivariate analysis.\n",
        "\n",
        "***Publication***\n",
        "\n",
        "[Statistical Analysis on E-Commerce Reviews, with Sentiment Classification using Bidirectional Recurrent Neural Network](https://www.researchgate.net/publication/323545316_Statistical_Analysis_on_E-Commerce_Reviews_with_Sentiment_Classification_using_Bidirectional_Recurrent_Neural_Network)\n",
        "\n",
        "by [Abien Fred Agarap - Github](https://github.com/AFAgarap/ecommerce-reviews-analysis)\n",
        "\n"
      ]
    },
    {
      "cell_type": "markdown",
      "metadata": {
        "id": "FanxbXRT4kl1"
      },
      "source": [
        "### Metadata"
      ]
    },
    {
      "cell_type": "markdown",
      "metadata": {
        "id": "u41GIO504r5A"
      },
      "source": [
        "**Usage Information**\n",
        "\n",
        "---\n",
        "\n",
        "\n",
        "\n",
        "- License [CC0: Public Domain](https://creativecommons.org/publicdomain/zero/1.0/)\n",
        "- Visibility **public**\n",
        "\n",
        "\n",
        "**Maintainers**\n",
        "\n",
        "---\n",
        "\n",
        "\n",
        "\n",
        "- Dataset owner [nicapotato](https://www.kaggle.com/nicapotato)\n",
        "\n",
        "**Updates**\n",
        "\n",
        "---\n",
        "    \n",
        "    Expected update frequency (Not specified)\n",
        "\n",
        "    Last updated 2018-02-04\n",
        "    Date created 2018-02-04\n",
        "    Current version Version 1"
      ]
    },
    {
      "cell_type": "markdown",
      "metadata": {
        "id": "eg4N24_d7IKq"
      },
      "source": [
        "## **Objectives**"
      ]
    },
    {
      "cell_type": "markdown",
      "metadata": {
        "id": "SpTM4gPy7LWC"
      },
      "source": [
        "**Problem Framing**\n",
        "* How to predict sentiment analysis from Women's E-Commerce Clothing Reviews?\n",
        "\n",
        "\n",
        "**Ideal Outcome**\n",
        "* A success metric is that a sentence can be classified as positive, negative, or neutral as predicted by the model. \n",
        "* Success means predicting >90% for sentiment analysis. \n",
        "* Failure means the number of accuracy sentiment predicted is no better than current heuristics.\n",
        "\n",
        "\n",
        "**Heuristics**\n",
        "* Consider reviews of people who buy products in the past. Assume that new items buyers by these people will also become positive, negative, or neutral critics.\n",
        "\n",
        "**Formulation of the problem**\n",
        "* Comparison of Naive Bayes Model and Support Vector Machine (SVM)"
      ]
    },
    {
      "cell_type": "markdown",
      "metadata": {
        "id": "uTVCEN6GRlol"
      },
      "source": [
        "## **References**"
      ]
    },
    {
      "cell_type": "markdown",
      "metadata": {
        "id": "o3okW06uRsWL"
      },
      "source": [
        "- [Machine Learning Crash Course](https://developers.google.com/machine-learning/crash-course)\r\n",
        "- [Predicting Sentiment from Clothing Reviews](https://www.kaggle.com/burhanykiyakoglu/predicting-sentiment-from-clothing-reviews)\r\n",
        "- Source from the lecturers "
      ]
    },
    {
      "cell_type": "markdown",
      "metadata": {
        "id": "q2Lb5L0X1AFz"
      },
      "source": [
        "## **Programming With Python**"
      ]
    },
    {
      "cell_type": "markdown",
      "metadata": {
        "id": "sIzvlR8eugHp"
      },
      "source": [
        "### **Data Pre-pocessing**"
      ]
    },
    {
      "cell_type": "markdown",
      "metadata": {
        "id": "h1GnvJkO_YfD"
      },
      "source": [
        "**Import Dataset**"
      ]
    },
    {
      "cell_type": "markdown",
      "metadata": {
        "id": "J1EmCY-lucAm"
      },
      "source": [
        "    How to use the Kaggle dataset\r\n",
        "\r\n",
        "        * Login or sign in for your account on the Kaggle website.\r\n",
        "        * Find your dataset, notebook, and other information that you needed.\r\n",
        "        * Make your API file .json from your profile.\r\n",
        "        * Download your API file .json into your local computers."
      ]
    },
    {
      "cell_type": "markdown",
      "metadata": {
        "id": "lpWnnNw7lrC4"
      },
      "source": [
        "Install Kaggle for upload dataset into google colab"
      ]
    },
    {
      "cell_type": "code",
      "metadata": {
        "id": "A8qS9d8YGueG"
      },
      "source": [
        "!pip install -q kaggle"
      ],
      "execution_count": 1,
      "outputs": []
    },
    {
      "cell_type": "markdown",
      "metadata": {
        "id": "KcwZ1Jgzl6zG"
      },
      "source": [
        "Upload Kaggle API key"
      ]
    },
    {
      "cell_type": "code",
      "metadata": {
        "id": "zTNLVQBrG1Yu",
        "colab": {
          "resources": {
            "http://localhost:8080/nbextensions/google.colab/files.js": {
              "data": "Ly8gQ29weXJpZ2h0IDIwMTcgR29vZ2xlIExMQwovLwovLyBMaWNlbnNlZCB1bmRlciB0aGUgQXBhY2hlIExpY2Vuc2UsIFZlcnNpb24gMi4wICh0aGUgIkxpY2Vuc2UiKTsKLy8geW91IG1heSBub3QgdXNlIHRoaXMgZmlsZSBleGNlcHQgaW4gY29tcGxpYW5jZSB3aXRoIHRoZSBMaWNlbnNlLgovLyBZb3UgbWF5IG9idGFpbiBhIGNvcHkgb2YgdGhlIExpY2Vuc2UgYXQKLy8KLy8gICAgICBodHRwOi8vd3d3LmFwYWNoZS5vcmcvbGljZW5zZXMvTElDRU5TRS0yLjAKLy8KLy8gVW5sZXNzIHJlcXVpcmVkIGJ5IGFwcGxpY2FibGUgbGF3IG9yIGFncmVlZCB0byBpbiB3cml0aW5nLCBzb2Z0d2FyZQovLyBkaXN0cmlidXRlZCB1bmRlciB0aGUgTGljZW5zZSBpcyBkaXN0cmlidXRlZCBvbiBhbiAiQVMgSVMiIEJBU0lTLAovLyBXSVRIT1VUIFdBUlJBTlRJRVMgT1IgQ09ORElUSU9OUyBPRiBBTlkgS0lORCwgZWl0aGVyIGV4cHJlc3Mgb3IgaW1wbGllZC4KLy8gU2VlIHRoZSBMaWNlbnNlIGZvciB0aGUgc3BlY2lmaWMgbGFuZ3VhZ2UgZ292ZXJuaW5nIHBlcm1pc3Npb25zIGFuZAovLyBsaW1pdGF0aW9ucyB1bmRlciB0aGUgTGljZW5zZS4KCi8qKgogKiBAZmlsZW92ZXJ2aWV3IEhlbHBlcnMgZm9yIGdvb2dsZS5jb2xhYiBQeXRob24gbW9kdWxlLgogKi8KKGZ1bmN0aW9uKHNjb3BlKSB7CmZ1bmN0aW9uIHNwYW4odGV4dCwgc3R5bGVBdHRyaWJ1dGVzID0ge30pIHsKICBjb25zdCBlbGVtZW50ID0gZG9jdW1lbnQuY3JlYXRlRWxlbWVudCgnc3BhbicpOwogIGVsZW1lbnQudGV4dENvbnRlbnQgPSB0ZXh0OwogIGZvciAoY29uc3Qga2V5IG9mIE9iamVjdC5rZXlzKHN0eWxlQXR0cmlidXRlcykpIHsKICAgIGVsZW1lbnQuc3R5bGVba2V5XSA9IHN0eWxlQXR0cmlidXRlc1trZXldOwogIH0KICByZXR1cm4gZWxlbWVudDsKfQoKLy8gTWF4IG51bWJlciBvZiBieXRlcyB3aGljaCB3aWxsIGJlIHVwbG9hZGVkIGF0IGEgdGltZS4KY29uc3QgTUFYX1BBWUxPQURfU0laRSA9IDEwMCAqIDEwMjQ7CgpmdW5jdGlvbiBfdXBsb2FkRmlsZXMoaW5wdXRJZCwgb3V0cHV0SWQpIHsKICBjb25zdCBzdGVwcyA9IHVwbG9hZEZpbGVzU3RlcChpbnB1dElkLCBvdXRwdXRJZCk7CiAgY29uc3Qgb3V0cHV0RWxlbWVudCA9IGRvY3VtZW50LmdldEVsZW1lbnRCeUlkKG91dHB1dElkKTsKICAvLyBDYWNoZSBzdGVwcyBvbiB0aGUgb3V0cHV0RWxlbWVudCB0byBtYWtlIGl0IGF2YWlsYWJsZSBmb3IgdGhlIG5leHQgY2FsbAogIC8vIHRvIHVwbG9hZEZpbGVzQ29udGludWUgZnJvbSBQeXRob24uCiAgb3V0cHV0RWxlbWVudC5zdGVwcyA9IHN0ZXBzOwoKICByZXR1cm4gX3VwbG9hZEZpbGVzQ29udGludWUob3V0cHV0SWQpOwp9CgovLyBUaGlzIGlzIHJvdWdobHkgYW4gYXN5bmMgZ2VuZXJhdG9yIChub3Qgc3VwcG9ydGVkIGluIHRoZSBicm93c2VyIHlldCksCi8vIHdoZXJlIHRoZXJlIGFyZSBtdWx0aXBsZSBhc3luY2hyb25vdXMgc3RlcHMgYW5kIHRoZSBQeXRob24gc2lkZSBpcyBnb2luZwovLyB0byBwb2xsIGZvciBjb21wbGV0aW9uIG9mIGVhY2ggc3RlcC4KLy8gVGhpcyB1c2VzIGEgUHJvbWlzZSB0byBibG9jayB0aGUgcHl0aG9uIHNpZGUgb24gY29tcGxldGlvbiBvZiBlYWNoIHN0ZXAsCi8vIHRoZW4gcGFzc2VzIHRoZSByZXN1bHQgb2YgdGhlIHByZXZpb3VzIHN0ZXAgYXMgdGhlIGlucHV0IHRvIHRoZSBuZXh0IHN0ZXAuCmZ1bmN0aW9uIF91cGxvYWRGaWxlc0NvbnRpbnVlKG91dHB1dElkKSB7CiAgY29uc3Qgb3V0cHV0RWxlbWVudCA9IGRvY3VtZW50LmdldEVsZW1lbnRCeUlkKG91dHB1dElkKTsKICBjb25zdCBzdGVwcyA9IG91dHB1dEVsZW1lbnQuc3RlcHM7CgogIGNvbnN0IG5leHQgPSBzdGVwcy5uZXh0KG91dHB1dEVsZW1lbnQubGFzdFByb21pc2VWYWx1ZSk7CiAgcmV0dXJuIFByb21pc2UucmVzb2x2ZShuZXh0LnZhbHVlLnByb21pc2UpLnRoZW4oKHZhbHVlKSA9PiB7CiAgICAvLyBDYWNoZSB0aGUgbGFzdCBwcm9taXNlIHZhbHVlIHRvIG1ha2UgaXQgYXZhaWxhYmxlIHRvIHRoZSBuZXh0CiAgICAvLyBzdGVwIG9mIHRoZSBnZW5lcmF0b3IuCiAgICBvdXRwdXRFbGVtZW50Lmxhc3RQcm9taXNlVmFsdWUgPSB2YWx1ZTsKICAgIHJldHVybiBuZXh0LnZhbHVlLnJlc3BvbnNlOwogIH0pOwp9CgovKioKICogR2VuZXJhdG9yIGZ1bmN0aW9uIHdoaWNoIGlzIGNhbGxlZCBiZXR3ZWVuIGVhY2ggYXN5bmMgc3RlcCBvZiB0aGUgdXBsb2FkCiAqIHByb2Nlc3MuCiAqIEBwYXJhbSB7c3RyaW5nfSBpbnB1dElkIEVsZW1lbnQgSUQgb2YgdGhlIGlucHV0IGZpbGUgcGlja2VyIGVsZW1lbnQuCiAqIEBwYXJhbSB7c3RyaW5nfSBvdXRwdXRJZCBFbGVtZW50IElEIG9mIHRoZSBvdXRwdXQgZGlzcGxheS4KICogQHJldHVybiB7IUl0ZXJhYmxlPCFPYmplY3Q+fSBJdGVyYWJsZSBvZiBuZXh0IHN0ZXBzLgogKi8KZnVuY3Rpb24qIHVwbG9hZEZpbGVzU3RlcChpbnB1dElkLCBvdXRwdXRJZCkgewogIGNvbnN0IGlucHV0RWxlbWVudCA9IGRvY3VtZW50LmdldEVsZW1lbnRCeUlkKGlucHV0SWQpOwogIGlucHV0RWxlbWVudC5kaXNhYmxlZCA9IGZhbHNlOwoKICBjb25zdCBvdXRwdXRFbGVtZW50ID0gZG9jdW1lbnQuZ2V0RWxlbWVudEJ5SWQob3V0cHV0SWQpOwogIG91dHB1dEVsZW1lbnQuaW5uZXJIVE1MID0gJyc7CgogIGNvbnN0IHBpY2tlZFByb21pc2UgPSBuZXcgUHJvbWlzZSgocmVzb2x2ZSkgPT4gewogICAgaW5wdXRFbGVtZW50LmFkZEV2ZW50TGlzdGVuZXIoJ2NoYW5nZScsIChlKSA9PiB7CiAgICAgIHJlc29sdmUoZS50YXJnZXQuZmlsZXMpOwogICAgfSk7CiAgfSk7CgogIGNvbnN0IGNhbmNlbCA9IGRvY3VtZW50LmNyZWF0ZUVsZW1lbnQoJ2J1dHRvbicpOwogIGlucHV0RWxlbWVudC5wYXJlbnRFbGVtZW50LmFwcGVuZENoaWxkKGNhbmNlbCk7CiAgY2FuY2VsLnRleHRDb250ZW50ID0gJ0NhbmNlbCB1cGxvYWQnOwogIGNvbnN0IGNhbmNlbFByb21pc2UgPSBuZXcgUHJvbWlzZSgocmVzb2x2ZSkgPT4gewogICAgY2FuY2VsLm9uY2xpY2sgPSAoKSA9PiB7CiAgICAgIHJlc29sdmUobnVsbCk7CiAgICB9OwogIH0pOwoKICAvLyBXYWl0IGZvciB0aGUgdXNlciB0byBwaWNrIHRoZSBmaWxlcy4KICBjb25zdCBmaWxlcyA9IHlpZWxkIHsKICAgIHByb21pc2U6IFByb21pc2UucmFjZShbcGlja2VkUHJvbWlzZSwgY2FuY2VsUHJvbWlzZV0pLAogICAgcmVzcG9uc2U6IHsKICAgICAgYWN0aW9uOiAnc3RhcnRpbmcnLAogICAgfQogIH07CgogIGNhbmNlbC5yZW1vdmUoKTsKCiAgLy8gRGlzYWJsZSB0aGUgaW5wdXQgZWxlbWVudCBzaW5jZSBmdXJ0aGVyIHBpY2tzIGFyZSBub3QgYWxsb3dlZC4KICBpbnB1dEVsZW1lbnQuZGlzYWJsZWQgPSB0cnVlOwoKICBpZiAoIWZpbGVzKSB7CiAgICByZXR1cm4gewogICAgICByZXNwb25zZTogewogICAgICAgIGFjdGlvbjogJ2NvbXBsZXRlJywKICAgICAgfQogICAgfTsKICB9CgogIGZvciAoY29uc3QgZmlsZSBvZiBmaWxlcykgewogICAgY29uc3QgbGkgPSBkb2N1bWVudC5jcmVhdGVFbGVtZW50KCdsaScpOwogICAgbGkuYXBwZW5kKHNwYW4oZmlsZS5uYW1lLCB7Zm9udFdlaWdodDogJ2JvbGQnfSkpOwogICAgbGkuYXBwZW5kKHNwYW4oCiAgICAgICAgYCgke2ZpbGUudHlwZSB8fCAnbi9hJ30pIC0gJHtmaWxlLnNpemV9IGJ5dGVzLCBgICsKICAgICAgICBgbGFzdCBtb2RpZmllZDogJHsKICAgICAgICAgICAgZmlsZS5sYXN0TW9kaWZpZWREYXRlID8gZmlsZS5sYXN0TW9kaWZpZWREYXRlLnRvTG9jYWxlRGF0ZVN0cmluZygpIDoKICAgICAgICAgICAgICAgICAgICAgICAgICAgICAgICAgICAgJ24vYSd9IC0gYCkpOwogICAgY29uc3QgcGVyY2VudCA9IHNwYW4oJzAlIGRvbmUnKTsKICAgIGxpLmFwcGVuZENoaWxkKHBlcmNlbnQpOwoKICAgIG91dHB1dEVsZW1lbnQuYXBwZW5kQ2hpbGQobGkpOwoKICAgIGNvbnN0IGZpbGVEYXRhUHJvbWlzZSA9IG5ldyBQcm9taXNlKChyZXNvbHZlKSA9PiB7CiAgICAgIGNvbnN0IHJlYWRlciA9IG5ldyBGaWxlUmVhZGVyKCk7CiAgICAgIHJlYWRlci5vbmxvYWQgPSAoZSkgPT4gewogICAgICAgIHJlc29sdmUoZS50YXJnZXQucmVzdWx0KTsKICAgICAgfTsKICAgICAgcmVhZGVyLnJlYWRBc0FycmF5QnVmZmVyKGZpbGUpOwogICAgfSk7CiAgICAvLyBXYWl0IGZvciB0aGUgZGF0YSB0byBiZSByZWFkeS4KICAgIGxldCBmaWxlRGF0YSA9IHlpZWxkIHsKICAgICAgcHJvbWlzZTogZmlsZURhdGFQcm9taXNlLAogICAgICByZXNwb25zZTogewogICAgICAgIGFjdGlvbjogJ2NvbnRpbnVlJywKICAgICAgfQogICAgfTsKCiAgICAvLyBVc2UgYSBjaHVua2VkIHNlbmRpbmcgdG8gYXZvaWQgbWVzc2FnZSBzaXplIGxpbWl0cy4gU2VlIGIvNjIxMTU2NjAuCiAgICBsZXQgcG9zaXRpb24gPSAwOwogICAgd2hpbGUgKHBvc2l0aW9uIDwgZmlsZURhdGEuYnl0ZUxlbmd0aCkgewogICAgICBjb25zdCBsZW5ndGggPSBNYXRoLm1pbihmaWxlRGF0YS5ieXRlTGVuZ3RoIC0gcG9zaXRpb24sIE1BWF9QQVlMT0FEX1NJWkUpOwogICAgICBjb25zdCBjaHVuayA9IG5ldyBVaW50OEFycmF5KGZpbGVEYXRhLCBwb3NpdGlvbiwgbGVuZ3RoKTsKICAgICAgcG9zaXRpb24gKz0gbGVuZ3RoOwoKICAgICAgY29uc3QgYmFzZTY0ID0gYnRvYShTdHJpbmcuZnJvbUNoYXJDb2RlLmFwcGx5KG51bGwsIGNodW5rKSk7CiAgICAgIHlpZWxkIHsKICAgICAgICByZXNwb25zZTogewogICAgICAgICAgYWN0aW9uOiAnYXBwZW5kJywKICAgICAgICAgIGZpbGU6IGZpbGUubmFtZSwKICAgICAgICAgIGRhdGE6IGJhc2U2NCwKICAgICAgICB9LAogICAgICB9OwogICAgICBwZXJjZW50LnRleHRDb250ZW50ID0KICAgICAgICAgIGAke01hdGgucm91bmQoKHBvc2l0aW9uIC8gZmlsZURhdGEuYnl0ZUxlbmd0aCkgKiAxMDApfSUgZG9uZWA7CiAgICB9CiAgfQoKICAvLyBBbGwgZG9uZS4KICB5aWVsZCB7CiAgICByZXNwb25zZTogewogICAgICBhY3Rpb246ICdjb21wbGV0ZScsCiAgICB9CiAgfTsKfQoKc2NvcGUuZ29vZ2xlID0gc2NvcGUuZ29vZ2xlIHx8IHt9OwpzY29wZS5nb29nbGUuY29sYWIgPSBzY29wZS5nb29nbGUuY29sYWIgfHwge307CnNjb3BlLmdvb2dsZS5jb2xhYi5fZmlsZXMgPSB7CiAgX3VwbG9hZEZpbGVzLAogIF91cGxvYWRGaWxlc0NvbnRpbnVlLAp9Owp9KShzZWxmKTsK",
              "ok": true,
              "headers": [
                [
                  "content-type",
                  "application/javascript"
                ]
              ],
              "status": 200,
              "status_text": ""
            }
          },
          "base_uri": "https://localhost:8080/",
          "height": 91
        },
        "outputId": "28fa7235-89fe-4d70-94fe-7950936dc1cb"
      },
      "source": [
        "from google.colab import files\n",
        "files.upload()"
      ],
      "execution_count": 2,
      "outputs": [
        {
          "output_type": "display_data",
          "data": {
            "text/html": [
              "\n",
              "     <input type=\"file\" id=\"files-2369f440-ca11-4951-a7d3-bb328815bf56\" name=\"files[]\" multiple disabled\n",
              "        style=\"border:none\" />\n",
              "     <output id=\"result-2369f440-ca11-4951-a7d3-bb328815bf56\">\n",
              "      Upload widget is only available when the cell has been executed in the\n",
              "      current browser session. Please rerun this cell to enable.\n",
              "      </output>\n",
              "      <script src=\"/nbextensions/google.colab/files.js\"></script> "
            ],
            "text/plain": [
              "<IPython.core.display.HTML object>"
            ]
          },
          "metadata": {
            "tags": []
          }
        },
        {
          "output_type": "stream",
          "text": [
            "Saving kaggle.json to kaggle.json\n"
          ],
          "name": "stdout"
        },
        {
          "output_type": "execute_result",
          "data": {
            "text/plain": [
              "{'kaggle.json': b'{\"username\":\"noer001\",\"key\":\"5c61dd059665969d566be961b002599c\"}'}"
            ]
          },
          "metadata": {
            "tags": []
          },
          "execution_count": 2
        }
      ]
    },
    {
      "cell_type": "code",
      "metadata": {
        "id": "EJwO8KnqG4Q8"
      },
      "source": [
        "! mkdir ~/.kaggle\n",
        "! cp kaggle.json ~/.kaggle/\n",
        "! chmod 600 ~/.kaggle/kaggle.json"
      ],
      "execution_count": 3,
      "outputs": []
    },
    {
      "cell_type": "markdown",
      "metadata": {
        "id": "40Uof-mEl_ti"
      },
      "source": [
        "Download dataset from Kaggle"
      ]
    },
    {
      "cell_type": "code",
      "metadata": {
        "id": "aM7pioz6G9DM",
        "colab": {
          "base_uri": "https://localhost:8080/"
        },
        "outputId": "ae524834-3c46-4bf3-bf30-ff3499b6ee1e"
      },
      "source": [
        "! kaggle datasets download -d 'nicapotato/womens-ecommerce-clothing-reviews/download'  "
      ],
      "execution_count": 4,
      "outputs": [
        {
          "output_type": "stream",
          "text": [
            "Downloading womens-ecommerce-clothing-reviews.zip to /content\n",
            "\r  0% 0.00/2.79M [00:00<?, ?B/s]\n",
            "\r100% 2.79M/2.79M [00:00<00:00, 93.6MB/s]\n"
          ],
          "name": "stdout"
        }
      ]
    },
    {
      "cell_type": "code",
      "metadata": {
        "id": "uss2ztzLHDIl",
        "colab": {
          "base_uri": "https://localhost:8080/"
        },
        "outputId": "a6f4e69e-7b68-4e33-852d-bca187cbe88b"
      },
      "source": [
        "!ls"
      ],
      "execution_count": 5,
      "outputs": [
        {
          "output_type": "stream",
          "text": [
            "kaggle.json  sample_data  womens-ecommerce-clothing-reviews.zip\n"
          ],
          "name": "stdout"
        }
      ]
    },
    {
      "cell_type": "code",
      "metadata": {
        "id": "GXSoij3tHI1J"
      },
      "source": [
        "!unzip -q womens-ecommerce-clothing-reviews.zip"
      ],
      "execution_count": 6,
      "outputs": []
    },
    {
      "cell_type": "code",
      "metadata": {
        "id": "D4C8XBJiHMN8",
        "colab": {
          "base_uri": "https://localhost:8080/"
        },
        "outputId": "14c20593-1f3c-4cc4-9973-248575729b57"
      },
      "source": [
        "!ls"
      ],
      "execution_count": 7,
      "outputs": [
        {
          "output_type": "stream",
          "text": [
            " kaggle.json  'Womens Clothing E-Commerce Reviews.csv'\n",
            " sample_data   womens-ecommerce-clothing-reviews.zip\n"
          ],
          "name": "stdout"
        }
      ]
    },
    {
      "cell_type": "markdown",
      "metadata": {
        "id": "VzOFENO-wW0Z"
      },
      "source": [
        "**Import Libraries**"
      ]
    },
    {
      "cell_type": "code",
      "metadata": {
        "id": "Et0jprjWHWm2",
        "colab": {
          "base_uri": "https://localhost:8080/"
        },
        "outputId": "06159568-0e1d-4120-8587-4c0354fe06f7"
      },
      "source": [
        "import nltk\n",
        "import numpy as np\n",
        "import pandas as pd\n",
        "import seaborn as sns\n",
        "import matplotlib.pyplot as plt\n",
        "\n",
        "from nltk.corpus import stopwords\n",
        "from nltk.tokenize import RegexpTokenizer\n",
        "from nltk.stem.porter import PorterStemmer\n",
        "from keras.preprocessing.text import Tokenizer\n",
        "from keras.preprocessing.sequence import pad_sequences\n",
        "from nltk.sentiment.vader import SentimentIntensityAnalyzer"
      ],
      "execution_count": 8,
      "outputs": [
        {
          "output_type": "stream",
          "text": [
            "/usr/local/lib/python3.6/dist-packages/nltk/twitter/__init__.py:20: UserWarning: The twython library has not been installed. Some functionality from the twitter package will not be available.\n",
            "  warnings.warn(\"The twython library has not been installed. \"\n"
          ],
          "name": "stderr"
        }
      ]
    },
    {
      "cell_type": "code",
      "metadata": {
        "id": "8EjUO2osHkFI",
        "colab": {
          "base_uri": "https://localhost:8080/",
          "height": 585
        },
        "outputId": "647b2e2e-3a0e-4ff9-d8d0-3463d1a06915"
      },
      "source": [
        "woman = pd.read_csv('Womens Clothing E-Commerce Reviews.csv')\n",
        "woman"
      ],
      "execution_count": 9,
      "outputs": [
        {
          "output_type": "execute_result",
          "data": {
            "text/html": [
              "<div>\n",
              "<style scoped>\n",
              "    .dataframe tbody tr th:only-of-type {\n",
              "        vertical-align: middle;\n",
              "    }\n",
              "\n",
              "    .dataframe tbody tr th {\n",
              "        vertical-align: top;\n",
              "    }\n",
              "\n",
              "    .dataframe thead th {\n",
              "        text-align: right;\n",
              "    }\n",
              "</style>\n",
              "<table border=\"1\" class=\"dataframe\">\n",
              "  <thead>\n",
              "    <tr style=\"text-align: right;\">\n",
              "      <th></th>\n",
              "      <th>Unnamed: 0</th>\n",
              "      <th>Clothing ID</th>\n",
              "      <th>Age</th>\n",
              "      <th>Title</th>\n",
              "      <th>Review Text</th>\n",
              "      <th>Rating</th>\n",
              "      <th>Recommended IND</th>\n",
              "      <th>Positive Feedback Count</th>\n",
              "      <th>Division Name</th>\n",
              "      <th>Department Name</th>\n",
              "      <th>Class Name</th>\n",
              "    </tr>\n",
              "  </thead>\n",
              "  <tbody>\n",
              "    <tr>\n",
              "      <th>0</th>\n",
              "      <td>0</td>\n",
              "      <td>767</td>\n",
              "      <td>33</td>\n",
              "      <td>NaN</td>\n",
              "      <td>Absolutely wonderful - silky and sexy and comf...</td>\n",
              "      <td>4</td>\n",
              "      <td>1</td>\n",
              "      <td>0</td>\n",
              "      <td>Initmates</td>\n",
              "      <td>Intimate</td>\n",
              "      <td>Intimates</td>\n",
              "    </tr>\n",
              "    <tr>\n",
              "      <th>1</th>\n",
              "      <td>1</td>\n",
              "      <td>1080</td>\n",
              "      <td>34</td>\n",
              "      <td>NaN</td>\n",
              "      <td>Love this dress!  it's sooo pretty.  i happene...</td>\n",
              "      <td>5</td>\n",
              "      <td>1</td>\n",
              "      <td>4</td>\n",
              "      <td>General</td>\n",
              "      <td>Dresses</td>\n",
              "      <td>Dresses</td>\n",
              "    </tr>\n",
              "    <tr>\n",
              "      <th>2</th>\n",
              "      <td>2</td>\n",
              "      <td>1077</td>\n",
              "      <td>60</td>\n",
              "      <td>Some major design flaws</td>\n",
              "      <td>I had such high hopes for this dress and reall...</td>\n",
              "      <td>3</td>\n",
              "      <td>0</td>\n",
              "      <td>0</td>\n",
              "      <td>General</td>\n",
              "      <td>Dresses</td>\n",
              "      <td>Dresses</td>\n",
              "    </tr>\n",
              "    <tr>\n",
              "      <th>3</th>\n",
              "      <td>3</td>\n",
              "      <td>1049</td>\n",
              "      <td>50</td>\n",
              "      <td>My favorite buy!</td>\n",
              "      <td>I love, love, love this jumpsuit. it's fun, fl...</td>\n",
              "      <td>5</td>\n",
              "      <td>1</td>\n",
              "      <td>0</td>\n",
              "      <td>General Petite</td>\n",
              "      <td>Bottoms</td>\n",
              "      <td>Pants</td>\n",
              "    </tr>\n",
              "    <tr>\n",
              "      <th>4</th>\n",
              "      <td>4</td>\n",
              "      <td>847</td>\n",
              "      <td>47</td>\n",
              "      <td>Flattering shirt</td>\n",
              "      <td>This shirt is very flattering to all due to th...</td>\n",
              "      <td>5</td>\n",
              "      <td>1</td>\n",
              "      <td>6</td>\n",
              "      <td>General</td>\n",
              "      <td>Tops</td>\n",
              "      <td>Blouses</td>\n",
              "    </tr>\n",
              "    <tr>\n",
              "      <th>...</th>\n",
              "      <td>...</td>\n",
              "      <td>...</td>\n",
              "      <td>...</td>\n",
              "      <td>...</td>\n",
              "      <td>...</td>\n",
              "      <td>...</td>\n",
              "      <td>...</td>\n",
              "      <td>...</td>\n",
              "      <td>...</td>\n",
              "      <td>...</td>\n",
              "      <td>...</td>\n",
              "    </tr>\n",
              "    <tr>\n",
              "      <th>23481</th>\n",
              "      <td>23481</td>\n",
              "      <td>1104</td>\n",
              "      <td>34</td>\n",
              "      <td>Great dress for many occasions</td>\n",
              "      <td>I was very happy to snag this dress at such a ...</td>\n",
              "      <td>5</td>\n",
              "      <td>1</td>\n",
              "      <td>0</td>\n",
              "      <td>General Petite</td>\n",
              "      <td>Dresses</td>\n",
              "      <td>Dresses</td>\n",
              "    </tr>\n",
              "    <tr>\n",
              "      <th>23482</th>\n",
              "      <td>23482</td>\n",
              "      <td>862</td>\n",
              "      <td>48</td>\n",
              "      <td>Wish it was made of cotton</td>\n",
              "      <td>It reminds me of maternity clothes. soft, stre...</td>\n",
              "      <td>3</td>\n",
              "      <td>1</td>\n",
              "      <td>0</td>\n",
              "      <td>General Petite</td>\n",
              "      <td>Tops</td>\n",
              "      <td>Knits</td>\n",
              "    </tr>\n",
              "    <tr>\n",
              "      <th>23483</th>\n",
              "      <td>23483</td>\n",
              "      <td>1104</td>\n",
              "      <td>31</td>\n",
              "      <td>Cute, but see through</td>\n",
              "      <td>This fit well, but the top was very see throug...</td>\n",
              "      <td>3</td>\n",
              "      <td>0</td>\n",
              "      <td>1</td>\n",
              "      <td>General Petite</td>\n",
              "      <td>Dresses</td>\n",
              "      <td>Dresses</td>\n",
              "    </tr>\n",
              "    <tr>\n",
              "      <th>23484</th>\n",
              "      <td>23484</td>\n",
              "      <td>1084</td>\n",
              "      <td>28</td>\n",
              "      <td>Very cute dress, perfect for summer parties an...</td>\n",
              "      <td>I bought this dress for a wedding i have this ...</td>\n",
              "      <td>3</td>\n",
              "      <td>1</td>\n",
              "      <td>2</td>\n",
              "      <td>General</td>\n",
              "      <td>Dresses</td>\n",
              "      <td>Dresses</td>\n",
              "    </tr>\n",
              "    <tr>\n",
              "      <th>23485</th>\n",
              "      <td>23485</td>\n",
              "      <td>1104</td>\n",
              "      <td>52</td>\n",
              "      <td>Please make more like this one!</td>\n",
              "      <td>This dress in a lovely platinum is feminine an...</td>\n",
              "      <td>5</td>\n",
              "      <td>1</td>\n",
              "      <td>22</td>\n",
              "      <td>General Petite</td>\n",
              "      <td>Dresses</td>\n",
              "      <td>Dresses</td>\n",
              "    </tr>\n",
              "  </tbody>\n",
              "</table>\n",
              "<p>23486 rows × 11 columns</p>\n",
              "</div>"
            ],
            "text/plain": [
              "       Unnamed: 0  Clothing ID  Age  ...   Division Name Department Name  Class Name\n",
              "0               0          767   33  ...       Initmates        Intimate   Intimates\n",
              "1               1         1080   34  ...         General         Dresses     Dresses\n",
              "2               2         1077   60  ...         General         Dresses     Dresses\n",
              "3               3         1049   50  ...  General Petite         Bottoms       Pants\n",
              "4               4          847   47  ...         General            Tops     Blouses\n",
              "...           ...          ...  ...  ...             ...             ...         ...\n",
              "23481       23481         1104   34  ...  General Petite         Dresses     Dresses\n",
              "23482       23482          862   48  ...  General Petite            Tops       Knits\n",
              "23483       23483         1104   31  ...  General Petite         Dresses     Dresses\n",
              "23484       23484         1084   28  ...         General         Dresses     Dresses\n",
              "23485       23485         1104   52  ...  General Petite         Dresses     Dresses\n",
              "\n",
              "[23486 rows x 11 columns]"
            ]
          },
          "metadata": {
            "tags": []
          },
          "execution_count": 9
        }
      ]
    },
    {
      "cell_type": "markdown",
      "metadata": {
        "id": "uWgdWP3CPEJm"
      },
      "source": [
        "Working with Text"
      ]
    },
    {
      "cell_type": "code",
      "metadata": {
        "id": "GaLentLFOO9P",
        "colab": {
          "base_uri": "https://localhost:8080/",
          "height": 140
        },
        "outputId": "7e8f66e5-83ca-4710-9001-67284dba05fc"
      },
      "source": [
        "pd.set_option('max_colwidth', 500)\n",
        "woman[[\"Title\",\"Review Text\", \"Rating\"]].sample(2)"
      ],
      "execution_count": 10,
      "outputs": [
        {
          "output_type": "execute_result",
          "data": {
            "text/html": [
              "<div>\n",
              "<style scoped>\n",
              "    .dataframe tbody tr th:only-of-type {\n",
              "        vertical-align: middle;\n",
              "    }\n",
              "\n",
              "    .dataframe tbody tr th {\n",
              "        vertical-align: top;\n",
              "    }\n",
              "\n",
              "    .dataframe thead th {\n",
              "        text-align: right;\n",
              "    }\n",
              "</style>\n",
              "<table border=\"1\" class=\"dataframe\">\n",
              "  <thead>\n",
              "    <tr style=\"text-align: right;\">\n",
              "      <th></th>\n",
              "      <th>Title</th>\n",
              "      <th>Review Text</th>\n",
              "      <th>Rating</th>\n",
              "    </tr>\n",
              "  </thead>\n",
              "  <tbody>\n",
              "    <tr>\n",
              "      <th>22670</th>\n",
              "      <td>NaN</td>\n",
              "      <td>NaN</td>\n",
              "      <td>5</td>\n",
              "    </tr>\n",
              "    <tr>\n",
              "      <th>21626</th>\n",
              "      <td>Save your money</td>\n",
              "      <td>This dress would have been gorgeous and consistent with retailer's aesthetic if the designs had been embroidered onto a thick silk/jacquard fabric to give it texture, which is how it looks from the photo. obviously it would have been more expensive, but in any case, this was just a really expensive polyester dress, which it says in the product description, but i gave retailer the benefit of the doubt, thinking if anyone can make even polyester look like a quality product, it'll be retailer. ...</td>\n",
              "      <td>2</td>\n",
              "    </tr>\n",
              "  </tbody>\n",
              "</table>\n",
              "</div>"
            ],
            "text/plain": [
              "                 Title  ... Rating\n",
              "22670              NaN  ...      5\n",
              "21626  Save your money  ...      2\n",
              "\n",
              "[2 rows x 3 columns]"
            ]
          },
          "metadata": {
            "tags": []
          },
          "execution_count": 10
        }
      ]
    },
    {
      "cell_type": "markdown",
      "metadata": {
        "id": "NLaRHOfYPYmU"
      },
      "source": [
        "Text Cleaning"
      ]
    },
    {
      "cell_type": "code",
      "metadata": {
        "id": "Xnd4HJDyPM18",
        "colab": {
          "base_uri": "https://localhost:8080/"
        },
        "outputId": "cd1f6e4f-a60d-4f13-ffbe-724829c32f31"
      },
      "source": [
        "nltk.download('stopwords')"
      ],
      "execution_count": 11,
      "outputs": [
        {
          "output_type": "stream",
          "text": [
            "[nltk_data] Downloading package stopwords to /root/nltk_data...\n",
            "[nltk_data]   Unzipping corpora/stopwords.zip.\n"
          ],
          "name": "stdout"
        },
        {
          "output_type": "execute_result",
          "data": {
            "text/plain": [
              "True"
            ]
          },
          "metadata": {
            "tags": []
          },
          "execution_count": 11
        }
      ]
    },
    {
      "cell_type": "code",
      "metadata": {
        "id": "yQvoYHEA6FtK"
      },
      "source": [
        "ps = PorterStemmer()\n",
        "tokenizer = RegexpTokenizer(r'\\w+')\n",
        "stop_words = set(stopwords.words('english'))"
      ],
      "execution_count": 12,
      "outputs": []
    },
    {
      "cell_type": "code",
      "metadata": {
        "id": "RhwFJ_HA6Dlu"
      },
      "source": [
        "def preprocessing(data):\n",
        "    txt = data.str.lower().str.cat(sep=' ') #1\n",
        "    words = tokenizer.tokenize(txt) #2\n",
        "    words = [w for w in words if not w in stop_words] #3\n",
        "    #words = [ps.stem(w) for w in words] #4\n",
        "    return words"
      ],
      "execution_count": 13,
      "outputs": []
    },
    {
      "cell_type": "code",
      "metadata": {
        "id": "B1trvsRi7hoG"
      },
      "source": [
        "woman['tokenized'] = woman[\"Review Text\"].astype(str).str.lower() # Turn into lower case text\n",
        "woman['tokenized'] = woman.apply(lambda row: tokenizer.tokenize(row['tokenized']), axis=1) # Apply tokenize to each row\n",
        "woman['tokenized'] = woman['tokenized'].apply(lambda x: [w for w in x if not w in stop_words]) # Remove stopwords from each row"
      ],
      "execution_count": 14,
      "outputs": []
    },
    {
      "cell_type": "markdown",
      "metadata": {
        "id": "iW_T6ahqPutQ"
      },
      "source": [
        "Data Pre-pocessing for Sentiment Analysis"
      ]
    },
    {
      "cell_type": "code",
      "metadata": {
        "colab": {
          "base_uri": "https://localhost:8080/"
        },
        "id": "_0wAAl1jzhWH",
        "outputId": "5920ff38-a6ba-4f16-86c1-9fe123fc60fd"
      },
      "source": [
        "nltk.download('vader_lexicon')"
      ],
      "execution_count": 15,
      "outputs": [
        {
          "output_type": "stream",
          "text": [
            "[nltk_data] Downloading package vader_lexicon to /root/nltk_data...\n"
          ],
          "name": "stdout"
        },
        {
          "output_type": "execute_result",
          "data": {
            "text/plain": [
              "True"
            ]
          },
          "metadata": {
            "tags": []
          },
          "execution_count": 15
        }
      ]
    },
    {
      "cell_type": "code",
      "metadata": {
        "id": "5G72ws7cPZep"
      },
      "source": [
        "# Pre-Processing\n",
        "SIA = SentimentIntensityAnalyzer()\n",
        "woman['Review Text']= woman['Review Text'].astype(str)\n",
        "\n",
        "# Applying Model, Variable Creation\n",
        "woman['Polarity Score'] = woman['Review Text'].apply(lambda x: SIA.polarity_scores(x)['compound'])\n",
        "woman['Neutral Score'] = woman['Review Text'].apply(lambda x: SIA.polarity_scores(x)['neu'])\n",
        "woman['Negative Score'] = woman['Review Text'].apply(lambda x: SIA.polarity_scores(x)['neg'])\n",
        "woman['Positive Score'] = woman['Review Text'].apply(lambda x: SIA.polarity_scores(x)['pos'])\n",
        "\n",
        "# Converting 0 to 1 Decimal Score to a Categorical Variable\n",
        "woman['Sentiment'] = ''\n",
        "woman.loc[woman['Polarity Score'] > 0, 'Sentiment'] = 'Positive'\n",
        "woman.loc[woman['Polarity Score'] == 0, 'Sentiment'] = 'Neutral'\n",
        "woman.loc[woman['Polarity Score'] < 0, 'Sentiment'] = 'Negative'"
      ],
      "execution_count": 16,
      "outputs": []
    },
    {
      "cell_type": "code",
      "metadata": {
        "id": "RujSc_b96T1w",
        "colab": {
          "base_uri": "https://localhost:8080/",
          "height": 1000
        },
        "outputId": "9f84f1fe-8f12-4e7f-af65-7c2ba3a94f9e"
      },
      "source": [
        "def string_unlist(strlist):\n",
        "    return \" \".join(strlist)\n",
        "\n",
        "woman[\"tokenized_unlist\"] = woman[\"tokenized\"].apply(string_unlist)\n",
        "woman.head()"
      ],
      "execution_count": 17,
      "outputs": [
        {
          "output_type": "execute_result",
          "data": {
            "text/html": [
              "<div>\n",
              "<style scoped>\n",
              "    .dataframe tbody tr th:only-of-type {\n",
              "        vertical-align: middle;\n",
              "    }\n",
              "\n",
              "    .dataframe tbody tr th {\n",
              "        vertical-align: top;\n",
              "    }\n",
              "\n",
              "    .dataframe thead th {\n",
              "        text-align: right;\n",
              "    }\n",
              "</style>\n",
              "<table border=\"1\" class=\"dataframe\">\n",
              "  <thead>\n",
              "    <tr style=\"text-align: right;\">\n",
              "      <th></th>\n",
              "      <th>Unnamed: 0</th>\n",
              "      <th>Clothing ID</th>\n",
              "      <th>Age</th>\n",
              "      <th>Title</th>\n",
              "      <th>Review Text</th>\n",
              "      <th>Rating</th>\n",
              "      <th>Recommended IND</th>\n",
              "      <th>Positive Feedback Count</th>\n",
              "      <th>Division Name</th>\n",
              "      <th>Department Name</th>\n",
              "      <th>Class Name</th>\n",
              "      <th>tokenized</th>\n",
              "      <th>Polarity Score</th>\n",
              "      <th>Neutral Score</th>\n",
              "      <th>Negative Score</th>\n",
              "      <th>Positive Score</th>\n",
              "      <th>Sentiment</th>\n",
              "      <th>tokenized_unlist</th>\n",
              "    </tr>\n",
              "  </thead>\n",
              "  <tbody>\n",
              "    <tr>\n",
              "      <th>0</th>\n",
              "      <td>0</td>\n",
              "      <td>767</td>\n",
              "      <td>33</td>\n",
              "      <td>NaN</td>\n",
              "      <td>Absolutely wonderful - silky and sexy and comfortable</td>\n",
              "      <td>4</td>\n",
              "      <td>1</td>\n",
              "      <td>0</td>\n",
              "      <td>Initmates</td>\n",
              "      <td>Intimate</td>\n",
              "      <td>Intimates</td>\n",
              "      <td>[absolutely, wonderful, silky, sexy, comfortable]</td>\n",
              "      <td>0.8932</td>\n",
              "      <td>0.272</td>\n",
              "      <td>0.000</td>\n",
              "      <td>0.728</td>\n",
              "      <td>Positive</td>\n",
              "      <td>absolutely wonderful silky sexy comfortable</td>\n",
              "    </tr>\n",
              "    <tr>\n",
              "      <th>1</th>\n",
              "      <td>1</td>\n",
              "      <td>1080</td>\n",
              "      <td>34</td>\n",
              "      <td>NaN</td>\n",
              "      <td>Love this dress!  it's sooo pretty.  i happened to find it in a store, and i'm glad i did bc i never would have ordered it online bc it's petite.  i bought a petite and am 5'8\".  i love the length on me- hits just a little below the knee.  would definitely be a true midi on someone who is truly petite.</td>\n",
              "      <td>5</td>\n",
              "      <td>1</td>\n",
              "      <td>4</td>\n",
              "      <td>General</td>\n",
              "      <td>Dresses</td>\n",
              "      <td>Dresses</td>\n",
              "      <td>[love, dress, sooo, pretty, happened, find, store, glad, bc, never, would, ordered, online, bc, petite, bought, petite, 5, 8, love, length, hits, little, knee, would, definitely, true, midi, someone, truly, petite]</td>\n",
              "      <td>0.9729</td>\n",
              "      <td>0.664</td>\n",
              "      <td>0.000</td>\n",
              "      <td>0.336</td>\n",
              "      <td>Positive</td>\n",
              "      <td>love dress sooo pretty happened find store glad bc never would ordered online bc petite bought petite 5 8 love length hits little knee would definitely true midi someone truly petite</td>\n",
              "    </tr>\n",
              "    <tr>\n",
              "      <th>2</th>\n",
              "      <td>2</td>\n",
              "      <td>1077</td>\n",
              "      <td>60</td>\n",
              "      <td>Some major design flaws</td>\n",
              "      <td>I had such high hopes for this dress and really wanted it to work for me. i initially ordered the petite small (my usual size) but i found this to be outrageously small. so small in fact that i could not zip it up! i reordered it in petite medium, which was just ok. overall, the top half was comfortable and fit nicely, but the bottom half had a very tight under layer and several somewhat cheap (net) over layers. imo, a major design flaw was the net over layer sewn directly into the zipper - ...</td>\n",
              "      <td>3</td>\n",
              "      <td>0</td>\n",
              "      <td>0</td>\n",
              "      <td>General</td>\n",
              "      <td>Dresses</td>\n",
              "      <td>Dresses</td>\n",
              "      <td>[high, hopes, dress, really, wanted, work, initially, ordered, petite, small, usual, size, found, outrageously, small, small, fact, could, zip, reordered, petite, medium, ok, overall, top, half, comfortable, fit, nicely, bottom, half, tight, layer, several, somewhat, cheap, net, layers, imo, major, design, flaw, net, layer, sewn, directly, zipper, c]</td>\n",
              "      <td>0.9427</td>\n",
              "      <td>0.792</td>\n",
              "      <td>0.027</td>\n",
              "      <td>0.181</td>\n",
              "      <td>Positive</td>\n",
              "      <td>high hopes dress really wanted work initially ordered petite small usual size found outrageously small small fact could zip reordered petite medium ok overall top half comfortable fit nicely bottom half tight layer several somewhat cheap net layers imo major design flaw net layer sewn directly zipper c</td>\n",
              "    </tr>\n",
              "    <tr>\n",
              "      <th>3</th>\n",
              "      <td>3</td>\n",
              "      <td>1049</td>\n",
              "      <td>50</td>\n",
              "      <td>My favorite buy!</td>\n",
              "      <td>I love, love, love this jumpsuit. it's fun, flirty, and fabulous! every time i wear it, i get nothing but great compliments!</td>\n",
              "      <td>5</td>\n",
              "      <td>1</td>\n",
              "      <td>0</td>\n",
              "      <td>General Petite</td>\n",
              "      <td>Bottoms</td>\n",
              "      <td>Pants</td>\n",
              "      <td>[love, love, love, jumpsuit, fun, flirty, fabulous, every, time, wear, get, nothing, great, compliments]</td>\n",
              "      <td>0.5727</td>\n",
              "      <td>0.340</td>\n",
              "      <td>0.226</td>\n",
              "      <td>0.434</td>\n",
              "      <td>Positive</td>\n",
              "      <td>love love love jumpsuit fun flirty fabulous every time wear get nothing great compliments</td>\n",
              "    </tr>\n",
              "    <tr>\n",
              "      <th>4</th>\n",
              "      <td>4</td>\n",
              "      <td>847</td>\n",
              "      <td>47</td>\n",
              "      <td>Flattering shirt</td>\n",
              "      <td>This shirt is very flattering to all due to the adjustable front tie. it is the perfect length to wear with leggings and it is sleeveless so it pairs well with any cardigan. love this shirt!!!</td>\n",
              "      <td>5</td>\n",
              "      <td>1</td>\n",
              "      <td>6</td>\n",
              "      <td>General</td>\n",
              "      <td>Tops</td>\n",
              "      <td>Blouses</td>\n",
              "      <td>[shirt, flattering, due, adjustable, front, tie, perfect, length, wear, leggings, sleeveless, pairs, well, cardigan, love, shirt]</td>\n",
              "      <td>0.9291</td>\n",
              "      <td>0.700</td>\n",
              "      <td>0.000</td>\n",
              "      <td>0.300</td>\n",
              "      <td>Positive</td>\n",
              "      <td>shirt flattering due adjustable front tie perfect length wear leggings sleeveless pairs well cardigan love shirt</td>\n",
              "    </tr>\n",
              "  </tbody>\n",
              "</table>\n",
              "</div>"
            ],
            "text/plain": [
              "   Unnamed: 0  ...                                                                                                                                                                                                                                                                                                 tokenized_unlist\n",
              "0           0  ...                                                                                                                                                                                                                                                                      absolutely wonderful silky sexy comfortable\n",
              "1           1  ...                                                                                                                           love dress sooo pretty happened find store glad bc never would ordered online bc petite bought petite 5 8 love length hits little knee would definitely true midi someone truly petite\n",
              "2           2  ...  high hopes dress really wanted work initially ordered petite small usual size found outrageously small small fact could zip reordered petite medium ok overall top half comfortable fit nicely bottom half tight layer several somewhat cheap net layers imo major design flaw net layer sewn directly zipper c\n",
              "3           3  ...                                                                                                                                                                                                                        love love love jumpsuit fun flirty fabulous every time wear get nothing great compliments\n",
              "4           4  ...                                                                                                                                                                                                 shirt flattering due adjustable front tie perfect length wear leggings sleeveless pairs well cardigan love shirt\n",
              "\n",
              "[5 rows x 18 columns]"
            ]
          },
          "metadata": {
            "tags": []
          },
          "execution_count": 17
        }
      ]
    },
    {
      "cell_type": "code",
      "metadata": {
        "id": "7c72yyjZ76rd",
        "colab": {
          "base_uri": "https://localhost:8080/",
          "height": 1000
        },
        "outputId": "53bbb20e-4321-47d9-e396-c09a43c8705b"
      },
      "source": [
        "conditions = [\n",
        "    woman['Sentiment'] == \"Positive\",\n",
        "    woman['Sentiment'] == \"Negative\",\n",
        "    woman['Sentiment'] == \"Neutral\"]\n",
        "choices = [1,-1,0]\n",
        "woman['label'] = np.select(conditions, choices)\n",
        "woman.head()"
      ],
      "execution_count": 18,
      "outputs": [
        {
          "output_type": "execute_result",
          "data": {
            "text/html": [
              "<div>\n",
              "<style scoped>\n",
              "    .dataframe tbody tr th:only-of-type {\n",
              "        vertical-align: middle;\n",
              "    }\n",
              "\n",
              "    .dataframe tbody tr th {\n",
              "        vertical-align: top;\n",
              "    }\n",
              "\n",
              "    .dataframe thead th {\n",
              "        text-align: right;\n",
              "    }\n",
              "</style>\n",
              "<table border=\"1\" class=\"dataframe\">\n",
              "  <thead>\n",
              "    <tr style=\"text-align: right;\">\n",
              "      <th></th>\n",
              "      <th>Unnamed: 0</th>\n",
              "      <th>Clothing ID</th>\n",
              "      <th>Age</th>\n",
              "      <th>Title</th>\n",
              "      <th>Review Text</th>\n",
              "      <th>Rating</th>\n",
              "      <th>Recommended IND</th>\n",
              "      <th>Positive Feedback Count</th>\n",
              "      <th>Division Name</th>\n",
              "      <th>Department Name</th>\n",
              "      <th>Class Name</th>\n",
              "      <th>tokenized</th>\n",
              "      <th>Polarity Score</th>\n",
              "      <th>Neutral Score</th>\n",
              "      <th>Negative Score</th>\n",
              "      <th>Positive Score</th>\n",
              "      <th>Sentiment</th>\n",
              "      <th>tokenized_unlist</th>\n",
              "      <th>label</th>\n",
              "    </tr>\n",
              "  </thead>\n",
              "  <tbody>\n",
              "    <tr>\n",
              "      <th>0</th>\n",
              "      <td>0</td>\n",
              "      <td>767</td>\n",
              "      <td>33</td>\n",
              "      <td>NaN</td>\n",
              "      <td>Absolutely wonderful - silky and sexy and comfortable</td>\n",
              "      <td>4</td>\n",
              "      <td>1</td>\n",
              "      <td>0</td>\n",
              "      <td>Initmates</td>\n",
              "      <td>Intimate</td>\n",
              "      <td>Intimates</td>\n",
              "      <td>[absolutely, wonderful, silky, sexy, comfortable]</td>\n",
              "      <td>0.8932</td>\n",
              "      <td>0.272</td>\n",
              "      <td>0.000</td>\n",
              "      <td>0.728</td>\n",
              "      <td>Positive</td>\n",
              "      <td>absolutely wonderful silky sexy comfortable</td>\n",
              "      <td>1</td>\n",
              "    </tr>\n",
              "    <tr>\n",
              "      <th>1</th>\n",
              "      <td>1</td>\n",
              "      <td>1080</td>\n",
              "      <td>34</td>\n",
              "      <td>NaN</td>\n",
              "      <td>Love this dress!  it's sooo pretty.  i happened to find it in a store, and i'm glad i did bc i never would have ordered it online bc it's petite.  i bought a petite and am 5'8\".  i love the length on me- hits just a little below the knee.  would definitely be a true midi on someone who is truly petite.</td>\n",
              "      <td>5</td>\n",
              "      <td>1</td>\n",
              "      <td>4</td>\n",
              "      <td>General</td>\n",
              "      <td>Dresses</td>\n",
              "      <td>Dresses</td>\n",
              "      <td>[love, dress, sooo, pretty, happened, find, store, glad, bc, never, would, ordered, online, bc, petite, bought, petite, 5, 8, love, length, hits, little, knee, would, definitely, true, midi, someone, truly, petite]</td>\n",
              "      <td>0.9729</td>\n",
              "      <td>0.664</td>\n",
              "      <td>0.000</td>\n",
              "      <td>0.336</td>\n",
              "      <td>Positive</td>\n",
              "      <td>love dress sooo pretty happened find store glad bc never would ordered online bc petite bought petite 5 8 love length hits little knee would definitely true midi someone truly petite</td>\n",
              "      <td>1</td>\n",
              "    </tr>\n",
              "    <tr>\n",
              "      <th>2</th>\n",
              "      <td>2</td>\n",
              "      <td>1077</td>\n",
              "      <td>60</td>\n",
              "      <td>Some major design flaws</td>\n",
              "      <td>I had such high hopes for this dress and really wanted it to work for me. i initially ordered the petite small (my usual size) but i found this to be outrageously small. so small in fact that i could not zip it up! i reordered it in petite medium, which was just ok. overall, the top half was comfortable and fit nicely, but the bottom half had a very tight under layer and several somewhat cheap (net) over layers. imo, a major design flaw was the net over layer sewn directly into the zipper - ...</td>\n",
              "      <td>3</td>\n",
              "      <td>0</td>\n",
              "      <td>0</td>\n",
              "      <td>General</td>\n",
              "      <td>Dresses</td>\n",
              "      <td>Dresses</td>\n",
              "      <td>[high, hopes, dress, really, wanted, work, initially, ordered, petite, small, usual, size, found, outrageously, small, small, fact, could, zip, reordered, petite, medium, ok, overall, top, half, comfortable, fit, nicely, bottom, half, tight, layer, several, somewhat, cheap, net, layers, imo, major, design, flaw, net, layer, sewn, directly, zipper, c]</td>\n",
              "      <td>0.9427</td>\n",
              "      <td>0.792</td>\n",
              "      <td>0.027</td>\n",
              "      <td>0.181</td>\n",
              "      <td>Positive</td>\n",
              "      <td>high hopes dress really wanted work initially ordered petite small usual size found outrageously small small fact could zip reordered petite medium ok overall top half comfortable fit nicely bottom half tight layer several somewhat cheap net layers imo major design flaw net layer sewn directly zipper c</td>\n",
              "      <td>1</td>\n",
              "    </tr>\n",
              "    <tr>\n",
              "      <th>3</th>\n",
              "      <td>3</td>\n",
              "      <td>1049</td>\n",
              "      <td>50</td>\n",
              "      <td>My favorite buy!</td>\n",
              "      <td>I love, love, love this jumpsuit. it's fun, flirty, and fabulous! every time i wear it, i get nothing but great compliments!</td>\n",
              "      <td>5</td>\n",
              "      <td>1</td>\n",
              "      <td>0</td>\n",
              "      <td>General Petite</td>\n",
              "      <td>Bottoms</td>\n",
              "      <td>Pants</td>\n",
              "      <td>[love, love, love, jumpsuit, fun, flirty, fabulous, every, time, wear, get, nothing, great, compliments]</td>\n",
              "      <td>0.5727</td>\n",
              "      <td>0.340</td>\n",
              "      <td>0.226</td>\n",
              "      <td>0.434</td>\n",
              "      <td>Positive</td>\n",
              "      <td>love love love jumpsuit fun flirty fabulous every time wear get nothing great compliments</td>\n",
              "      <td>1</td>\n",
              "    </tr>\n",
              "    <tr>\n",
              "      <th>4</th>\n",
              "      <td>4</td>\n",
              "      <td>847</td>\n",
              "      <td>47</td>\n",
              "      <td>Flattering shirt</td>\n",
              "      <td>This shirt is very flattering to all due to the adjustable front tie. it is the perfect length to wear with leggings and it is sleeveless so it pairs well with any cardigan. love this shirt!!!</td>\n",
              "      <td>5</td>\n",
              "      <td>1</td>\n",
              "      <td>6</td>\n",
              "      <td>General</td>\n",
              "      <td>Tops</td>\n",
              "      <td>Blouses</td>\n",
              "      <td>[shirt, flattering, due, adjustable, front, tie, perfect, length, wear, leggings, sleeveless, pairs, well, cardigan, love, shirt]</td>\n",
              "      <td>0.9291</td>\n",
              "      <td>0.700</td>\n",
              "      <td>0.000</td>\n",
              "      <td>0.300</td>\n",
              "      <td>Positive</td>\n",
              "      <td>shirt flattering due adjustable front tie perfect length wear leggings sleeveless pairs well cardigan love shirt</td>\n",
              "      <td>1</td>\n",
              "    </tr>\n",
              "  </tbody>\n",
              "</table>\n",
              "</div>"
            ],
            "text/plain": [
              "   Unnamed: 0  ...  label\n",
              "0           0  ...      1\n",
              "1           1  ...      1\n",
              "2           2  ...      1\n",
              "3           3  ...      1\n",
              "4           4  ...      1\n",
              "\n",
              "[5 rows x 19 columns]"
            ]
          },
          "metadata": {
            "tags": []
          },
          "execution_count": 18
        }
      ]
    },
    {
      "cell_type": "code",
      "metadata": {
        "colab": {
          "base_uri": "https://localhost:8080/"
        },
        "id": "0z7MFEoKzocv",
        "outputId": "939899cb-f4a7-4c5c-f8fc-34bf66df88b7"
      },
      "source": [
        "woman.shape"
      ],
      "execution_count": 19,
      "outputs": [
        {
          "output_type": "execute_result",
          "data": {
            "text/plain": [
              "(23486, 19)"
            ]
          },
          "metadata": {
            "tags": []
          },
          "execution_count": 19
        }
      ]
    },
    {
      "cell_type": "code",
      "metadata": {
        "id": "l9ruUP_1tbns"
      },
      "source": [
        "#woman.to_csv('woman.csv')"
      ],
      "execution_count": 20,
      "outputs": []
    },
    {
      "cell_type": "markdown",
      "metadata": {
        "id": "X-JFRK_hwvtd"
      },
      "source": [
        "### **Data Preparation**"
      ]
    },
    {
      "cell_type": "markdown",
      "metadata": {
        "id": "7QzIU6Htw7El"
      },
      "source": [
        "Import Libraries "
      ]
    },
    {
      "cell_type": "code",
      "metadata": {
        "id": "kqgo3DOUw6Bu"
      },
      "source": [
        "import datetime as dt \r\n",
        "import sklearn.metrics as mt\r\n",
        "\r\n",
        "from sklearn.svm import SVC\r\n",
        "from sklearn.metrics import confusion_matrix\r\n",
        "from sklearn.naive_bayes import MultinomialNB\r\n",
        "from sklearn.model_selection import train_test_split\r\n",
        "from sklearn.feature_extraction.text import CountVectorizer"
      ],
      "execution_count": 21,
      "outputs": []
    },
    {
      "cell_type": "code",
      "metadata": {
        "colab": {
          "base_uri": "https://localhost:8080/"
        },
        "id": "r4exstFf0ipO",
        "outputId": "5fe777e3-0519-4f8f-b5f7-8961c79cfcd0"
      },
      "source": [
        "woman.columns"
      ],
      "execution_count": 22,
      "outputs": [
        {
          "output_type": "execute_result",
          "data": {
            "text/plain": [
              "Index(['Unnamed: 0', 'Clothing ID', 'Age', 'Title', 'Review Text', 'Rating',\n",
              "       'Recommended IND', 'Positive Feedback Count', 'Division Name',\n",
              "       'Department Name', 'Class Name', 'tokenized', 'Polarity Score',\n",
              "       'Neutral Score', 'Negative Score', 'Positive Score', 'Sentiment',\n",
              "       'tokenized_unlist', 'label'],\n",
              "      dtype='object')"
            ]
          },
          "metadata": {
            "tags": []
          },
          "execution_count": 22
        }
      ]
    },
    {
      "cell_type": "markdown",
      "metadata": {
        "id": "hX8KVzA91wAf"
      },
      "source": [
        "Select Data for Sentiment Analyst"
      ]
    },
    {
      "cell_type": "code",
      "metadata": {
        "id": "4NA--S1Y0leQ"
      },
      "source": [
        "select_data=woman[['Clothing ID','Review Text','Rating','Recommended IND','Polarity Score','Sentiment','label']]"
      ],
      "execution_count": 23,
      "outputs": []
    },
    {
      "cell_type": "code",
      "metadata": {
        "colab": {
          "base_uri": "https://localhost:8080/"
        },
        "id": "ladyxH_Y4c3z",
        "outputId": "2ce7d40b-0ea3-45ff-e6f2-663267ca2e32"
      },
      "source": [
        "select_data.shape"
      ],
      "execution_count": 24,
      "outputs": [
        {
          "output_type": "execute_result",
          "data": {
            "text/plain": [
              "(23486, 7)"
            ]
          },
          "metadata": {
            "tags": []
          },
          "execution_count": 24
        }
      ]
    },
    {
      "cell_type": "code",
      "metadata": {
        "id": "tpFGnjSA4k82"
      },
      "source": [
        "def remove_pattern(input_txt, pattern): #erase pattern\r\n",
        "    r = re.findall(pattern, input_txt)\r\n",
        "    for i in r:\r\n",
        "        input_txt = re.sub(i, '', input_txt)\r\n",
        "    return input_txt  "
      ],
      "execution_count": 25,
      "outputs": []
    },
    {
      "cell_type": "code",
      "metadata": {
        "colab": {
          "base_uri": "https://localhost:8080/",
          "height": 398
        },
        "id": "ZPuHBQ-G4wn0",
        "outputId": "571c88db-e6f9-456f-bf52-992084d327ae"
      },
      "source": [
        "select_data['review_clean'] = select_data['Review Text'].str.replace(\"[^a-zA-Z#']\", \" \") \r\n",
        "select_data.sample(2)"
      ],
      "execution_count": 26,
      "outputs": [
        {
          "output_type": "stream",
          "text": [
            "/usr/local/lib/python3.6/dist-packages/ipykernel_launcher.py:1: SettingWithCopyWarning: \n",
            "A value is trying to be set on a copy of a slice from a DataFrame.\n",
            "Try using .loc[row_indexer,col_indexer] = value instead\n",
            "\n",
            "See the caveats in the documentation: https://pandas.pydata.org/pandas-docs/stable/user_guide/indexing.html#returning-a-view-versus-a-copy\n",
            "  \"\"\"Entry point for launching an IPython kernel.\n"
          ],
          "name": "stderr"
        },
        {
          "output_type": "execute_result",
          "data": {
            "text/html": [
              "<div>\n",
              "<style scoped>\n",
              "    .dataframe tbody tr th:only-of-type {\n",
              "        vertical-align: middle;\n",
              "    }\n",
              "\n",
              "    .dataframe tbody tr th {\n",
              "        vertical-align: top;\n",
              "    }\n",
              "\n",
              "    .dataframe thead th {\n",
              "        text-align: right;\n",
              "    }\n",
              "</style>\n",
              "<table border=\"1\" class=\"dataframe\">\n",
              "  <thead>\n",
              "    <tr style=\"text-align: right;\">\n",
              "      <th></th>\n",
              "      <th>Clothing ID</th>\n",
              "      <th>Review Text</th>\n",
              "      <th>Rating</th>\n",
              "      <th>Recommended IND</th>\n",
              "      <th>Polarity Score</th>\n",
              "      <th>Sentiment</th>\n",
              "      <th>label</th>\n",
              "      <th>review_clean</th>\n",
              "    </tr>\n",
              "  </thead>\n",
              "  <tbody>\n",
              "    <tr>\n",
              "      <th>9411</th>\n",
              "      <td>1094</td>\n",
              "      <td>Love the dress! feel it fits true to size or slightly larger...knocked off a star as my dress arrived without the slip liner. i luckily have a slip that works from another dress...the beading is a lovely surprise! subtle and just enough sparkle in the sun, but not too much.</td>\n",
              "      <td>4</td>\n",
              "      <td>1</td>\n",
              "      <td>0.8732</td>\n",
              "      <td>Positive</td>\n",
              "      <td>1</td>\n",
              "      <td>Love the dress  feel it fits true to size or slightly larger   knocked off a star as my dress arrived without the slip liner  i luckily have a slip that works from another dress   the beading is a lovely surprise  subtle and just enough sparkle in the sun  but not too much</td>\n",
              "    </tr>\n",
              "    <tr>\n",
              "      <th>13520</th>\n",
              "      <td>1094</td>\n",
              "      <td>This dress has a great shape and fabric - but the v neckline is too deep/low and the arm holes are also cut too low. would loved to have been able to keep it but had to return.</td>\n",
              "      <td>2</td>\n",
              "      <td>0</td>\n",
              "      <td>0.5574</td>\n",
              "      <td>Positive</td>\n",
              "      <td>1</td>\n",
              "      <td>This dress has a great shape and fabric   but the v neckline is too deep low and the arm holes are also cut too low  would loved to have been able to keep it but had to return</td>\n",
              "    </tr>\n",
              "  </tbody>\n",
              "</table>\n",
              "</div>"
            ],
            "text/plain": [
              "       Clothing ID  ...                                                                                                                                                                                                                                                                        review_clean\n",
              "9411          1094  ...  Love the dress  feel it fits true to size or slightly larger   knocked off a star as my dress arrived without the slip liner  i luckily have a slip that works from another dress   the beading is a lovely surprise  subtle and just enough sparkle in the sun  but not too much \n",
              "13520         1094  ...                                                                                                    This dress has a great shape and fabric   but the v neckline is too deep low and the arm holes are also cut too low  would loved to have been able to keep it but had to return \n",
              "\n",
              "[2 rows x 8 columns]"
            ]
          },
          "metadata": {
            "tags": []
          },
          "execution_count": 26
        }
      ]
    },
    {
      "cell_type": "code",
      "metadata": {
        "colab": {
          "base_uri": "https://localhost:8080/"
        },
        "id": "hvLVl4hb42z0",
        "outputId": "c76ec126-3129-4643-b415-528eaf1fb0aa"
      },
      "source": [
        "select_data['Review Text'].fillna('')"
      ],
      "execution_count": 27,
      "outputs": [
        {
          "output_type": "execute_result",
          "data": {
            "text/plain": [
              "0                                                                                                                                                                                                                                                                                                                                                                                                                                                                      Absolutely wonderful - silky and sexy and comfortable\n",
              "1                                                                                                                                                                                                            Love this dress!  it's sooo pretty.  i happened to find it in a store, and i'm glad i did bc i never would have ordered it online bc it's petite.  i bought a petite and am 5'8\".  i love the length on me- hits just a little below the knee.  would definitely be a true midi on someone who is truly petite.\n",
              "2        I had such high hopes for this dress and really wanted it to work for me. i initially ordered the petite small (my usual size) but i found this to be outrageously small. so small in fact that i could not zip it up! i reordered it in petite medium, which was just ok. overall, the top half was comfortable and fit nicely, but the bottom half had a very tight under layer and several somewhat cheap (net) over layers. imo, a major design flaw was the net over layer sewn directly into the zipper - ...\n",
              "3                                                                                                                                                                                                                                                                                                                                                                                               I love, love, love this jumpsuit. it's fun, flirty, and fabulous! every time i wear it, i get nothing but great compliments!\n",
              "4                                                                                                                                                                                                                                                                                                                           This shirt is very flattering to all due to the adjustable front tie. it is the perfect length to wear with leggings and it is sleeveless so it pairs well with any cardigan. love this shirt!!!\n",
              "                                                                                                                                                                                                                                                                ...                                                                                                                                                                                                                                                         \n",
              "23481                                                                                                                                                                                                                                                                                                                                                                                    I was very happy to snag this dress at such a great price! it's very easy to slip on and has a very flattering cut and color combo.\n",
              "23482                                                                                                                                                                                                                                                                                       It reminds me of maternity clothes. soft, stretchy, shiny material. cut is flattering and drapes nicely. i only found one button to close front... looked awkward. nice long sleeves.\\nnot for me but maybe for others. just ok.\n",
              "23483                                                                                                                                                                                                                                                                                                       This fit well, but the top was very see through. this never would have worked for me. i'm glad i was able to try it on in the store and didn't order it online. with different fabric, it would have been great.\n",
              "23484                                                                            I bought this dress for a wedding i have this summer, and it's so cute. unfortunately the fit isn't perfect. the medium fits my waist perfectly, but was way too long and too big in the bust and shoulders. if i wanted to spend the money, i could get it tailored, but i just felt like it might not be worth it. side note - this dress was delivered to me with a nordstrom tag on it and i found it much cheaper there after looking!\n",
              "23485                                                                                                                                                                                                                                                                                                                                                                                                         This dress in a lovely platinum is feminine and fits perfectly, easy to wear and comfy, too! highly recommend!\n",
              "Name: Review Text, Length: 23486, dtype: object"
            ]
          },
          "metadata": {
            "tags": []
          },
          "execution_count": 27
        }
      ]
    },
    {
      "cell_type": "markdown",
      "metadata": {
        "id": "STyKAgqL5Ff2"
      },
      "source": [
        "CountVectorizer() converts a collection of text documents to a matrix of token counts. Then assign a shorter name for the analyze which tokenizes the string\r\n",
        "\r\n",
        "For wordcounts function\r\n",
        "- tokenize the string and continue, if it is not empty\r\n",
        "- find counts of the vocabularies and transform to array\r\n",
        "- define vocabulary and index (index of w)\r\n",
        "- items() transforms the dictionary's (word, index) tuple pairs\r\n",
        "\r\n",
        "\r\n",
        "Add new column to the dataframe for review_clean"
      ]
    },
    {
      "cell_type": "code",
      "metadata": {
        "id": "AmAekM0c5CiX"
      },
      "source": [
        "vectorizer = CountVectorizer()\r\n",
        "analyzer = vectorizer.build_analyzer()"
      ],
      "execution_count": 28,
      "outputs": []
    },
    {
      "cell_type": "code",
      "metadata": {
        "id": "pj1Fgr1w5JWo"
      },
      "source": [
        "def wordcounts(s):\r\n",
        "    c = {}\r\n",
        "   \r\n",
        "    if analyzer(s):\r\n",
        "        d = {} \r\n",
        "        w = vectorizer.fit_transform([s]).toarray()\r\n",
        "        vc = vectorizer.vocabulary_\r\n",
        "        for k,v in vc.items():\r\n",
        "            d[v]=k # d -> index:word \r\n",
        "        for index,i in enumerate(w[0]):\r\n",
        "            c[d[index]] = i # c -> word:count\r\n",
        "    return  c"
      ],
      "execution_count": 29,
      "outputs": []
    },
    {
      "cell_type": "code",
      "metadata": {
        "colab": {
          "base_uri": "https://localhost:8080/",
          "height": 505
        },
        "id": "3gWuhTKi5LnK",
        "outputId": "770ec0f1-85c6-4a4a-d628-22d85966dac3"
      },
      "source": [
        "select_data['review_clean']=select_data['review_clean'].values.astype('U')\r\n",
        "select_data['Word Counts']=select_data['review_clean'].apply(wordcounts)\r\n",
        "select_data.head(2)"
      ],
      "execution_count": 30,
      "outputs": [
        {
          "output_type": "stream",
          "text": [
            "/usr/local/lib/python3.6/dist-packages/ipykernel_launcher.py:1: SettingWithCopyWarning: \n",
            "A value is trying to be set on a copy of a slice from a DataFrame.\n",
            "Try using .loc[row_indexer,col_indexer] = value instead\n",
            "\n",
            "See the caveats in the documentation: https://pandas.pydata.org/pandas-docs/stable/user_guide/indexing.html#returning-a-view-versus-a-copy\n",
            "  \"\"\"Entry point for launching an IPython kernel.\n",
            "/usr/local/lib/python3.6/dist-packages/ipykernel_launcher.py:2: SettingWithCopyWarning: \n",
            "A value is trying to be set on a copy of a slice from a DataFrame.\n",
            "Try using .loc[row_indexer,col_indexer] = value instead\n",
            "\n",
            "See the caveats in the documentation: https://pandas.pydata.org/pandas-docs/stable/user_guide/indexing.html#returning-a-view-versus-a-copy\n",
            "  \n"
          ],
          "name": "stderr"
        },
        {
          "output_type": "execute_result",
          "data": {
            "text/html": [
              "<div>\n",
              "<style scoped>\n",
              "    .dataframe tbody tr th:only-of-type {\n",
              "        vertical-align: middle;\n",
              "    }\n",
              "\n",
              "    .dataframe tbody tr th {\n",
              "        vertical-align: top;\n",
              "    }\n",
              "\n",
              "    .dataframe thead th {\n",
              "        text-align: right;\n",
              "    }\n",
              "</style>\n",
              "<table border=\"1\" class=\"dataframe\">\n",
              "  <thead>\n",
              "    <tr style=\"text-align: right;\">\n",
              "      <th></th>\n",
              "      <th>Clothing ID</th>\n",
              "      <th>Review Text</th>\n",
              "      <th>Rating</th>\n",
              "      <th>Recommended IND</th>\n",
              "      <th>Polarity Score</th>\n",
              "      <th>Sentiment</th>\n",
              "      <th>label</th>\n",
              "      <th>review_clean</th>\n",
              "      <th>Word Counts</th>\n",
              "    </tr>\n",
              "  </thead>\n",
              "  <tbody>\n",
              "    <tr>\n",
              "      <th>0</th>\n",
              "      <td>767</td>\n",
              "      <td>Absolutely wonderful - silky and sexy and comfortable</td>\n",
              "      <td>4</td>\n",
              "      <td>1</td>\n",
              "      <td>0.8932</td>\n",
              "      <td>Positive</td>\n",
              "      <td>1</td>\n",
              "      <td>Absolutely wonderful   silky and sexy and comfortable</td>\n",
              "      <td>{'absolutely': 1, 'and': 2, 'comfortable': 1, 'sexy': 1, 'silky': 1, 'wonderful': 1}</td>\n",
              "    </tr>\n",
              "    <tr>\n",
              "      <th>1</th>\n",
              "      <td>1080</td>\n",
              "      <td>Love this dress!  it's sooo pretty.  i happened to find it in a store, and i'm glad i did bc i never would have ordered it online bc it's petite.  i bought a petite and am 5'8\".  i love the length on me- hits just a little below the knee.  would definitely be a true midi on someone who is truly petite.</td>\n",
              "      <td>5</td>\n",
              "      <td>1</td>\n",
              "      <td>0.9729</td>\n",
              "      <td>Positive</td>\n",
              "      <td>1</td>\n",
              "      <td>Love this dress   it's sooo pretty   i happened to find it in a store  and i'm glad i did bc i never would have ordered it online bc it's petite   i bought a petite and am  '     i love the length on me  hits just a little below the knee   would definitely be a true midi on someone who is truly petite</td>\n",
              "      <td>{'am': 1, 'and': 2, 'bc': 2, 'be': 1, 'below': 1, 'bought': 1, 'definitely': 1, 'did': 1, 'dress': 1, 'find': 1, 'glad': 1, 'happened': 1, 'have': 1, 'hits': 1, 'in': 1, 'is': 1, 'it': 4, 'just': 1, 'knee': 1, 'length': 1, 'little': 1, 'love': 2, 'me': 1, 'midi': 1, 'never': 1, 'on': 2, 'online': 1, 'ordered': 1, 'petite': 3, 'pretty': 1, 'someone': 1, 'sooo': 1, 'store': 1, 'the': 2, 'this': 1, 'to': 1, 'true': 1, 'truly': 1, 'who': 1, 'would': 2}</td>\n",
              "    </tr>\n",
              "  </tbody>\n",
              "</table>\n",
              "</div>"
            ],
            "text/plain": [
              "   Clothing ID  ...                                                                                                                                                                                                                                                                                                                                                                                                                                                           Word Counts\n",
              "0          767  ...                                                                                                                                                                                                                                                                                                                                                                                  {'absolutely': 1, 'and': 2, 'comfortable': 1, 'sexy': 1, 'silky': 1, 'wonderful': 1}\n",
              "1         1080  ...  {'am': 1, 'and': 2, 'bc': 2, 'be': 1, 'below': 1, 'bought': 1, 'definitely': 1, 'did': 1, 'dress': 1, 'find': 1, 'glad': 1, 'happened': 1, 'have': 1, 'hits': 1, 'in': 1, 'is': 1, 'it': 4, 'just': 1, 'knee': 1, 'length': 1, 'little': 1, 'love': 2, 'me': 1, 'midi': 1, 'never': 1, 'on': 2, 'online': 1, 'ordered': 1, 'petite': 3, 'pretty': 1, 'someone': 1, 'sooo': 1, 'store': 1, 'the': 2, 'this': 1, 'to': 1, 'true': 1, 'truly': 1, 'who': 1, 'would': 2}\n",
              "\n",
              "[2 rows x 9 columns]"
            ]
          },
          "metadata": {
            "tags": []
          },
          "execution_count": 30
        }
      ]
    },
    {
      "cell_type": "code",
      "metadata": {
        "colab": {
          "base_uri": "https://localhost:8080/",
          "height": 398
        },
        "id": "iCiP12iT5T5G",
        "outputId": "be429d26-42a7-44e7-d6b3-e7336cd56d1c"
      },
      "source": [
        "select_data['Sentiment'] = select_data['Rating'] >=4\r\n",
        "select_data.head(2)"
      ],
      "execution_count": 31,
      "outputs": [
        {
          "output_type": "stream",
          "text": [
            "/usr/local/lib/python3.6/dist-packages/ipykernel_launcher.py:1: SettingWithCopyWarning: \n",
            "A value is trying to be set on a copy of a slice from a DataFrame.\n",
            "Try using .loc[row_indexer,col_indexer] = value instead\n",
            "\n",
            "See the caveats in the documentation: https://pandas.pydata.org/pandas-docs/stable/user_guide/indexing.html#returning-a-view-versus-a-copy\n",
            "  \"\"\"Entry point for launching an IPython kernel.\n"
          ],
          "name": "stderr"
        },
        {
          "output_type": "execute_result",
          "data": {
            "text/html": [
              "<div>\n",
              "<style scoped>\n",
              "    .dataframe tbody tr th:only-of-type {\n",
              "        vertical-align: middle;\n",
              "    }\n",
              "\n",
              "    .dataframe tbody tr th {\n",
              "        vertical-align: top;\n",
              "    }\n",
              "\n",
              "    .dataframe thead th {\n",
              "        text-align: right;\n",
              "    }\n",
              "</style>\n",
              "<table border=\"1\" class=\"dataframe\">\n",
              "  <thead>\n",
              "    <tr style=\"text-align: right;\">\n",
              "      <th></th>\n",
              "      <th>Clothing ID</th>\n",
              "      <th>Review Text</th>\n",
              "      <th>Rating</th>\n",
              "      <th>Recommended IND</th>\n",
              "      <th>Polarity Score</th>\n",
              "      <th>Sentiment</th>\n",
              "      <th>label</th>\n",
              "      <th>review_clean</th>\n",
              "      <th>Word Counts</th>\n",
              "    </tr>\n",
              "  </thead>\n",
              "  <tbody>\n",
              "    <tr>\n",
              "      <th>0</th>\n",
              "      <td>767</td>\n",
              "      <td>Absolutely wonderful - silky and sexy and comfortable</td>\n",
              "      <td>4</td>\n",
              "      <td>1</td>\n",
              "      <td>0.8932</td>\n",
              "      <td>True</td>\n",
              "      <td>1</td>\n",
              "      <td>Absolutely wonderful   silky and sexy and comfortable</td>\n",
              "      <td>{'absolutely': 1, 'and': 2, 'comfortable': 1, 'sexy': 1, 'silky': 1, 'wonderful': 1}</td>\n",
              "    </tr>\n",
              "    <tr>\n",
              "      <th>1</th>\n",
              "      <td>1080</td>\n",
              "      <td>Love this dress!  it's sooo pretty.  i happened to find it in a store, and i'm glad i did bc i never would have ordered it online bc it's petite.  i bought a petite and am 5'8\".  i love the length on me- hits just a little below the knee.  would definitely be a true midi on someone who is truly petite.</td>\n",
              "      <td>5</td>\n",
              "      <td>1</td>\n",
              "      <td>0.9729</td>\n",
              "      <td>True</td>\n",
              "      <td>1</td>\n",
              "      <td>Love this dress   it's sooo pretty   i happened to find it in a store  and i'm glad i did bc i never would have ordered it online bc it's petite   i bought a petite and am  '     i love the length on me  hits just a little below the knee   would definitely be a true midi on someone who is truly petite</td>\n",
              "      <td>{'am': 1, 'and': 2, 'bc': 2, 'be': 1, 'below': 1, 'bought': 1, 'definitely': 1, 'did': 1, 'dress': 1, 'find': 1, 'glad': 1, 'happened': 1, 'have': 1, 'hits': 1, 'in': 1, 'is': 1, 'it': 4, 'just': 1, 'knee': 1, 'length': 1, 'little': 1, 'love': 2, 'me': 1, 'midi': 1, 'never': 1, 'on': 2, 'online': 1, 'ordered': 1, 'petite': 3, 'pretty': 1, 'someone': 1, 'sooo': 1, 'store': 1, 'the': 2, 'this': 1, 'to': 1, 'true': 1, 'truly': 1, 'who': 1, 'would': 2}</td>\n",
              "    </tr>\n",
              "  </tbody>\n",
              "</table>\n",
              "</div>"
            ],
            "text/plain": [
              "   Clothing ID  ...                                                                                                                                                                                                                                                                                                                                                                                                                                                           Word Counts\n",
              "0          767  ...                                                                                                                                                                                                                                                                                                                                                                                  {'absolutely': 1, 'and': 2, 'comfortable': 1, 'sexy': 1, 'silky': 1, 'wonderful': 1}\n",
              "1         1080  ...  {'am': 1, 'and': 2, 'bc': 2, 'be': 1, 'below': 1, 'bought': 1, 'definitely': 1, 'did': 1, 'dress': 1, 'find': 1, 'glad': 1, 'happened': 1, 'have': 1, 'hits': 1, 'in': 1, 'is': 1, 'it': 4, 'just': 1, 'knee': 1, 'length': 1, 'little': 1, 'love': 2, 'me': 1, 'midi': 1, 'never': 1, 'on': 2, 'online': 1, 'ordered': 1, 'petite': 3, 'pretty': 1, 'someone': 1, 'sooo': 1, 'store': 1, 'the': 2, 'this': 1, 'to': 1, 'true': 1, 'truly': 1, 'who': 1, 'would': 2}\n",
              "\n",
              "[2 rows x 9 columns]"
            ]
          },
          "metadata": {
            "tags": []
          },
          "execution_count": 31
        }
      ]
    },
    {
      "cell_type": "markdown",
      "metadata": {
        "id": "TJyBhf-x5pfz"
      },
      "source": [
        "### **Modeling Data Using Supervised Learning Model**"
      ]
    },
    {
      "cell_type": "markdown",
      "metadata": {
        "id": "VkI3y84r5s1O"
      },
      "source": [
        "Define Rating Categorical\r\n",
        "- Rating of 4 or higher -> positive, while the ones with \r\n",
        "- Rating of 2 or lower -> negative \r\n",
        "- Rating of 3 -> neutral\r\n",
        "\r\n",
        "Split data, select the columns and prepare data for the models"
      ]
    },
    {
      "cell_type": "code",
      "metadata": {
        "id": "g0sFwhNV5he5"
      },
      "source": [
        "select_data = select_data[select_data['Rating'] != 3]\r\n",
        "select_data['Sentiment'] = select_data['Rating'] >=4\r\n",
        "select_data.head()\r\n",
        "\r\n",
        "train_data,test_data = train_test_split(select_data,train_size=0.8,random_state=0)\r\n",
        " \r\n",
        "X_train = vectorizer.fit_transform(train_data['review_clean'])\r\n",
        "y_train = train_data['Sentiment']\r\n",
        "X_test = vectorizer.transform(test_data['review_clean'])\r\n",
        "y_test = test_data['Sentiment']"
      ],
      "execution_count": 32,
      "outputs": []
    },
    {
      "cell_type": "markdown",
      "metadata": {
        "id": "BFc6162c58qv"
      },
      "source": [
        "Code for error 'Nan'\r\n",
        "\r\n",
        "    .values.astype('U')"
      ]
    },
    {
      "cell_type": "code",
      "metadata": {
        "colab": {
          "base_uri": "https://localhost:8080/"
        },
        "id": "wWRYMbff55De",
        "outputId": "3a656b66-875a-4a75-b0e5-79a83a50c702"
      },
      "source": [
        "start=dt.datetime.now()\r\n",
        "nb = MultinomialNB()\r\n",
        "nb.fit(X_train,y_train)\r\n",
        "print('Elapsed time: ',str(dt.datetime.now()-start))"
      ],
      "execution_count": 33,
      "outputs": [
        {
          "output_type": "stream",
          "text": [
            "Elapsed time:  0:00:00.014091\n"
          ],
          "name": "stdout"
        }
      ]
    },
    {
      "cell_type": "code",
      "metadata": {
        "colab": {
          "base_uri": "https://localhost:8080/"
        },
        "id": "5xQAV5St5_vC",
        "outputId": "fcf48077-f546-4b8d-997d-7d0eb7937595"
      },
      "source": [
        "start=dt.datetime.now()\r\n",
        "svm = SVC()\r\n",
        "svm.fit(X_train,y_train)\r\n",
        "print('Elapsed time: ',str(dt.datetime.now()-start))"
      ],
      "execution_count": 34,
      "outputs": [
        {
          "output_type": "stream",
          "text": [
            "Elapsed time:  0:00:48.027633\n"
          ],
          "name": "stdout"
        }
      ]
    },
    {
      "cell_type": "code",
      "metadata": {
        "colab": {
          "base_uri": "https://localhost:8080/",
          "height": 106
        },
        "id": "DHLOwN5P6B92",
        "outputId": "61550822-ce75-4810-a223-37466e7a7e44"
      },
      "source": [
        "train_data[['Clothing ID', 'Review Text', 'Sentiment']].head(2)"
      ],
      "execution_count": 35,
      "outputs": [
        {
          "output_type": "execute_result",
          "data": {
            "text/html": [
              "<div>\n",
              "<style scoped>\n",
              "    .dataframe tbody tr th:only-of-type {\n",
              "        vertical-align: middle;\n",
              "    }\n",
              "\n",
              "    .dataframe tbody tr th {\n",
              "        vertical-align: top;\n",
              "    }\n",
              "\n",
              "    .dataframe thead th {\n",
              "        text-align: right;\n",
              "    }\n",
              "</style>\n",
              "<table border=\"1\" class=\"dataframe\">\n",
              "  <thead>\n",
              "    <tr style=\"text-align: right;\">\n",
              "      <th></th>\n",
              "      <th>Clothing ID</th>\n",
              "      <th>Review Text</th>\n",
              "      <th>Sentiment</th>\n",
              "    </tr>\n",
              "  </thead>\n",
              "  <tbody>\n",
              "    <tr>\n",
              "      <th>19218</th>\n",
              "      <td>1078</td>\n",
              "      <td>I love this dress's gentle blue lace. the silhouette is just as seen in the pictures. i found the dress tight in the chest and had to size up one size (6 to 8).</td>\n",
              "      <td>True</td>\n",
              "    </tr>\n",
              "    <tr>\n",
              "      <th>3530</th>\n",
              "      <td>872</td>\n",
              "      <td>Beautiful choice...beautiful fit for my daughter's slim body</td>\n",
              "      <td>True</td>\n",
              "    </tr>\n",
              "  </tbody>\n",
              "</table>\n",
              "</div>"
            ],
            "text/plain": [
              "       Clothing ID  ... Sentiment\n",
              "19218         1078  ...      True\n",
              "3530           872  ...      True\n",
              "\n",
              "[2 rows x 3 columns]"
            ]
          },
          "metadata": {
            "tags": []
          },
          "execution_count": 35
        }
      ]
    },
    {
      "cell_type": "markdown",
      "metadata": {
        "id": "-T4WcBoK6SIC"
      },
      "source": [
        "Define a dataframe for the predictions"
      ]
    },
    {
      "cell_type": "code",
      "metadata": {
        "colab": {
          "base_uri": "https://localhost:8080/",
          "height": 543
        },
        "id": "FlcDTUWb6Py4",
        "outputId": "4d8a1ae9-f7e3-4e1c-c773-ec1a79e4cb3b"
      },
      "source": [
        "df_predict = train_data[['Clothing ID', 'Review Text', 'Sentiment']].copy()\r\n",
        "df_predict['Naive Bayes'] = nb.predict(X_train)\r\n",
        "df_predict['SVM'] = svm.predict(X_train)\r\n",
        "df_predict.head(10)"
      ],
      "execution_count": 36,
      "outputs": [
        {
          "output_type": "execute_result",
          "data": {
            "text/html": [
              "<div>\n",
              "<style scoped>\n",
              "    .dataframe tbody tr th:only-of-type {\n",
              "        vertical-align: middle;\n",
              "    }\n",
              "\n",
              "    .dataframe tbody tr th {\n",
              "        vertical-align: top;\n",
              "    }\n",
              "\n",
              "    .dataframe thead th {\n",
              "        text-align: right;\n",
              "    }\n",
              "</style>\n",
              "<table border=\"1\" class=\"dataframe\">\n",
              "  <thead>\n",
              "    <tr style=\"text-align: right;\">\n",
              "      <th></th>\n",
              "      <th>Clothing ID</th>\n",
              "      <th>Review Text</th>\n",
              "      <th>Sentiment</th>\n",
              "      <th>Naive Bayes</th>\n",
              "      <th>SVM</th>\n",
              "    </tr>\n",
              "  </thead>\n",
              "  <tbody>\n",
              "    <tr>\n",
              "      <th>19218</th>\n",
              "      <td>1078</td>\n",
              "      <td>I love this dress's gentle blue lace. the silhouette is just as seen in the pictures. i found the dress tight in the chest and had to size up one size (6 to 8).</td>\n",
              "      <td>True</td>\n",
              "      <td>True</td>\n",
              "      <td>True</td>\n",
              "    </tr>\n",
              "    <tr>\n",
              "      <th>3530</th>\n",
              "      <td>872</td>\n",
              "      <td>Beautiful choice...beautiful fit for my daughter's slim body</td>\n",
              "      <td>True</td>\n",
              "      <td>True</td>\n",
              "      <td>True</td>\n",
              "    </tr>\n",
              "    <tr>\n",
              "      <th>15663</th>\n",
              "      <td>1078</td>\n",
              "      <td>If you are shaped anything like me, you will have to size up quite a bit on this one. i tried it on in my normal size and probably needed to size up 2 or more sizes to get the proper fit. the fabric has no \"give\" and feels a little cheap in my opinion. for your reference, i am a curvy, athletic build with broad shoulders.</td>\n",
              "      <td>True</td>\n",
              "      <td>True</td>\n",
              "      <td>True</td>\n",
              "    </tr>\n",
              "    <tr>\n",
              "      <th>21310</th>\n",
              "      <td>836</td>\n",
              "      <td>This top is so cute and of spectacular quality, but you have to size up! i'm a 10/m/34c all the time. i almost never have to size up or down. but this top was so tight around the bust that i couldn't possibly have closed the zipper in the back. i'm sending it back for a l in the hopes of a better fit. the coloring of the owls is out-of-this-world cute, so i'm keeping my fingers crossed that a larger size will be just right.</td>\n",
              "      <td>True</td>\n",
              "      <td>True</td>\n",
              "      <td>True</td>\n",
              "    </tr>\n",
              "    <tr>\n",
              "      <th>15154</th>\n",
              "      <td>940</td>\n",
              "      <td>First saw this poncho on a petite blog and after reading reviews happily paid full price. i followed the petite reviews and purchased the xs regular. the length hits right below my bum so it's perfectly structured to wear with leggings. the cable knit is super soft and very warm. wore this for the first time last weekend layered over a long sleeve tee and was perfectly cozy outside for a fall day in chicago. this item will not last long and is well worth paying full price.</td>\n",
              "      <td>True</td>\n",
              "      <td>True</td>\n",
              "      <td>True</td>\n",
              "    </tr>\n",
              "    <tr>\n",
              "      <th>3994</th>\n",
              "      <td>1094</td>\n",
              "      <td>This dress has a beautiful fit--5'4\", 150 lbs, 34ddd, and the medium regular fit great. the only issue is that the bottom part of the dress wrinkles terribly. when i bought it, the woman folded it nicely, and i stashed it in my car for the rest of my shopping trip. when i arrived home and pulled it out, the bottom of the dress was horribly wrinkled. plus it's dry clean only. going back. :(</td>\n",
              "      <td>True</td>\n",
              "      <td>False</td>\n",
              "      <td>True</td>\n",
              "    </tr>\n",
              "    <tr>\n",
              "      <th>8250</th>\n",
              "      <td>867</td>\n",
              "      <td>I just love the print on this shirt!  it is so feminine and pretty!  the material is very soft!  i took my usual medium.  a great addition to my spring wardrobe!</td>\n",
              "      <td>True</td>\n",
              "      <td>True</td>\n",
              "      <td>True</td>\n",
              "    </tr>\n",
              "    <tr>\n",
              "      <th>1417</th>\n",
              "      <td>1094</td>\n",
              "      <td>This dress is perfection it is extremely comfortable and versatile. great for dressing up or down. i am large busted (36g) so was delighted that it stretches as this is a problem for me finding clothing to fit allover. i am petite 5\"1 with a curvy figure and a regular medium fit great!</td>\n",
              "      <td>True</td>\n",
              "      <td>True</td>\n",
              "      <td>True</td>\n",
              "    </tr>\n",
              "    <tr>\n",
              "      <th>17580</th>\n",
              "      <td>1110</td>\n",
              "      <td>I was too late to find my size in petite. boo. i tried the regular sizing and it was huge...a total tent. i am 5'4\" about 118#. i tried an xs. it was gigantic to say the least. huge everywhere. i love that the fabric is thick but yet doesn't feel heavy or hot. i think it would be the perfect summer dress...could wear casually or dress it up. don't need a slip (what a plus for a white dress!) i definitely needed a petite size and most likely from the size of the xs a pxxs. really? i know i ha...</td>\n",
              "      <td>True</td>\n",
              "      <td>True</td>\n",
              "      <td>True</td>\n",
              "    </tr>\n",
              "    <tr>\n",
              "      <th>7819</th>\n",
              "      <td>872</td>\n",
              "      <td>This shell can be worn casual or dressy depending on what it is paired with. enjoy!</td>\n",
              "      <td>True</td>\n",
              "      <td>True</td>\n",
              "      <td>True</td>\n",
              "    </tr>\n",
              "  </tbody>\n",
              "</table>\n",
              "</div>"
            ],
            "text/plain": [
              "       Clothing ID  ...   SVM\n",
              "19218         1078  ...  True\n",
              "3530           872  ...  True\n",
              "15663         1078  ...  True\n",
              "21310          836  ...  True\n",
              "15154          940  ...  True\n",
              "3994          1094  ...  True\n",
              "8250           867  ...  True\n",
              "1417          1094  ...  True\n",
              "17580         1110  ...  True\n",
              "7819           872  ...  True\n",
              "\n",
              "[10 rows x 5 columns]"
            ]
          },
          "metadata": {
            "tags": []
          },
          "execution_count": 36
        }
      ]
    },
    {
      "cell_type": "markdown",
      "metadata": {
        "id": "uKxDTowC6XjC"
      },
      "source": [
        "Preparation for the confusion matrix"
      ]
    },
    {
      "cell_type": "code",
      "metadata": {
        "colab": {
          "base_uri": "https://localhost:8080/",
          "height": 431
        },
        "id": "p2ygh2tu6VKE",
        "outputId": "81b67146-69f3-4a21-d1f5-b2001603d5ec"
      },
      "source": [
        "nb_cm=confusion_matrix(y_test.values, nb.predict(X_test))\r\n",
        "svm_cm=confusion_matrix(y_test.values, svm.predict(X_test))\r\n",
        "\r\n",
        "plt.figure(figsize=(15,12))\r\n",
        "plt.suptitle(\"Confusion Matrices\",fontsize=24)\r\n",
        "\r\n",
        "plt.subplot(221)\r\n",
        "plt.title(\"Naive Bayes\")\r\n",
        "sns.heatmap(nb_cm, annot = True, cmap=\"Pastel2\",cbar=False);\r\n",
        "\r\n",
        "plt.subplot(222)\r\n",
        "plt.title(\"Support Vector Machine (SVM)\")\r\n",
        "sns.heatmap(svm_cm, annot = True, cmap=\"Pastel2\",cbar=False);"
      ],
      "execution_count": 37,
      "outputs": [
        {
          "output_type": "display_data",
          "data": {
            "image/png": "[encoded data removed]",
            "text/plain": [
              "<Figure size 1080x864 with 2 Axes>"
            ]
          },
          "metadata": {
            "tags": [],
            "needs_background": "light"
          }
        }
      ]
    },
    {
      "cell_type": "markdown",
      "metadata": {
        "id": "1yitjsCn6y-W"
      },
      "source": [
        "Precision - Recall - F1-Score"
      ]
    },
    {
      "cell_type": "code",
      "metadata": {
        "colab": {
          "base_uri": "https://localhost:8080/"
        },
        "id": "9AFrZNuu6t6e",
        "outputId": "7e16a335-5732-4f90-ef2c-36d5f8d9bc15"
      },
      "source": [
        "print(\"\\n Naive Bayes\")\r\n",
        "print(mt.classification_report(y_test, nb.predict(X_test)))\r\n",
        "print(\"\\n Support Vector Machine (SVM)\")\r\n",
        "print(mt.classification_report(y_test, svm.predict(X_test)))"
      ],
      "execution_count": 38,
      "outputs": [
        {
          "output_type": "stream",
          "text": [
            "\n",
            " Naive Bayes\n",
            "              precision    recall  f1-score   support\n",
            "\n",
            "       False       0.77      0.65      0.71       458\n",
            "        True       0.96      0.98      0.97      3665\n",
            "\n",
            "    accuracy                           0.94      4123\n",
            "   macro avg       0.87      0.81      0.84      4123\n",
            "weighted avg       0.94      0.94      0.94      4123\n",
            "\n",
            "\n",
            " Support Vector Machine (SVM)\n",
            "              precision    recall  f1-score   support\n",
            "\n",
            "       False       0.84      0.46      0.59       458\n",
            "        True       0.94      0.99      0.96      3665\n",
            "\n",
            "    accuracy                           0.93      4123\n",
            "   macro avg       0.89      0.72      0.78      4123\n",
            "weighted avg       0.92      0.93      0.92      4123\n",
            "\n"
          ],
          "name": "stdout"
        }
      ]
    },
    {
      "cell_type": "markdown",
      "metadata": {
        "id": "xYUygDws7Kcw"
      },
      "source": [
        "### **See The Prediction**"
      ]
    },
    {
      "cell_type": "markdown",
      "metadata": {
        "id": "cLQwzDLx7Qry"
      },
      "source": [
        "Dataframe for the predictions using \r\n",
        "\r\n",
        "      df_predict"
      ]
    },
    {
      "cell_type": "code",
      "metadata": {
        "colab": {
          "base_uri": "https://localhost:8080/",
          "height": 186
        },
        "id": "4IPZkBGM62Lc",
        "outputId": "22a1755e-6e69-429a-f999-a00917b167c4"
      },
      "source": [
        "df_predict.sample(3)"
      ],
      "execution_count": 39,
      "outputs": [
        {
          "output_type": "execute_result",
          "data": {
            "text/html": [
              "<div>\n",
              "<style scoped>\n",
              "    .dataframe tbody tr th:only-of-type {\n",
              "        vertical-align: middle;\n",
              "    }\n",
              "\n",
              "    .dataframe tbody tr th {\n",
              "        vertical-align: top;\n",
              "    }\n",
              "\n",
              "    .dataframe thead th {\n",
              "        text-align: right;\n",
              "    }\n",
              "</style>\n",
              "<table border=\"1\" class=\"dataframe\">\n",
              "  <thead>\n",
              "    <tr style=\"text-align: right;\">\n",
              "      <th></th>\n",
              "      <th>Clothing ID</th>\n",
              "      <th>Review Text</th>\n",
              "      <th>Sentiment</th>\n",
              "      <th>Naive Bayes</th>\n",
              "      <th>SVM</th>\n",
              "    </tr>\n",
              "  </thead>\n",
              "  <tbody>\n",
              "    <tr>\n",
              "      <th>16969</th>\n",
              "      <td>984</td>\n",
              "      <td>I love this jacket. the color is what drew me to it and it looks just like the picture. as far as sizing goes, i'm usually a medium but i ordered a small and it fit well. i feel that if i had ordered a medium it would look a little too puffy for my taste. the small gives me a more fitted look.</td>\n",
              "      <td>True</td>\n",
              "      <td>True</td>\n",
              "      <td>True</td>\n",
              "    </tr>\n",
              "    <tr>\n",
              "      <th>17007</th>\n",
              "      <td>820</td>\n",
              "      <td>Absolutely stunning top! love! what a great buy on sale! i wear a medium/large and purchased the size 12...fits perfect! beware that the bottom has somewhat of a flair! the material is light so i would say this top is something to be worn transitioning between seasons, late summer to fall!</td>\n",
              "      <td>True</td>\n",
              "      <td>True</td>\n",
              "      <td>True</td>\n",
              "    </tr>\n",
              "    <tr>\n",
              "      <th>10379</th>\n",
              "      <td>1020</td>\n",
              "      <td>It's a beautiful skirt. the color is vivid and the skirt is flattering.</td>\n",
              "      <td>True</td>\n",
              "      <td>True</td>\n",
              "      <td>True</td>\n",
              "    </tr>\n",
              "  </tbody>\n",
              "</table>\n",
              "</div>"
            ],
            "text/plain": [
              "       Clothing ID  ...   SVM\n",
              "16969          984  ...  True\n",
              "17007          820  ...  True\n",
              "10379         1020  ...  True\n",
              "\n",
              "[3 rows x 5 columns]"
            ]
          },
          "metadata": {
            "tags": []
          },
          "execution_count": 39
        }
      ]
    },
    {
      "cell_type": "code",
      "metadata": {
        "colab": {
          "base_uri": "https://localhost:8080/",
          "height": 409
        },
        "id": "XW6j63mr7UEC",
        "outputId": "4f5a4343-6b0c-45b8-b9ee-31e1f0a86147"
      },
      "source": [
        "df_predict.sample(6)"
      ],
      "execution_count": 40,
      "outputs": [
        {
          "output_type": "execute_result",
          "data": {
            "text/html": [
              "<div>\n",
              "<style scoped>\n",
              "    .dataframe tbody tr th:only-of-type {\n",
              "        vertical-align: middle;\n",
              "    }\n",
              "\n",
              "    .dataframe tbody tr th {\n",
              "        vertical-align: top;\n",
              "    }\n",
              "\n",
              "    .dataframe thead th {\n",
              "        text-align: right;\n",
              "    }\n",
              "</style>\n",
              "<table border=\"1\" class=\"dataframe\">\n",
              "  <thead>\n",
              "    <tr style=\"text-align: right;\">\n",
              "      <th></th>\n",
              "      <th>Clothing ID</th>\n",
              "      <th>Review Text</th>\n",
              "      <th>Sentiment</th>\n",
              "      <th>Naive Bayes</th>\n",
              "      <th>SVM</th>\n",
              "    </tr>\n",
              "  </thead>\n",
              "  <tbody>\n",
              "    <tr>\n",
              "      <th>10617</th>\n",
              "      <td>1028</td>\n",
              "      <td>I love the coh fleetwood jeans, and since i was looking for a pair of not-so-skinny skinny jeans, i thought these would be great. but unlike the fleetwoods, which are a substantial weight denim, these are very soft -- too soft -- and bag out in the first 5 minutes. the style is okay but the fabric makes them unflattering. maybe if you're looking for jeans you can lounge in, these will be for you because they do have the comfort equivalent of sweats.</td>\n",
              "      <td>False</td>\n",
              "      <td>True</td>\n",
              "      <td>True</td>\n",
              "    </tr>\n",
              "    <tr>\n",
              "      <th>14887</th>\n",
              "      <td>833</td>\n",
              "      <td>Love the look. love the fit for both professional and casual looks!!</td>\n",
              "      <td>True</td>\n",
              "      <td>True</td>\n",
              "      <td>True</td>\n",
              "    </tr>\n",
              "    <tr>\n",
              "      <th>18279</th>\n",
              "      <td>1033</td>\n",
              "      <td>Loved these when i tried them on they fit well and were so flattering. i am a size 0/2 and 5' tall and have a 'bubble butt' and thicker thighs with a narrow waist i tried on a 24 they we a little tight on my bum and thighs but the waist was perfect, tried on a 25 and they were much more comfortable on my legs and worked on my waist as well. i thought all was good but after wearing them out for not even ten minutes they started slipping down constantly and loosed up around all areas especiall...</td>\n",
              "      <td>False</td>\n",
              "      <td>False</td>\n",
              "      <td>False</td>\n",
              "    </tr>\n",
              "    <tr>\n",
              "      <th>779</th>\n",
              "      <td>895</td>\n",
              "      <td>I bought this a month ago and returned it. but kept thinking about it so ordered it. it arrived on wed and i wore it on thursday as a dress with tights. i got so many compliments on it. it was perfect for the cool weather and was not too warm.\\n\\nthis knitter thinks the quality of the jacquard knit is excellent. yarn used is top notch.</td>\n",
              "      <td>True</td>\n",
              "      <td>True</td>\n",
              "      <td>True</td>\n",
              "    </tr>\n",
              "    <tr>\n",
              "      <th>4612</th>\n",
              "      <td>54</td>\n",
              "      <td>nan</td>\n",
              "      <td>True</td>\n",
              "      <td>True</td>\n",
              "      <td>True</td>\n",
              "    </tr>\n",
              "    <tr>\n",
              "      <th>3513</th>\n",
              "      <td>872</td>\n",
              "      <td>This top caught my eye in store because of the fabric texture and light gray color. i wasn't too sure i'd like the cut on the bottom, but the neckline was so lovely i thought i'd try it out. i went with a small which is my usual (if not extra small) and loved it as soon as i put it on. the shape is very flattering, even with my post baby figure. i definitely think that it's better in person than in the photos online. and the price seems very good for a lovely sweater that's both classic and ...</td>\n",
              "      <td>True</td>\n",
              "      <td>True</td>\n",
              "      <td>True</td>\n",
              "    </tr>\n",
              "  </tbody>\n",
              "</table>\n",
              "</div>"
            ],
            "text/plain": [
              "       Clothing ID  ...    SVM\n",
              "10617         1028  ...   True\n",
              "14887          833  ...   True\n",
              "18279         1033  ...  False\n",
              "779            895  ...   True\n",
              "4612            54  ...   True\n",
              "3513           872  ...   True\n",
              "\n",
              "[6 rows x 5 columns]"
            ]
          },
          "metadata": {
            "tags": []
          },
          "execution_count": 40
        }
      ]
    },
    {
      "cell_type": "code",
      "metadata": {
        "colab": {
          "base_uri": "https://localhost:8080/",
          "height": 598
        },
        "id": "NVHiIlty7WOl",
        "outputId": "b4a14db4-b944-4570-84c6-eee4dda5fa89"
      },
      "source": [
        "df_predict.sample(9)"
      ],
      "execution_count": 41,
      "outputs": [
        {
          "output_type": "execute_result",
          "data": {
            "text/html": [
              "<div>\n",
              "<style scoped>\n",
              "    .dataframe tbody tr th:only-of-type {\n",
              "        vertical-align: middle;\n",
              "    }\n",
              "\n",
              "    .dataframe tbody tr th {\n",
              "        vertical-align: top;\n",
              "    }\n",
              "\n",
              "    .dataframe thead th {\n",
              "        text-align: right;\n",
              "    }\n",
              "</style>\n",
              "<table border=\"1\" class=\"dataframe\">\n",
              "  <thead>\n",
              "    <tr style=\"text-align: right;\">\n",
              "      <th></th>\n",
              "      <th>Clothing ID</th>\n",
              "      <th>Review Text</th>\n",
              "      <th>Sentiment</th>\n",
              "      <th>Naive Bayes</th>\n",
              "      <th>SVM</th>\n",
              "    </tr>\n",
              "  </thead>\n",
              "  <tbody>\n",
              "    <tr>\n",
              "      <th>17583</th>\n",
              "      <td>1110</td>\n",
              "      <td>I bought this dress to wear to one of the upcoming events leading up to my wedding in mexico. it's the perfect mix of casual yet refined. as another reviewer mentioned, it is a bit tight through the bust, but luckily i wasn't blessed in that area. i would caution that there is absolutely no stretch to this dress. it's a true, straight shift. i'm going to rock it with turquoise and flats in mexico.</td>\n",
              "      <td>True</td>\n",
              "      <td>True</td>\n",
              "      <td>True</td>\n",
              "    </tr>\n",
              "    <tr>\n",
              "      <th>5377</th>\n",
              "      <td>1059</td>\n",
              "      <td>Loved these in store when i tried them on but was in between sizes so i ordered them in the larger size. boy do i regret that! these stretch out so much i have to wear a belt with them and it gives me this saggy bunchy front when i sit...not attractive. wish i could return them, but i took the tag off and wore them not knowing this before hand!! if in between sizes definitely size down.</td>\n",
              "      <td>False</td>\n",
              "      <td>False</td>\n",
              "      <td>False</td>\n",
              "    </tr>\n",
              "    <tr>\n",
              "      <th>121</th>\n",
              "      <td>966</td>\n",
              "      <td>Great look and you can wear this vest with almost everything . i normally wear a small but they only had mediums and it fit fine( i like it tied). this will stay in my closet all year round . it does look like it will wrinkle easily but that doesn't bother me . a must buy !</td>\n",
              "      <td>True</td>\n",
              "      <td>True</td>\n",
              "      <td>True</td>\n",
              "    </tr>\n",
              "    <tr>\n",
              "      <th>8897</th>\n",
              "      <td>828</td>\n",
              "      <td>I adore this top. it is super soft, drapes nicely, and looks great with a ton of different bottoms. i am 5'4\", 104 lbs., and ordered this in both xs (my usual size), and s. i ended up keeping the s (most cloth &amp; stone xs tops swim on me, so i was a little surprised), but glad i tried both. my only concern is how it will hold up after washing it. it is a gauze-like material, and i just hope i can get a long life out if this top.</td>\n",
              "      <td>True</td>\n",
              "      <td>True</td>\n",
              "      <td>True</td>\n",
              "    </tr>\n",
              "    <tr>\n",
              "      <th>13717</th>\n",
              "      <td>862</td>\n",
              "      <td>I tried on xs in the store (returned) and it looked huge on me, i like the rushing idea, the material is super soft, but overall, couldn't justify even at sale with 40% off, as it wasn't flattering when it looks big. blue color nice in person.</td>\n",
              "      <td>True</td>\n",
              "      <td>False</td>\n",
              "      <td>False</td>\n",
              "    </tr>\n",
              "    <tr>\n",
              "      <th>4167</th>\n",
              "      <td>857</td>\n",
              "      <td>Love this! i am 5' 118 and the medium fits like a dress, not a tunic. i opted for the medium because i didn't want the fit to be tight. it is thin so you'll need a slip.</td>\n",
              "      <td>True</td>\n",
              "      <td>True</td>\n",
              "      <td>True</td>\n",
              "    </tr>\n",
              "    <tr>\n",
              "      <th>20796</th>\n",
              "      <td>1094</td>\n",
              "      <td>If i had to describe on two words, that would be it. the material is not a stiff no-give material, nbut rahter a soft stretchy material, with some depth (the design has \"grooves\", not sure how to explain it#. if you are short, i would definitely go with petite though, it was a little too long on regular size and hit in the \"wrong\" spot on my calves. very flattering, and nice cut. i dind't order yet as it is new and i jsut bought a few dresses... but in my basket forh te next \"sale\" :) #if th...</td>\n",
              "      <td>True</td>\n",
              "      <td>True</td>\n",
              "      <td>True</td>\n",
              "    </tr>\n",
              "    <tr>\n",
              "      <th>6756</th>\n",
              "      <td>1033</td>\n",
              "      <td>I'm so glad to own this one. i just tried it today and fully satisfied as always with pilcro. true to size, perfect color.\\nhigh waisted and flare just right. can be paired with cropped top or peasant top. looking taller on this outfit!\\nbest of all i got it on sale!</td>\n",
              "      <td>True</td>\n",
              "      <td>True</td>\n",
              "      <td>True</td>\n",
              "    </tr>\n",
              "    <tr>\n",
              "      <th>1490</th>\n",
              "      <td>936</td>\n",
              "      <td>I wish i hadn't waited so long to buy this! the smalls were sold out in grey by the time i finially did, but the medium ended up being totally fine. perfect for a warmer winter, it is pretty thin so i wouldn't trust it on it's own to keep you warm in cold weather, but easily could be layered! i love the fun aspect of the tie front for this sweater as the front tuck is becoming a little tired in my eyes. i love that you can make it shorter or longer or even tuck it in because the ties aren't ...</td>\n",
              "      <td>True</td>\n",
              "      <td>True</td>\n",
              "      <td>True</td>\n",
              "    </tr>\n",
              "  </tbody>\n",
              "</table>\n",
              "</div>"
            ],
            "text/plain": [
              "       Clothing ID  ...    SVM\n",
              "17583         1110  ...   True\n",
              "5377          1059  ...  False\n",
              "121            966  ...   True\n",
              "8897           828  ...   True\n",
              "13717          862  ...  False\n",
              "4167           857  ...   True\n",
              "20796         1094  ...   True\n",
              "6756          1033  ...   True\n",
              "1490           936  ...   True\n",
              "\n",
              "[9 rows x 5 columns]"
            ]
          },
          "metadata": {
            "tags": []
          },
          "execution_count": 41
        }
      ]
    }
  ]
}