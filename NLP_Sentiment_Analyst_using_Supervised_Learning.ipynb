{
  "nbformat": 4,
  "nbformat_minor": 0,
  "metadata": {
    "colab": {
      "name": "NLP_Sentiment_Analyst_using_Supervised_Learning.ipynb",
      "provenance": [],
      "collapsed_sections": [
        "45p5-zLc03hj",
        "an5ri2r72Ul3",
        "FanxbXRT4kl1",
        "eg4N24_d7IKq"
      ],
      "toc_visible": true,
      "authorship_tag": "ABX9TyPG+hNTCgDUpXph/MGWp8XS",
      "include_colab_link": true
    },
    "kernelspec": {
      "display_name": "Python 3",
      "name": "python3"
    },
    "accelerator": "TPU"
  },
  "cells": [
    {
      "cell_type": "markdown",
      "metadata": {
        "id": "view-in-github",
        "colab_type": "text"
      },
      "source": [
        "<a href=\"https://colab.research.google.com/github/NoerNikmat/sentiment_analysis_using_supervised_learning/blob/main/NLP_Sentiment_Analyst_using_Supervised_Learning.ipynb\" target=\"_parent\"><img src=\"https://colab.research.google.com/assets/colab-badge.svg\" alt=\"Open In Colab\"/></a>"
      ]
    },
    {
      "cell_type": "markdown",
      "metadata": {
        "id": "45p5-zLc03hj"
      },
      "source": [
        "## **About Dataset**\n"
      ]
    },
    {
      "cell_type": "markdown",
      "metadata": {
        "id": "an5ri2r72Ul3"
      },
      "source": [
        "### Description"
      ]
    },
    {
      "cell_type": "markdown",
      "metadata": {
        "id": "_1sppU8_2s6Q"
      },
      "source": [
        "**Women's E-Commerce Clothing Reviews on Kaggle**\n",
        "\n",
        "---\n",
        "\n",
        "***Link Dataset***: \n",
        "\n",
        "https://www.kaggle.com/nicapotato/womens-ecommerce-clothing-reviews\n",
        "\n",
        "\n",
        "***Context***\n",
        "\n",
        "Welcome. This is a Women’s Clothing E-Commerce dataset revolving around the reviews written by customers. Its nine supportive features offer a great environment to parse out the text through its multiple dimensions. Because this is real commercial data, it has been anonymized, and references to the company in the review text and body have been replaced with “retailer”.\n",
        "\n",
        "\n",
        "\n",
        "***Content***\n",
        "\n",
        "This dataset includes **23486 rows** and **10 feature variables**. Each row corresponds to a customer review, and includes the variables:\n",
        "\n",
        "- **Clothing ID**: Integer Categorical variable that refers to the specific piece \n",
        "being reviewed.\n",
        "- **Age**: Positive Integer variable of the reviewers age.\n",
        "- **Title**: String variable for the title of the review.\n",
        "- **Review** Text: String variable for the review body.\n",
        "- **Rating**: Positive Ordinal Integer variable for the product score granted by the customer from 1 Worst, to 5 Best.\n",
        "- **Recommended** IND: Binary variable stating where the customer recommends the product where 1 is recommended, 0 is not recommended.\n",
        "- **Positive Feedback Count**: Positive Integer documenting the number of other customers who found this review positive.\n",
        "- **Division Name**: Categorical name of the product high level division.\n",
        "- **Department Name**: Categorical name of the product department name.\n",
        "- **Class Name**: Categorical name of the product class name.\n",
        "\n",
        "\n",
        "***Acknowledgements***\n",
        "\n",
        "Anonymous but real source\n",
        "\n",
        "\n",
        "***Inspiration***\n",
        "\n",
        "Nicapotato, an owner of dataset Women's E-Commerce Clothing Reviews that looks forward to coming quality NLP! There are also some great opportunities for feature engineering and multivariate analysis.\n",
        "\n",
        "***Publication***\n",
        "\n",
        "[Statistical Analysis on E-Commerce Reviews, with Sentiment Classification using Bidirectional Recurrent Neural Network](https://www.researchgate.net/publication/323545316_Statistical_Analysis_on_E-Commerce_Reviews_with_Sentiment_Classification_using_Bidirectional_Recurrent_Neural_Network)\n",
        "\n",
        "by [Abien Fred Agarap - Github](https://github.com/AFAgarap/ecommerce-reviews-analysis)\n",
        "\n"
      ]
    },
    {
      "cell_type": "markdown",
      "metadata": {
        "id": "FanxbXRT4kl1"
      },
      "source": [
        "### Metadata"
      ]
    },
    {
      "cell_type": "markdown",
      "metadata": {
        "id": "u41GIO504r5A"
      },
      "source": [
        "**Usage Information**\n",
        "\n",
        "---\n",
        "\n",
        "\n",
        "\n",
        "- License [CC0: Public Domain](https://creativecommons.org/publicdomain/zero/1.0/)\n",
        "- Visibility **public**\n",
        "\n",
        "\n",
        "**Maintainers**\n",
        "\n",
        "---\n",
        "\n",
        "\n",
        "\n",
        "- Dataset owner [nicapotato](https://www.kaggle.com/nicapotato)\n",
        "\n",
        "**Updates**\n",
        "\n",
        "---\n",
        "    \n",
        "    Expected update frequency (Not specified)\n",
        "\n",
        "    Last updated 2018-02-04\n",
        "    Date created 2018-02-04\n",
        "    Current version Version 1"
      ]
    },
    {
      "cell_type": "markdown",
      "metadata": {
        "id": "eg4N24_d7IKq"
      },
      "source": [
        "## **Objectives**"
      ]
    },
    {
      "cell_type": "markdown",
      "metadata": {
        "id": "SpTM4gPy7LWC"
      },
      "source": [
        "**Problem Framing**\n",
        "* How to predict sentiment analysis from Women's E-Commerce Clothing Reviews?\n",
        "\n",
        "\n",
        "**Ideal Outcome**\n",
        "* A success metric is that a sentence can be classified as positive, negative, or neutral as predicted by the model. \n",
        "* Success means predicting >90% for sentiment analysis. \n",
        "* Failure means the number of accuracy sentiment predicted is no better than current heuristics.\n",
        "\n",
        "\n",
        "**Heuristics**\n",
        "* Consider reviews of people who buy products in the past. Assume that new items buyers by these people will also become positive, negative, or neutral critics.\n",
        "\n",
        "**Formulation of the problem**\n",
        "* Comparison of Naive Bayes Model and Support Vector Machine (SVM)"
      ]
    },
    {
      "cell_type": "markdown",
      "metadata": {
        "id": "uTVCEN6GRlol"
      },
      "source": [
        "## **References**"
      ]
    },
    {
      "cell_type": "markdown",
      "metadata": {
        "id": "o3okW06uRsWL"
      },
      "source": [
        "[Machine Learning Crash Course](https://developers.google.com/machine-learning/crash-course)"
      ]
    },
    {
      "cell_type": "markdown",
      "metadata": {
        "id": "q2Lb5L0X1AFz"
      },
      "source": [
        "## **Programming With Python**"
      ]
    },
    {
      "cell_type": "markdown",
      "metadata": {
        "id": "sIzvlR8eugHp"
      },
      "source": [
        "### **Data Pre-pocessing**"
      ]
    },
    {
      "cell_type": "markdown",
      "metadata": {
        "id": "h1GnvJkO_YfD"
      },
      "source": [
        "**Import Dataset**"
      ]
    },
    {
      "cell_type": "markdown",
      "metadata": {
        "id": "J1EmCY-lucAm"
      },
      "source": [
        "    How to use the Kaggle dataset\r\n",
        "\r\n",
        "        * Login or sign in for your account on the Kaggle website.\r\n",
        "        * Find your dataset, notebook, and other information that you needed.\r\n",
        "        * Make your API file .json from your profile.\r\n",
        "        * Download your API file .json into your local computers."
      ]
    },
    {
      "cell_type": "markdown",
      "metadata": {
        "id": "lpWnnNw7lrC4"
      },
      "source": [
        "Install Kaggle for upload dataset into google colab"
      ]
    },
    {
      "cell_type": "code",
      "metadata": {
        "id": "A8qS9d8YGueG"
      },
      "source": [
        "!pip install -q kaggle"
      ],
      "execution_count": 1,
      "outputs": []
    },
    {
      "cell_type": "markdown",
      "metadata": {
        "id": "KcwZ1Jgzl6zG"
      },
      "source": [
        "Upload Kaggle API key"
      ]
    },
    {
      "cell_type": "code",
      "metadata": {
        "id": "zTNLVQBrG1Yu",
        "colab": {
          "resources": {
            "http://localhost:8080/nbextensions/google.colab/files.js": {
              "data": "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",
              "ok": true,
              "headers": [
                [
                  "content-type",
                  "application/javascript"
                ]
              ],
              "status": 200,
              "status_text": ""
            }
          },
          "base_uri": "https://localhost:8080/",
          "height": 91
        },
        "outputId": "7b3a5763-8edd-4490-88b6-7088b3daad8b"
      },
      "source": [
        "from google.colab import files\n",
        "files.upload()"
      ],
      "execution_count": 2,
      "outputs": [
        {
          "output_type": "display_data",
          "data": {
            "text/html": [
              "\n",
              "     <input type=\"file\" id=\"files-929bfedf-42e3-4b71-a021-7f25de6767ad\" name=\"files[]\" multiple disabled\n",
              "        style=\"border:none\" />\n",
              "     <output id=\"result-929bfedf-42e3-4b71-a021-7f25de6767ad\">\n",
              "      Upload widget is only available when the cell has been executed in the\n",
              "      current browser session. Please rerun this cell to enable.\n",
              "      </output>\n",
              "      <script src=\"/nbextensions/google.colab/files.js\"></script> "
            ],
            "text/plain": [
              "<IPython.core.display.HTML object>"
            ]
          },
          "metadata": {
            "tags": []
          }
        },
        {
          "output_type": "stream",
          "text": [
            "Saving kaggle.json to kaggle.json\n"
          ],
          "name": "stdout"
        },
        {
          "output_type": "execute_result",
          "data": {
            "text/plain": [
              "{'kaggle.json': b'{\"username\":\"noer001\",\"key\":\"5c61dd059665969d566be961b002599c\"}'}"
            ]
          },
          "metadata": {
            "tags": []
          },
          "execution_count": 2
        }
      ]
    },
    {
      "cell_type": "code",
      "metadata": {
        "id": "EJwO8KnqG4Q8"
      },
      "source": [
        "! mkdir ~/.kaggle\n",
        "! cp kaggle.json ~/.kaggle/\n",
        "! chmod 600 ~/.kaggle/kaggle.json"
      ],
      "execution_count": 3,
      "outputs": []
    },
    {
      "cell_type": "markdown",
      "metadata": {
        "id": "40Uof-mEl_ti"
      },
      "source": [
        "Download dataset from Kaggle"
      ]
    },
    {
      "cell_type": "code",
      "metadata": {
        "id": "aM7pioz6G9DM",
        "colab": {
          "base_uri": "https://localhost:8080/"
        },
        "outputId": "de315da8-c646-4d5b-e7c8-2268eb58977c"
      },
      "source": [
        "! kaggle datasets download -d 'nicapotato/womens-ecommerce-clothing-reviews/download'  "
      ],
      "execution_count": 4,
      "outputs": [
        {
          "output_type": "stream",
          "text": [
            "Downloading womens-ecommerce-clothing-reviews.zip to /content\n",
            "\r  0% 0.00/2.79M [00:00<?, ?B/s]\n",
            "\r100% 2.79M/2.79M [00:00<00:00, 94.0MB/s]\n"
          ],
          "name": "stdout"
        }
      ]
    },
    {
      "cell_type": "code",
      "metadata": {
        "id": "uss2ztzLHDIl",
        "colab": {
          "base_uri": "https://localhost:8080/"
        },
        "outputId": "0b792538-735d-4f63-d9b4-2ee92bec7846"
      },
      "source": [
        "!ls"
      ],
      "execution_count": 5,
      "outputs": [
        {
          "output_type": "stream",
          "text": [
            "kaggle.json  sample_data  womens-ecommerce-clothing-reviews.zip\n"
          ],
          "name": "stdout"
        }
      ]
    },
    {
      "cell_type": "code",
      "metadata": {
        "id": "GXSoij3tHI1J"
      },
      "source": [
        "!unzip -q womens-ecommerce-clothing-reviews.zip"
      ],
      "execution_count": 6,
      "outputs": []
    },
    {
      "cell_type": "code",
      "metadata": {
        "id": "D4C8XBJiHMN8",
        "colab": {
          "base_uri": "https://localhost:8080/"
        },
        "outputId": "7d928ae8-abbe-412c-bad1-619135616422"
      },
      "source": [
        "!ls"
      ],
      "execution_count": 7,
      "outputs": [
        {
          "output_type": "stream",
          "text": [
            " kaggle.json  'Womens Clothing E-Commerce Reviews.csv'\n",
            " sample_data   womens-ecommerce-clothing-reviews.zip\n"
          ],
          "name": "stdout"
        }
      ]
    },
    {
      "cell_type": "markdown",
      "metadata": {
        "id": "VzOFENO-wW0Z"
      },
      "source": [
        "**Import Libraries**"
      ]
    },
    {
      "cell_type": "code",
      "metadata": {
        "id": "Et0jprjWHWm2",
        "colab": {
          "base_uri": "https://localhost:8080/"
        },
        "outputId": "a95f7074-6254-41a0-a031-b139564e5dbe"
      },
      "source": [
        "import nltk\n",
        "import numpy as np\n",
        "import pandas as pd\n",
        "import seaborn as sns\n",
        "import matplotlib.pyplot as plt\n",
        "\n",
        "\n",
        "from nltk.corpus import stopwords\n",
        "from nltk.tokenize import RegexpTokenizer\n",
        "from nltk.stem.porter import PorterStemmer\n",
        "from keras.preprocessing.text import Tokenizer\n",
        "from keras.preprocessing.sequence import pad_sequences\n",
        "from nltk.sentiment.vader import SentimentIntensityAnalyzer"
      ],
      "execution_count": 8,
      "outputs": [
        {
          "output_type": "stream",
          "text": [
            "/usr/local/lib/python3.6/dist-packages/nltk/twitter/__init__.py:20: UserWarning: The twython library has not been installed. Some functionality from the twitter package will not be available.\n",
            "  warnings.warn(\"The twython library has not been installed. \"\n"
          ],
          "name": "stderr"
        }
      ]
    },
    {
      "cell_type": "code",
      "metadata": {
        "id": "8EjUO2osHkFI",
        "colab": {
          "base_uri": "https://localhost:8080/",
          "height": 585
        },
        "outputId": "9fc8c3fe-f773-4538-8f15-b376363f12a4"
      },
      "source": [
        "woman = pd.read_csv('Womens Clothing E-Commerce Reviews.csv')\n",
        "woman"
      ],
      "execution_count": 9,
      "outputs": [
        {
          "output_type": "execute_result",
          "data": {
            "text/html": [
              "<div>\n",
              "<style scoped>\n",
              "    .dataframe tbody tr th:only-of-type {\n",
              "        vertical-align: middle;\n",
              "    }\n",
              "\n",
              "    .dataframe tbody tr th {\n",
              "        vertical-align: top;\n",
              "    }\n",
              "\n",
              "    .dataframe thead th {\n",
              "        text-align: right;\n",
              "    }\n",
              "</style>\n",
              "<table border=\"1\" class=\"dataframe\">\n",
              "  <thead>\n",
              "    <tr style=\"text-align: right;\">\n",
              "      <th></th>\n",
              "      <th>Unnamed: 0</th>\n",
              "      <th>Clothing ID</th>\n",
              "      <th>Age</th>\n",
              "      <th>Title</th>\n",
              "      <th>Review Text</th>\n",
              "      <th>Rating</th>\n",
              "      <th>Recommended IND</th>\n",
              "      <th>Positive Feedback Count</th>\n",
              "      <th>Division Name</th>\n",
              "      <th>Department Name</th>\n",
              "      <th>Class Name</th>\n",
              "    </tr>\n",
              "  </thead>\n",
              "  <tbody>\n",
              "    <tr>\n",
              "      <th>0</th>\n",
              "      <td>0</td>\n",
              "      <td>767</td>\n",
              "      <td>33</td>\n",
              "      <td>NaN</td>\n",
              "      <td>Absolutely wonderful - silky and sexy and comf...</td>\n",
              "      <td>4</td>\n",
              "      <td>1</td>\n",
              "      <td>0</td>\n",
              "      <td>Initmates</td>\n",
              "      <td>Intimate</td>\n",
              "      <td>Intimates</td>\n",
              "    </tr>\n",
              "    <tr>\n",
              "      <th>1</th>\n",
              "      <td>1</td>\n",
              "      <td>1080</td>\n",
              "      <td>34</td>\n",
              "      <td>NaN</td>\n",
              "      <td>Love this dress!  it's sooo pretty.  i happene...</td>\n",
              "      <td>5</td>\n",
              "      <td>1</td>\n",
              "      <td>4</td>\n",
              "      <td>General</td>\n",
              "      <td>Dresses</td>\n",
              "      <td>Dresses</td>\n",
              "    </tr>\n",
              "    <tr>\n",
              "      <th>2</th>\n",
              "      <td>2</td>\n",
              "      <td>1077</td>\n",
              "      <td>60</td>\n",
              "      <td>Some major design flaws</td>\n",
              "      <td>I had such high hopes for this dress and reall...</td>\n",
              "      <td>3</td>\n",
              "      <td>0</td>\n",
              "      <td>0</td>\n",
              "      <td>General</td>\n",
              "      <td>Dresses</td>\n",
              "      <td>Dresses</td>\n",
              "    </tr>\n",
              "    <tr>\n",
              "      <th>3</th>\n",
              "      <td>3</td>\n",
              "      <td>1049</td>\n",
              "      <td>50</td>\n",
              "      <td>My favorite buy!</td>\n",
              "      <td>I love, love, love this jumpsuit. it's fun, fl...</td>\n",
              "      <td>5</td>\n",
              "      <td>1</td>\n",
              "      <td>0</td>\n",
              "      <td>General Petite</td>\n",
              "      <td>Bottoms</td>\n",
              "      <td>Pants</td>\n",
              "    </tr>\n",
              "    <tr>\n",
              "      <th>4</th>\n",
              "      <td>4</td>\n",
              "      <td>847</td>\n",
              "      <td>47</td>\n",
              "      <td>Flattering shirt</td>\n",
              "      <td>This shirt is very flattering to all due to th...</td>\n",
              "      <td>5</td>\n",
              "      <td>1</td>\n",
              "      <td>6</td>\n",
              "      <td>General</td>\n",
              "      <td>Tops</td>\n",
              "      <td>Blouses</td>\n",
              "    </tr>\n",
              "    <tr>\n",
              "      <th>...</th>\n",
              "      <td>...</td>\n",
              "      <td>...</td>\n",
              "      <td>...</td>\n",
              "      <td>...</td>\n",
              "      <td>...</td>\n",
              "      <td>...</td>\n",
              "      <td>...</td>\n",
              "      <td>...</td>\n",
              "      <td>...</td>\n",
              "      <td>...</td>\n",
              "      <td>...</td>\n",
              "    </tr>\n",
              "    <tr>\n",
              "      <th>23481</th>\n",
              "      <td>23481</td>\n",
              "      <td>1104</td>\n",
              "      <td>34</td>\n",
              "      <td>Great dress for many occasions</td>\n",
              "      <td>I was very happy to snag this dress at such a ...</td>\n",
              "      <td>5</td>\n",
              "      <td>1</td>\n",
              "      <td>0</td>\n",
              "      <td>General Petite</td>\n",
              "      <td>Dresses</td>\n",
              "      <td>Dresses</td>\n",
              "    </tr>\n",
              "    <tr>\n",
              "      <th>23482</th>\n",
              "      <td>23482</td>\n",
              "      <td>862</td>\n",
              "      <td>48</td>\n",
              "      <td>Wish it was made of cotton</td>\n",
              "      <td>It reminds me of maternity clothes. soft, stre...</td>\n",
              "      <td>3</td>\n",
              "      <td>1</td>\n",
              "      <td>0</td>\n",
              "      <td>General Petite</td>\n",
              "      <td>Tops</td>\n",
              "      <td>Knits</td>\n",
              "    </tr>\n",
              "    <tr>\n",
              "      <th>23483</th>\n",
              "      <td>23483</td>\n",
              "      <td>1104</td>\n",
              "      <td>31</td>\n",
              "      <td>Cute, but see through</td>\n",
              "      <td>This fit well, but the top was very see throug...</td>\n",
              "      <td>3</td>\n",
              "      <td>0</td>\n",
              "      <td>1</td>\n",
              "      <td>General Petite</td>\n",
              "      <td>Dresses</td>\n",
              "      <td>Dresses</td>\n",
              "    </tr>\n",
              "    <tr>\n",
              "      <th>23484</th>\n",
              "      <td>23484</td>\n",
              "      <td>1084</td>\n",
              "      <td>28</td>\n",
              "      <td>Very cute dress, perfect for summer parties an...</td>\n",
              "      <td>I bought this dress for a wedding i have this ...</td>\n",
              "      <td>3</td>\n",
              "      <td>1</td>\n",
              "      <td>2</td>\n",
              "      <td>General</td>\n",
              "      <td>Dresses</td>\n",
              "      <td>Dresses</td>\n",
              "    </tr>\n",
              "    <tr>\n",
              "      <th>23485</th>\n",
              "      <td>23485</td>\n",
              "      <td>1104</td>\n",
              "      <td>52</td>\n",
              "      <td>Please make more like this one!</td>\n",
              "      <td>This dress in a lovely platinum is feminine an...</td>\n",
              "      <td>5</td>\n",
              "      <td>1</td>\n",
              "      <td>22</td>\n",
              "      <td>General Petite</td>\n",
              "      <td>Dresses</td>\n",
              "      <td>Dresses</td>\n",
              "    </tr>\n",
              "  </tbody>\n",
              "</table>\n",
              "<p>23486 rows × 11 columns</p>\n",
              "</div>"
            ],
            "text/plain": [
              "       Unnamed: 0  Clothing ID  Age  ...   Division Name Department Name  Class Name\n",
              "0               0          767   33  ...       Initmates        Intimate   Intimates\n",
              "1               1         1080   34  ...         General         Dresses     Dresses\n",
              "2               2         1077   60  ...         General         Dresses     Dresses\n",
              "3               3         1049   50  ...  General Petite         Bottoms       Pants\n",
              "4               4          847   47  ...         General            Tops     Blouses\n",
              "...           ...          ...  ...  ...             ...             ...         ...\n",
              "23481       23481         1104   34  ...  General Petite         Dresses     Dresses\n",
              "23482       23482          862   48  ...  General Petite            Tops       Knits\n",
              "23483       23483         1104   31  ...  General Petite         Dresses     Dresses\n",
              "23484       23484         1084   28  ...         General         Dresses     Dresses\n",
              "23485       23485         1104   52  ...  General Petite         Dresses     Dresses\n",
              "\n",
              "[23486 rows x 11 columns]"
            ]
          },
          "metadata": {
            "tags": []
          },
          "execution_count": 9
        }
      ]
    },
    {
      "cell_type": "markdown",
      "metadata": {
        "id": "uWgdWP3CPEJm"
      },
      "source": [
        "Working with Text"
      ]
    },
    {
      "cell_type": "code",
      "metadata": {
        "id": "GaLentLFOO9P",
        "colab": {
          "base_uri": "https://localhost:8080/",
          "height": 106
        },
        "outputId": "64e57c58-e010-4ff9-e467-f2dd1a20b30e"
      },
      "source": [
        "pd.set_option('max_colwidth', 500)\n",
        "woman[[\"Title\",\"Review Text\", \"Rating\"]].sample(2)"
      ],
      "execution_count": 10,
      "outputs": [
        {
          "output_type": "execute_result",
          "data": {
            "text/html": [
              "<div>\n",
              "<style scoped>\n",
              "    .dataframe tbody tr th:only-of-type {\n",
              "        vertical-align: middle;\n",
              "    }\n",
              "\n",
              "    .dataframe tbody tr th {\n",
              "        vertical-align: top;\n",
              "    }\n",
              "\n",
              "    .dataframe thead th {\n",
              "        text-align: right;\n",
              "    }\n",
              "</style>\n",
              "<table border=\"1\" class=\"dataframe\">\n",
              "  <thead>\n",
              "    <tr style=\"text-align: right;\">\n",
              "      <th></th>\n",
              "      <th>Title</th>\n",
              "      <th>Review Text</th>\n",
              "      <th>Rating</th>\n",
              "    </tr>\n",
              "  </thead>\n",
              "  <tbody>\n",
              "    <tr>\n",
              "      <th>17319</th>\n",
              "      <td>NaN</td>\n",
              "      <td>This is probably my new favorite bathing suit. the colors are a tad different than in the picture, but still really pretty</td>\n",
              "      <td>5</td>\n",
              "    </tr>\n",
              "    <tr>\n",
              "      <th>9888</th>\n",
              "      <td>Birthday gift</td>\n",
              "      <td>I purchased for my daughter who is mid 30's and she loved the romper.\\r\\ni'm going to list her size since that is appropriate for who is wearing the item.</td>\n",
              "      <td>4</td>\n",
              "    </tr>\n",
              "  </tbody>\n",
              "</table>\n",
              "</div>"
            ],
            "text/plain": [
              "               Title  ... Rating\n",
              "17319            NaN  ...      5\n",
              "9888   Birthday gift  ...      4\n",
              "\n",
              "[2 rows x 3 columns]"
            ]
          },
          "metadata": {
            "tags": []
          },
          "execution_count": 10
        }
      ]
    },
    {
      "cell_type": "markdown",
      "metadata": {
        "id": "NLaRHOfYPYmU"
      },
      "source": [
        "Text Cleaning"
      ]
    },
    {
      "cell_type": "code",
      "metadata": {
        "id": "Xnd4HJDyPM18",
        "colab": {
          "base_uri": "https://localhost:8080/"
        },
        "outputId": "b2ea1b50-1e4f-4014-c343-ce8243ffd9a2"
      },
      "source": [
        "nltk.download('stopwords')"
      ],
      "execution_count": 11,
      "outputs": [
        {
          "output_type": "stream",
          "text": [
            "[nltk_data] Downloading package stopwords to /root/nltk_data...\n",
            "[nltk_data]   Unzipping corpora/stopwords.zip.\n"
          ],
          "name": "stdout"
        },
        {
          "output_type": "execute_result",
          "data": {
            "text/plain": [
              "True"
            ]
          },
          "metadata": {
            "tags": []
          },
          "execution_count": 11
        }
      ]
    },
    {
      "cell_type": "code",
      "metadata": {
        "id": "yQvoYHEA6FtK"
      },
      "source": [
        "ps = PorterStemmer()\n",
        "tokenizer = RegexpTokenizer(r'\\w+')\n",
        "stop_words = set(stopwords.words('english'))"
      ],
      "execution_count": 12,
      "outputs": []
    },
    {
      "cell_type": "code",
      "metadata": {
        "id": "RhwFJ_HA6Dlu"
      },
      "source": [
        "def preprocessing(data):\n",
        "    txt = data.str.lower().str.cat(sep=' ') #1\n",
        "    words = tokenizer.tokenize(txt) #2\n",
        "    words = [w for w in words if not w in stop_words] #3\n",
        "    #words = [ps.stem(w) for w in words] #4\n",
        "    return words"
      ],
      "execution_count": 13,
      "outputs": []
    },
    {
      "cell_type": "code",
      "metadata": {
        "id": "B1trvsRi7hoG"
      },
      "source": [
        "woman['tokenized'] = woman[\"Review Text\"].astype(str).str.lower() # Turn into lower case text\n",
        "woman['tokenized'] = woman.apply(lambda row: tokenizer.tokenize(row['tokenized']), axis=1) # Apply tokenize to each row\n",
        "woman['tokenized'] = woman['tokenized'].apply(lambda x: [w for w in x if not w in stop_words]) # Remove stopwords from each row"
      ],
      "execution_count": 14,
      "outputs": []
    },
    {
      "cell_type": "markdown",
      "metadata": {
        "id": "iW_T6ahqPutQ"
      },
      "source": [
        "Sentiment Analysis"
      ]
    },
    {
      "cell_type": "code",
      "metadata": {
        "colab": {
          "base_uri": "https://localhost:8080/"
        },
        "id": "_0wAAl1jzhWH",
        "outputId": "22980b4e-a6aa-4589-d2d3-c4c642ac0d7e"
      },
      "source": [
        "nltk.download('vader_lexicon')"
      ],
      "execution_count": 15,
      "outputs": [
        {
          "output_type": "stream",
          "text": [
            "[nltk_data] Downloading package vader_lexicon to /root/nltk_data...\n"
          ],
          "name": "stdout"
        },
        {
          "output_type": "execute_result",
          "data": {
            "text/plain": [
              "True"
            ]
          },
          "metadata": {
            "tags": []
          },
          "execution_count": 15
        }
      ]
    },
    {
      "cell_type": "code",
      "metadata": {
        "id": "5G72ws7cPZep"
      },
      "source": [
        "# Pre-Processing\n",
        "SIA = SentimentIntensityAnalyzer()\n",
        "woman['Review Text']= woman['Review Text'].astype(str)\n",
        "\n",
        "# Applying Model, Variable Creation\n",
        "woman['Polarity Score'] = woman['Review Text'].apply(lambda x: SIA.polarity_scores(x)['compound'])\n",
        "woman['Neutral Score'] = woman['Review Text'].apply(lambda x: SIA.polarity_scores(x)['neu'])\n",
        "woman['Negative Score'] = woman['Review Text'].apply(lambda x: SIA.polarity_scores(x)['neg'])\n",
        "woman['Positive Score'] = woman['Review Text'].apply(lambda x: SIA.polarity_scores(x)['pos'])\n",
        "\n",
        "# Converting 0 to 1 Decimal Score to a Categorical Variable\n",
        "woman['Sentiment'] = ''\n",
        "woman.loc[woman['Polarity Score'] > 0, 'Sentiment'] = 'Positive'\n",
        "woman.loc[woman['Polarity Score'] == 0, 'Sentiment'] = 'Neutral'\n",
        "woman.loc[woman['Polarity Score'] < 0, 'Sentiment'] = 'Negative'"
      ],
      "execution_count": 16,
      "outputs": []
    },
    {
      "cell_type": "code",
      "metadata": {
        "id": "RujSc_b96T1w",
        "colab": {
          "base_uri": "https://localhost:8080/",
          "height": 1000
        },
        "outputId": "e8d6c1c5-6965-4754-b3e6-c15a3b758489"
      },
      "source": [
        "def string_unlist(strlist):\n",
        "    return \" \".join(strlist)\n",
        "\n",
        "woman[\"tokenized_unlist\"] = woman[\"tokenized\"].apply(string_unlist)\n",
        "woman.head()"
      ],
      "execution_count": 17,
      "outputs": [
        {
          "output_type": "execute_result",
          "data": {
            "text/html": [
              "<div>\n",
              "<style scoped>\n",
              "    .dataframe tbody tr th:only-of-type {\n",
              "        vertical-align: middle;\n",
              "    }\n",
              "\n",
              "    .dataframe tbody tr th {\n",
              "        vertical-align: top;\n",
              "    }\n",
              "\n",
              "    .dataframe thead th {\n",
              "        text-align: right;\n",
              "    }\n",
              "</style>\n",
              "<table border=\"1\" class=\"dataframe\">\n",
              "  <thead>\n",
              "    <tr style=\"text-align: right;\">\n",
              "      <th></th>\n",
              "      <th>Unnamed: 0</th>\n",
              "      <th>Clothing ID</th>\n",
              "      <th>Age</th>\n",
              "      <th>Title</th>\n",
              "      <th>Review Text</th>\n",
              "      <th>Rating</th>\n",
              "      <th>Recommended IND</th>\n",
              "      <th>Positive Feedback Count</th>\n",
              "      <th>Division Name</th>\n",
              "      <th>Department Name</th>\n",
              "      <th>Class Name</th>\n",
              "      <th>tokenized</th>\n",
              "      <th>Polarity Score</th>\n",
              "      <th>Neutral Score</th>\n",
              "      <th>Negative Score</th>\n",
              "      <th>Positive Score</th>\n",
              "      <th>Sentiment</th>\n",
              "      <th>tokenized_unlist</th>\n",
              "    </tr>\n",
              "  </thead>\n",
              "  <tbody>\n",
              "    <tr>\n",
              "      <th>0</th>\n",
              "      <td>0</td>\n",
              "      <td>767</td>\n",
              "      <td>33</td>\n",
              "      <td>NaN</td>\n",
              "      <td>Absolutely wonderful - silky and sexy and comfortable</td>\n",
              "      <td>4</td>\n",
              "      <td>1</td>\n",
              "      <td>0</td>\n",
              "      <td>Initmates</td>\n",
              "      <td>Intimate</td>\n",
              "      <td>Intimates</td>\n",
              "      <td>[absolutely, wonderful, silky, sexy, comfortable]</td>\n",
              "      <td>0.8932</td>\n",
              "      <td>0.272</td>\n",
              "      <td>0.000</td>\n",
              "      <td>0.728</td>\n",
              "      <td>Positive</td>\n",
              "      <td>absolutely wonderful silky sexy comfortable</td>\n",
              "    </tr>\n",
              "    <tr>\n",
              "      <th>1</th>\n",
              "      <td>1</td>\n",
              "      <td>1080</td>\n",
              "      <td>34</td>\n",
              "      <td>NaN</td>\n",
              "      <td>Love this dress!  it's sooo pretty.  i happened to find it in a store, and i'm glad i did bc i never would have ordered it online bc it's petite.  i bought a petite and am 5'8\".  i love the length on me- hits just a little below the knee.  would definitely be a true midi on someone who is truly petite.</td>\n",
              "      <td>5</td>\n",
              "      <td>1</td>\n",
              "      <td>4</td>\n",
              "      <td>General</td>\n",
              "      <td>Dresses</td>\n",
              "      <td>Dresses</td>\n",
              "      <td>[love, dress, sooo, pretty, happened, find, store, glad, bc, never, would, ordered, online, bc, petite, bought, petite, 5, 8, love, length, hits, little, knee, would, definitely, true, midi, someone, truly, petite]</td>\n",
              "      <td>0.9729</td>\n",
              "      <td>0.664</td>\n",
              "      <td>0.000</td>\n",
              "      <td>0.336</td>\n",
              "      <td>Positive</td>\n",
              "      <td>love dress sooo pretty happened find store glad bc never would ordered online bc petite bought petite 5 8 love length hits little knee would definitely true midi someone truly petite</td>\n",
              "    </tr>\n",
              "    <tr>\n",
              "      <th>2</th>\n",
              "      <td>2</td>\n",
              "      <td>1077</td>\n",
              "      <td>60</td>\n",
              "      <td>Some major design flaws</td>\n",
              "      <td>I had such high hopes for this dress and really wanted it to work for me. i initially ordered the petite small (my usual size) but i found this to be outrageously small. so small in fact that i could not zip it up! i reordered it in petite medium, which was just ok. overall, the top half was comfortable and fit nicely, but the bottom half had a very tight under layer and several somewhat cheap (net) over layers. imo, a major design flaw was the net over layer sewn directly into the zipper - ...</td>\n",
              "      <td>3</td>\n",
              "      <td>0</td>\n",
              "      <td>0</td>\n",
              "      <td>General</td>\n",
              "      <td>Dresses</td>\n",
              "      <td>Dresses</td>\n",
              "      <td>[high, hopes, dress, really, wanted, work, initially, ordered, petite, small, usual, size, found, outrageously, small, small, fact, could, zip, reordered, petite, medium, ok, overall, top, half, comfortable, fit, nicely, bottom, half, tight, layer, several, somewhat, cheap, net, layers, imo, major, design, flaw, net, layer, sewn, directly, zipper, c]</td>\n",
              "      <td>0.9427</td>\n",
              "      <td>0.792</td>\n",
              "      <td>0.027</td>\n",
              "      <td>0.181</td>\n",
              "      <td>Positive</td>\n",
              "      <td>high hopes dress really wanted work initially ordered petite small usual size found outrageously small small fact could zip reordered petite medium ok overall top half comfortable fit nicely bottom half tight layer several somewhat cheap net layers imo major design flaw net layer sewn directly zipper c</td>\n",
              "    </tr>\n",
              "    <tr>\n",
              "      <th>3</th>\n",
              "      <td>3</td>\n",
              "      <td>1049</td>\n",
              "      <td>50</td>\n",
              "      <td>My favorite buy!</td>\n",
              "      <td>I love, love, love this jumpsuit. it's fun, flirty, and fabulous! every time i wear it, i get nothing but great compliments!</td>\n",
              "      <td>5</td>\n",
              "      <td>1</td>\n",
              "      <td>0</td>\n",
              "      <td>General Petite</td>\n",
              "      <td>Bottoms</td>\n",
              "      <td>Pants</td>\n",
              "      <td>[love, love, love, jumpsuit, fun, flirty, fabulous, every, time, wear, get, nothing, great, compliments]</td>\n",
              "      <td>0.5727</td>\n",
              "      <td>0.340</td>\n",
              "      <td>0.226</td>\n",
              "      <td>0.434</td>\n",
              "      <td>Positive</td>\n",
              "      <td>love love love jumpsuit fun flirty fabulous every time wear get nothing great compliments</td>\n",
              "    </tr>\n",
              "    <tr>\n",
              "      <th>4</th>\n",
              "      <td>4</td>\n",
              "      <td>847</td>\n",
              "      <td>47</td>\n",
              "      <td>Flattering shirt</td>\n",
              "      <td>This shirt is very flattering to all due to the adjustable front tie. it is the perfect length to wear with leggings and it is sleeveless so it pairs well with any cardigan. love this shirt!!!</td>\n",
              "      <td>5</td>\n",
              "      <td>1</td>\n",
              "      <td>6</td>\n",
              "      <td>General</td>\n",
              "      <td>Tops</td>\n",
              "      <td>Blouses</td>\n",
              "      <td>[shirt, flattering, due, adjustable, front, tie, perfect, length, wear, leggings, sleeveless, pairs, well, cardigan, love, shirt]</td>\n",
              "      <td>0.9291</td>\n",
              "      <td>0.700</td>\n",
              "      <td>0.000</td>\n",
              "      <td>0.300</td>\n",
              "      <td>Positive</td>\n",
              "      <td>shirt flattering due adjustable front tie perfect length wear leggings sleeveless pairs well cardigan love shirt</td>\n",
              "    </tr>\n",
              "  </tbody>\n",
              "</table>\n",
              "</div>"
            ],
            "text/plain": [
              "   Unnamed: 0  ...                                                                                                                                                                                                                                                                                                 tokenized_unlist\n",
              "0           0  ...                                                                                                                                                                                                                                                                      absolutely wonderful silky sexy comfortable\n",
              "1           1  ...                                                                                                                           love dress sooo pretty happened find store glad bc never would ordered online bc petite bought petite 5 8 love length hits little knee would definitely true midi someone truly petite\n",
              "2           2  ...  high hopes dress really wanted work initially ordered petite small usual size found outrageously small small fact could zip reordered petite medium ok overall top half comfortable fit nicely bottom half tight layer several somewhat cheap net layers imo major design flaw net layer sewn directly zipper c\n",
              "3           3  ...                                                                                                                                                                                                                        love love love jumpsuit fun flirty fabulous every time wear get nothing great compliments\n",
              "4           4  ...                                                                                                                                                                                                 shirt flattering due adjustable front tie perfect length wear leggings sleeveless pairs well cardigan love shirt\n",
              "\n",
              "[5 rows x 18 columns]"
            ]
          },
          "metadata": {
            "tags": []
          },
          "execution_count": 17
        }
      ]
    },
    {
      "cell_type": "code",
      "metadata": {
        "id": "7c72yyjZ76rd",
        "colab": {
          "base_uri": "https://localhost:8080/",
          "height": 1000
        },
        "outputId": "41bef04d-ea47-46a7-8699-ff5fd0b28996"
      },
      "source": [
        "conditions = [\n",
        "    woman['Sentiment'] == \"Positive\",\n",
        "    woman['Sentiment'] == \"Negative\",\n",
        "    woman['Sentiment'] == \"Neutral\"]\n",
        "choices = [1,-1,0]\n",
        "woman['label'] = np.select(conditions, choices)\n",
        "woman.head()"
      ],
      "execution_count": 18,
      "outputs": [
        {
          "output_type": "execute_result",
          "data": {
            "text/html": [
              "<div>\n",
              "<style scoped>\n",
              "    .dataframe tbody tr th:only-of-type {\n",
              "        vertical-align: middle;\n",
              "    }\n",
              "\n",
              "    .dataframe tbody tr th {\n",
              "        vertical-align: top;\n",
              "    }\n",
              "\n",
              "    .dataframe thead th {\n",
              "        text-align: right;\n",
              "    }\n",
              "</style>\n",
              "<table border=\"1\" class=\"dataframe\">\n",
              "  <thead>\n",
              "    <tr style=\"text-align: right;\">\n",
              "      <th></th>\n",
              "      <th>Unnamed: 0</th>\n",
              "      <th>Clothing ID</th>\n",
              "      <th>Age</th>\n",
              "      <th>Title</th>\n",
              "      <th>Review Text</th>\n",
              "      <th>Rating</th>\n",
              "      <th>Recommended IND</th>\n",
              "      <th>Positive Feedback Count</th>\n",
              "      <th>Division Name</th>\n",
              "      <th>Department Name</th>\n",
              "      <th>Class Name</th>\n",
              "      <th>tokenized</th>\n",
              "      <th>Polarity Score</th>\n",
              "      <th>Neutral Score</th>\n",
              "      <th>Negative Score</th>\n",
              "      <th>Positive Score</th>\n",
              "      <th>Sentiment</th>\n",
              "      <th>tokenized_unlist</th>\n",
              "      <th>label</th>\n",
              "    </tr>\n",
              "  </thead>\n",
              "  <tbody>\n",
              "    <tr>\n",
              "      <th>0</th>\n",
              "      <td>0</td>\n",
              "      <td>767</td>\n",
              "      <td>33</td>\n",
              "      <td>NaN</td>\n",
              "      <td>Absolutely wonderful - silky and sexy and comfortable</td>\n",
              "      <td>4</td>\n",
              "      <td>1</td>\n",
              "      <td>0</td>\n",
              "      <td>Initmates</td>\n",
              "      <td>Intimate</td>\n",
              "      <td>Intimates</td>\n",
              "      <td>[absolutely, wonderful, silky, sexy, comfortable]</td>\n",
              "      <td>0.8932</td>\n",
              "      <td>0.272</td>\n",
              "      <td>0.000</td>\n",
              "      <td>0.728</td>\n",
              "      <td>Positive</td>\n",
              "      <td>absolutely wonderful silky sexy comfortable</td>\n",
              "      <td>1</td>\n",
              "    </tr>\n",
              "    <tr>\n",
              "      <th>1</th>\n",
              "      <td>1</td>\n",
              "      <td>1080</td>\n",
              "      <td>34</td>\n",
              "      <td>NaN</td>\n",
              "      <td>Love this dress!  it's sooo pretty.  i happened to find it in a store, and i'm glad i did bc i never would have ordered it online bc it's petite.  i bought a petite and am 5'8\".  i love the length on me- hits just a little below the knee.  would definitely be a true midi on someone who is truly petite.</td>\n",
              "      <td>5</td>\n",
              "      <td>1</td>\n",
              "      <td>4</td>\n",
              "      <td>General</td>\n",
              "      <td>Dresses</td>\n",
              "      <td>Dresses</td>\n",
              "      <td>[love, dress, sooo, pretty, happened, find, store, glad, bc, never, would, ordered, online, bc, petite, bought, petite, 5, 8, love, length, hits, little, knee, would, definitely, true, midi, someone, truly, petite]</td>\n",
              "      <td>0.9729</td>\n",
              "      <td>0.664</td>\n",
              "      <td>0.000</td>\n",
              "      <td>0.336</td>\n",
              "      <td>Positive</td>\n",
              "      <td>love dress sooo pretty happened find store glad bc never would ordered online bc petite bought petite 5 8 love length hits little knee would definitely true midi someone truly petite</td>\n",
              "      <td>1</td>\n",
              "    </tr>\n",
              "    <tr>\n",
              "      <th>2</th>\n",
              "      <td>2</td>\n",
              "      <td>1077</td>\n",
              "      <td>60</td>\n",
              "      <td>Some major design flaws</td>\n",
              "      <td>I had such high hopes for this dress and really wanted it to work for me. i initially ordered the petite small (my usual size) but i found this to be outrageously small. so small in fact that i could not zip it up! i reordered it in petite medium, which was just ok. overall, the top half was comfortable and fit nicely, but the bottom half had a very tight under layer and several somewhat cheap (net) over layers. imo, a major design flaw was the net over layer sewn directly into the zipper - ...</td>\n",
              "      <td>3</td>\n",
              "      <td>0</td>\n",
              "      <td>0</td>\n",
              "      <td>General</td>\n",
              "      <td>Dresses</td>\n",
              "      <td>Dresses</td>\n",
              "      <td>[high, hopes, dress, really, wanted, work, initially, ordered, petite, small, usual, size, found, outrageously, small, small, fact, could, zip, reordered, petite, medium, ok, overall, top, half, comfortable, fit, nicely, bottom, half, tight, layer, several, somewhat, cheap, net, layers, imo, major, design, flaw, net, layer, sewn, directly, zipper, c]</td>\n",
              "      <td>0.9427</td>\n",
              "      <td>0.792</td>\n",
              "      <td>0.027</td>\n",
              "      <td>0.181</td>\n",
              "      <td>Positive</td>\n",
              "      <td>high hopes dress really wanted work initially ordered petite small usual size found outrageously small small fact could zip reordered petite medium ok overall top half comfortable fit nicely bottom half tight layer several somewhat cheap net layers imo major design flaw net layer sewn directly zipper c</td>\n",
              "      <td>1</td>\n",
              "    </tr>\n",
              "    <tr>\n",
              "      <th>3</th>\n",
              "      <td>3</td>\n",
              "      <td>1049</td>\n",
              "      <td>50</td>\n",
              "      <td>My favorite buy!</td>\n",
              "      <td>I love, love, love this jumpsuit. it's fun, flirty, and fabulous! every time i wear it, i get nothing but great compliments!</td>\n",
              "      <td>5</td>\n",
              "      <td>1</td>\n",
              "      <td>0</td>\n",
              "      <td>General Petite</td>\n",
              "      <td>Bottoms</td>\n",
              "      <td>Pants</td>\n",
              "      <td>[love, love, love, jumpsuit, fun, flirty, fabulous, every, time, wear, get, nothing, great, compliments]</td>\n",
              "      <td>0.5727</td>\n",
              "      <td>0.340</td>\n",
              "      <td>0.226</td>\n",
              "      <td>0.434</td>\n",
              "      <td>Positive</td>\n",
              "      <td>love love love jumpsuit fun flirty fabulous every time wear get nothing great compliments</td>\n",
              "      <td>1</td>\n",
              "    </tr>\n",
              "    <tr>\n",
              "      <th>4</th>\n",
              "      <td>4</td>\n",
              "      <td>847</td>\n",
              "      <td>47</td>\n",
              "      <td>Flattering shirt</td>\n",
              "      <td>This shirt is very flattering to all due to the adjustable front tie. it is the perfect length to wear with leggings and it is sleeveless so it pairs well with any cardigan. love this shirt!!!</td>\n",
              "      <td>5</td>\n",
              "      <td>1</td>\n",
              "      <td>6</td>\n",
              "      <td>General</td>\n",
              "      <td>Tops</td>\n",
              "      <td>Blouses</td>\n",
              "      <td>[shirt, flattering, due, adjustable, front, tie, perfect, length, wear, leggings, sleeveless, pairs, well, cardigan, love, shirt]</td>\n",
              "      <td>0.9291</td>\n",
              "      <td>0.700</td>\n",
              "      <td>0.000</td>\n",
              "      <td>0.300</td>\n",
              "      <td>Positive</td>\n",
              "      <td>shirt flattering due adjustable front tie perfect length wear leggings sleeveless pairs well cardigan love shirt</td>\n",
              "      <td>1</td>\n",
              "    </tr>\n",
              "  </tbody>\n",
              "</table>\n",
              "</div>"
            ],
            "text/plain": [
              "   Unnamed: 0  ...  label\n",
              "0           0  ...      1\n",
              "1           1  ...      1\n",
              "2           2  ...      1\n",
              "3           3  ...      1\n",
              "4           4  ...      1\n",
              "\n",
              "[5 rows x 19 columns]"
            ]
          },
          "metadata": {
            "tags": []
          },
          "execution_count": 18
        }
      ]
    },
    {
      "cell_type": "code",
      "metadata": {
        "colab": {
          "base_uri": "https://localhost:8080/"
        },
        "id": "0z7MFEoKzocv",
        "outputId": "f29326e9-50ec-499d-a46c-ac6d20083710"
      },
      "source": [
        "woman.shape"
      ],
      "execution_count": 19,
      "outputs": [
        {
          "output_type": "execute_result",
          "data": {
            "text/plain": [
              "(23486, 19)"
            ]
          },
          "metadata": {
            "tags": []
          },
          "execution_count": 19
        }
      ]
    },
    {
      "cell_type": "code",
      "metadata": {
        "id": "l9ruUP_1tbns"
      },
      "source": [
        "#woman.to_csv('woman.csv')"
      ],
      "execution_count": 20,
      "outputs": []
    },
    {
      "cell_type": "markdown",
      "metadata": {
        "id": "X-JFRK_hwvtd"
      },
      "source": [
        "### **Data Processing**"
      ]
    },
    {
      "cell_type": "markdown",
      "metadata": {
        "id": "7QzIU6Htw7El"
      },
      "source": [
        "Import Libraries "
      ]
    },
    {
      "cell_type": "code",
      "metadata": {
        "id": "kqgo3DOUw6Bu"
      },
      "source": [
        "import datetime as dt \r\n",
        "import sklearn.metrics as mt\r\n",
        "\r\n",
        "from sklearn.svm import SVC\r\n",
        "from sklearn.metrics import confusion_matrix\r\n",
        "from sklearn.naive_bayes import MultinomialNB\r\n",
        "from sklearn.model_selection import train_test_split\r\n",
        "from sklearn.feature_extraction.text import CountVectorizer"
      ],
      "execution_count": 21,
      "outputs": []
    },
    {
      "cell_type": "code",
      "metadata": {
        "colab": {
          "base_uri": "https://localhost:8080/"
        },
        "id": "r4exstFf0ipO",
        "outputId": "9eea5d9c-23d4-498b-da4c-37cea2cf5a8d"
      },
      "source": [
        "woman.columns"
      ],
      "execution_count": 22,
      "outputs": [
        {
          "output_type": "execute_result",
          "data": {
            "text/plain": [
              "Index(['Unnamed: 0', 'Clothing ID', 'Age', 'Title', 'Review Text', 'Rating',\n",
              "       'Recommended IND', 'Positive Feedback Count', 'Division Name',\n",
              "       'Department Name', 'Class Name', 'tokenized', 'Polarity Score',\n",
              "       'Neutral Score', 'Negative Score', 'Positive Score', 'Sentiment',\n",
              "       'tokenized_unlist', 'label'],\n",
              "      dtype='object')"
            ]
          },
          "metadata": {
            "tags": []
          },
          "execution_count": 22
        }
      ]
    },
    {
      "cell_type": "markdown",
      "metadata": {
        "id": "hX8KVzA91wAf"
      },
      "source": [
        "Select Data for Sentiment Analyst"
      ]
    },
    {
      "cell_type": "code",
      "metadata": {
        "id": "4NA--S1Y0leQ"
      },
      "source": [
        "select_data=woman[['Clothing ID','Review Text','Rating','Recommended IND','Polarity Score','Sentiment','label']]"
      ],
      "execution_count": 23,
      "outputs": []
    },
    {
      "cell_type": "code",
      "metadata": {
        "colab": {
          "base_uri": "https://localhost:8080/"
        },
        "id": "ladyxH_Y4c3z",
        "outputId": "7aaae72b-4867-415e-ef16-c2faa828648c"
      },
      "source": [
        "select_data.shape"
      ],
      "execution_count": 24,
      "outputs": [
        {
          "output_type": "execute_result",
          "data": {
            "text/plain": [
              "(23486, 7)"
            ]
          },
          "metadata": {
            "tags": []
          },
          "execution_count": 24
        }
      ]
    },
    {
      "cell_type": "code",
      "metadata": {
        "id": "tpFGnjSA4k82"
      },
      "source": [
        "def remove_pattern(input_txt, pattern): #erase pattern\r\n",
        "    r = re.findall(pattern, input_txt)\r\n",
        "    for i in r:\r\n",
        "        input_txt = re.sub(i, '', input_txt)\r\n",
        "    return input_txt  "
      ],
      "execution_count": 25,
      "outputs": []
    },
    {
      "cell_type": "code",
      "metadata": {
        "colab": {
          "base_uri": "https://localhost:8080/",
          "height": 533
        },
        "id": "ZPuHBQ-G4wn0",
        "outputId": "a3c96fc5-aec4-4e1b-8435-39c988761fc8"
      },
      "source": [
        "select_data['review_clean'] = select_data['Review Text'].str.replace(\"[^a-zA-Z#']\", \" \") \r\n",
        "select_data.sample(2)"
      ],
      "execution_count": 26,
      "outputs": [
        {
          "output_type": "stream",
          "text": [
            "/usr/local/lib/python3.6/dist-packages/ipykernel_launcher.py:1: SettingWithCopyWarning: \n",
            "A value is trying to be set on a copy of a slice from a DataFrame.\n",
            "Try using .loc[row_indexer,col_indexer] = value instead\n",
            "\n",
            "See the caveats in the documentation: https://pandas.pydata.org/pandas-docs/stable/user_guide/indexing.html#returning-a-view-versus-a-copy\n",
            "  \"\"\"Entry point for launching an IPython kernel.\n"
          ],
          "name": "stderr"
        },
        {
          "output_type": "execute_result",
          "data": {
            "text/html": [
              "<div>\n",
              "<style scoped>\n",
              "    .dataframe tbody tr th:only-of-type {\n",
              "        vertical-align: middle;\n",
              "    }\n",
              "\n",
              "    .dataframe tbody tr th {\n",
              "        vertical-align: top;\n",
              "    }\n",
              "\n",
              "    .dataframe thead th {\n",
              "        text-align: right;\n",
              "    }\n",
              "</style>\n",
              "<table border=\"1\" class=\"dataframe\">\n",
              "  <thead>\n",
              "    <tr style=\"text-align: right;\">\n",
              "      <th></th>\n",
              "      <th>Clothing ID</th>\n",
              "      <th>Review Text</th>\n",
              "      <th>Rating</th>\n",
              "      <th>Recommended IND</th>\n",
              "      <th>Polarity Score</th>\n",
              "      <th>Sentiment</th>\n",
              "      <th>label</th>\n",
              "      <th>review_clean</th>\n",
              "    </tr>\n",
              "  </thead>\n",
              "  <tbody>\n",
              "    <tr>\n",
              "      <th>22214</th>\n",
              "      <td>1078</td>\n",
              "      <td>I took a risk on this dress despite the multiple reviews about the pouffy skirt and revealing neckline, because i loved the look of the blue motif print. alas, the adorable print, the handy bra-strap holders, and super-soft fabric were the only things that worked for me. i'm 5'3\" and 120 lb, small up top, not especially curvy but not straight either, and i ordered my usual 2p. yup, the pleated skirt was much too full (i felt as though i was wearing a cheerleader's skirt) and the neckline was...</td>\n",
              "      <td>3</td>\n",
              "      <td>0</td>\n",
              "      <td>0.2146</td>\n",
              "      <td>Positive</td>\n",
              "      <td>1</td>\n",
              "      <td>I took a risk on this dress despite the multiple reviews about the pouffy skirt and revealing neckline  because i loved the look of the blue motif print  alas  the adorable print  the handy bra strap holders  and super soft fabric were the only things that worked for me  i'm  '   and     lb  small up top  not especially curvy but not straight either  and i ordered my usual  p  yup  the pleated skirt was much too full  i felt as though i was wearing a cheerleader's skirt  and the neckline was...</td>\n",
              "    </tr>\n",
              "    <tr>\n",
              "      <th>1468</th>\n",
              "      <td>411</td>\n",
              "      <td>While there us no clasp and this bra does require you to pull it over your head, i did not find it to be too difficult. i love that the bra stays in place and that i do not have to constantly pull it up throughout the day! it's quite comfortable too. i wish i had ordered the same bra with the straps too before they sold out of my size!</td>\n",
              "      <td>5</td>\n",
              "      <td>1</td>\n",
              "      <td>0.8244</td>\n",
              "      <td>Positive</td>\n",
              "      <td>1</td>\n",
              "      <td>While there us no clasp and this bra does require you to pull it over your head  i did not find it to be too difficult  i love that the bra stays in place and that i do not have to constantly pull it up throughout the day  it's quite comfortable too  i wish i had ordered the same bra with the straps too before they sold out of my size</td>\n",
              "    </tr>\n",
              "  </tbody>\n",
              "</table>\n",
              "</div>"
            ],
            "text/plain": [
              "       Clothing ID  ...                                                                                                                                                                                                                                                                                                                                                                                                                                                                                                         review_clean\n",
              "22214         1078  ...  I took a risk on this dress despite the multiple reviews about the pouffy skirt and revealing neckline  because i loved the look of the blue motif print  alas  the adorable print  the handy bra strap holders  and super soft fabric were the only things that worked for me  i'm  '   and     lb  small up top  not especially curvy but not straight either  and i ordered my usual  p  yup  the pleated skirt was much too full  i felt as though i was wearing a cheerleader's skirt  and the neckline was...\n",
              "1468           411  ...                                                                                                                                                                    While there us no clasp and this bra does require you to pull it over your head  i did not find it to be too difficult  i love that the bra stays in place and that i do not have to constantly pull it up throughout the day  it's quite comfortable too  i wish i had ordered the same bra with the straps too before they sold out of my size \n",
              "\n",
              "[2 rows x 8 columns]"
            ]
          },
          "metadata": {
            "tags": []
          },
          "execution_count": 26
        }
      ]
    },
    {
      "cell_type": "code",
      "metadata": {
        "colab": {
          "base_uri": "https://localhost:8080/"
        },
        "id": "hvLVl4hb42z0",
        "outputId": "25fd9711-1957-43a2-92fc-31c0b10da9b7"
      },
      "source": [
        "select_data['Review Text'].fillna('')"
      ],
      "execution_count": 27,
      "outputs": [
        {
          "output_type": "execute_result",
          "data": {
            "text/plain": [
              "0                                                                                                                                                                                                                                                                                                                                                                                                                                                                      Absolutely wonderful - silky and sexy and comfortable\n",
              "1                                                                                                                                                                                                            Love this dress!  it's sooo pretty.  i happened to find it in a store, and i'm glad i did bc i never would have ordered it online bc it's petite.  i bought a petite and am 5'8\".  i love the length on me- hits just a little below the knee.  would definitely be a true midi on someone who is truly petite.\n",
              "2        I had such high hopes for this dress and really wanted it to work for me. i initially ordered the petite small (my usual size) but i found this to be outrageously small. so small in fact that i could not zip it up! i reordered it in petite medium, which was just ok. overall, the top half was comfortable and fit nicely, but the bottom half had a very tight under layer and several somewhat cheap (net) over layers. imo, a major design flaw was the net over layer sewn directly into the zipper - ...\n",
              "3                                                                                                                                                                                                                                                                                                                                                                                               I love, love, love this jumpsuit. it's fun, flirty, and fabulous! every time i wear it, i get nothing but great compliments!\n",
              "4                                                                                                                                                                                                                                                                                                                           This shirt is very flattering to all due to the adjustable front tie. it is the perfect length to wear with leggings and it is sleeveless so it pairs well with any cardigan. love this shirt!!!\n",
              "                                                                                                                                                                                                                                                                ...                                                                                                                                                                                                                                                         \n",
              "23481                                                                                                                                                                                                                                                                                                                                                                                    I was very happy to snag this dress at such a great price! it's very easy to slip on and has a very flattering cut and color combo.\n",
              "23482                                                                                                                                                                                                                                                                                       It reminds me of maternity clothes. soft, stretchy, shiny material. cut is flattering and drapes nicely. i only found one button to close front... looked awkward. nice long sleeves.\\nnot for me but maybe for others. just ok.\n",
              "23483                                                                                                                                                                                                                                                                                                       This fit well, but the top was very see through. this never would have worked for me. i'm glad i was able to try it on in the store and didn't order it online. with different fabric, it would have been great.\n",
              "23484                                                                            I bought this dress for a wedding i have this summer, and it's so cute. unfortunately the fit isn't perfect. the medium fits my waist perfectly, but was way too long and too big in the bust and shoulders. if i wanted to spend the money, i could get it tailored, but i just felt like it might not be worth it. side note - this dress was delivered to me with a nordstrom tag on it and i found it much cheaper there after looking!\n",
              "23485                                                                                                                                                                                                                                                                                                                                                                                                         This dress in a lovely platinum is feminine and fits perfectly, easy to wear and comfy, too! highly recommend!\n",
              "Name: Review Text, Length: 23486, dtype: object"
            ]
          },
          "metadata": {
            "tags": []
          },
          "execution_count": 27
        }
      ]
    },
    {
      "cell_type": "markdown",
      "metadata": {
        "id": "STyKAgqL5Ff2"
      },
      "source": [
        "CountVectorizer() converts a collection of text documents to a matrix of token counts. Then assign a shorter name for the analyze which tokenizes the string\r\n",
        "\r\n",
        "For wordcounts function\r\n",
        "- tokenize the string and continue, if it is not empty\r\n",
        "- find counts of the vocabularies and transform to array\r\n",
        "- define vocabulary and index (index of w)\r\n",
        "- items() transforms the dictionary's (word, index) tuple pairs\r\n",
        "\r\n",
        "\r\n",
        "Add new column to the dataframe for review_clean"
      ]
    },
    {
      "cell_type": "code",
      "metadata": {
        "id": "AmAekM0c5CiX"
      },
      "source": [
        "vectorizer = CountVectorizer()\r\n",
        "analyzer = vectorizer.build_analyzer()"
      ],
      "execution_count": 28,
      "outputs": []
    },
    {
      "cell_type": "code",
      "metadata": {
        "id": "pj1Fgr1w5JWo"
      },
      "source": [
        "def wordcounts(s):\r\n",
        "    c = {}\r\n",
        "   \r\n",
        "    if analyzer(s):\r\n",
        "        d = {} \r\n",
        "        w = vectorizer.fit_transform([s]).toarray()\r\n",
        "        vc = vectorizer.vocabulary_\r\n",
        "        for k,v in vc.items():\r\n",
        "            d[v]=k # d -> index:word \r\n",
        "        for index,i in enumerate(w[0]):\r\n",
        "            c[d[index]] = i # c -> word:count\r\n",
        "    return  c"
      ],
      "execution_count": 29,
      "outputs": []
    },
    {
      "cell_type": "code",
      "metadata": {
        "colab": {
          "base_uri": "https://localhost:8080/",
          "height": 488
        },
        "id": "3gWuhTKi5LnK",
        "outputId": "527ea917-faa1-487e-fd3b-f92ac2d10fbd"
      },
      "source": [
        "select_data['review_clean']=select_data['review_clean'].values.astype('U')\r\n",
        "select_data['Word Counts']=select_data['review_clean'].apply(wordcounts)\r\n",
        "select_data.head(2)"
      ],
      "execution_count": 30,
      "outputs": [
        {
          "output_type": "stream",
          "text": [
            "/usr/local/lib/python3.6/dist-packages/ipykernel_launcher.py:1: SettingWithCopyWarning: \n",
            "A value is trying to be set on a copy of a slice from a DataFrame.\n",
            "Try using .loc[row_indexer,col_indexer] = value instead\n",
            "\n",
            "See the caveats in the documentation: https://pandas.pydata.org/pandas-docs/stable/user_guide/indexing.html#returning-a-view-versus-a-copy\n",
            "  \"\"\"Entry point for launching an IPython kernel.\n",
            "/usr/local/lib/python3.6/dist-packages/ipykernel_launcher.py:2: SettingWithCopyWarning: \n",
            "A value is trying to be set on a copy of a slice from a DataFrame.\n",
            "Try using .loc[row_indexer,col_indexer] = value instead\n",
            "\n",
            "See the caveats in the documentation: https://pandas.pydata.org/pandas-docs/stable/user_guide/indexing.html#returning-a-view-versus-a-copy\n",
            "  \n"
          ],
          "name": "stderr"
        },
        {
          "output_type": "execute_result",
          "data": {
            "text/html": [
              "<div>\n",
              "<style scoped>\n",
              "    .dataframe tbody tr th:only-of-type {\n",
              "        vertical-align: middle;\n",
              "    }\n",
              "\n",
              "    .dataframe tbody tr th {\n",
              "        vertical-align: top;\n",
              "    }\n",
              "\n",
              "    .dataframe thead th {\n",
              "        text-align: right;\n",
              "    }\n",
              "</style>\n",
              "<table border=\"1\" class=\"dataframe\">\n",
              "  <thead>\n",
              "    <tr style=\"text-align: right;\">\n",
              "      <th></th>\n",
              "      <th>Clothing ID</th>\n",
              "      <th>Review Text</th>\n",
              "      <th>Rating</th>\n",
              "      <th>Recommended IND</th>\n",
              "      <th>Polarity Score</th>\n",
              "      <th>Sentiment</th>\n",
              "      <th>label</th>\n",
              "      <th>review_clean</th>\n",
              "      <th>Word Counts</th>\n",
              "    </tr>\n",
              "  </thead>\n",
              "  <tbody>\n",
              "    <tr>\n",
              "      <th>0</th>\n",
              "      <td>767</td>\n",
              "      <td>Absolutely wonderful - silky and sexy and comfortable</td>\n",
              "      <td>4</td>\n",
              "      <td>1</td>\n",
              "      <td>0.8932</td>\n",
              "      <td>Positive</td>\n",
              "      <td>1</td>\n",
              "      <td>Absolutely wonderful   silky and sexy and comfortable</td>\n",
              "      <td>{'absolutely': 1, 'and': 2, 'comfortable': 1, 'sexy': 1, 'silky': 1, 'wonderful': 1}</td>\n",
              "    </tr>\n",
              "    <tr>\n",
              "      <th>1</th>\n",
              "      <td>1080</td>\n",
              "      <td>Love this dress!  it's sooo pretty.  i happened to find it in a store, and i'm glad i did bc i never would have ordered it online bc it's petite.  i bought a petite and am 5'8\".  i love the length on me- hits just a little below the knee.  would definitely be a true midi on someone who is truly petite.</td>\n",
              "      <td>5</td>\n",
              "      <td>1</td>\n",
              "      <td>0.9729</td>\n",
              "      <td>Positive</td>\n",
              "      <td>1</td>\n",
              "      <td>Love this dress   it's sooo pretty   i happened to find it in a store  and i'm glad i did bc i never would have ordered it online bc it's petite   i bought a petite and am  '     i love the length on me  hits just a little below the knee   would definitely be a true midi on someone who is truly petite</td>\n",
              "      <td>{'am': 1, 'and': 2, 'bc': 2, 'be': 1, 'below': 1, 'bought': 1, 'definitely': 1, 'did': 1, 'dress': 1, 'find': 1, 'glad': 1, 'happened': 1, 'have': 1, 'hits': 1, 'in': 1, 'is': 1, 'it': 4, 'just': 1, 'knee': 1, 'length': 1, 'little': 1, 'love': 2, 'me': 1, 'midi': 1, 'never': 1, 'on': 2, 'online': 1, 'ordered': 1, 'petite': 3, 'pretty': 1, 'someone': 1, 'sooo': 1, 'store': 1, 'the': 2, 'this': 1, 'to': 1, 'true': 1, 'truly': 1, 'who': 1, 'would': 2}</td>\n",
              "    </tr>\n",
              "  </tbody>\n",
              "</table>\n",
              "</div>"
            ],
            "text/plain": [
              "   Clothing ID  ...                                                                                                                                                                                                                                                                                                                                                                                                                                                           Word Counts\n",
              "0          767  ...                                                                                                                                                                                                                                                                                                                                                                                  {'absolutely': 1, 'and': 2, 'comfortable': 1, 'sexy': 1, 'silky': 1, 'wonderful': 1}\n",
              "1         1080  ...  {'am': 1, 'and': 2, 'bc': 2, 'be': 1, 'below': 1, 'bought': 1, 'definitely': 1, 'did': 1, 'dress': 1, 'find': 1, 'glad': 1, 'happened': 1, 'have': 1, 'hits': 1, 'in': 1, 'is': 1, 'it': 4, 'just': 1, 'knee': 1, 'length': 1, 'little': 1, 'love': 2, 'me': 1, 'midi': 1, 'never': 1, 'on': 2, 'online': 1, 'ordered': 1, 'petite': 3, 'pretty': 1, 'someone': 1, 'sooo': 1, 'store': 1, 'the': 2, 'this': 1, 'to': 1, 'true': 1, 'truly': 1, 'who': 1, 'would': 2}\n",
              "\n",
              "[2 rows x 9 columns]"
            ]
          },
          "metadata": {
            "tags": []
          },
          "execution_count": 30
        }
      ]
    },
    {
      "cell_type": "code",
      "metadata": {
        "colab": {
          "base_uri": "https://localhost:8080/",
          "height": 381
        },
        "id": "iCiP12iT5T5G",
        "outputId": "4ef5da00-fe3a-434a-9d3f-a9ea8a25cd06"
      },
      "source": [
        "select_data['Sentiment'] = select_data['Rating'] >=4\r\n",
        "select_data.head(2)"
      ],
      "execution_count": 31,
      "outputs": [
        {
          "output_type": "stream",
          "text": [
            "/usr/local/lib/python3.6/dist-packages/ipykernel_launcher.py:1: SettingWithCopyWarning: \n",
            "A value is trying to be set on a copy of a slice from a DataFrame.\n",
            "Try using .loc[row_indexer,col_indexer] = value instead\n",
            "\n",
            "See the caveats in the documentation: https://pandas.pydata.org/pandas-docs/stable/user_guide/indexing.html#returning-a-view-versus-a-copy\n",
            "  \"\"\"Entry point for launching an IPython kernel.\n"
          ],
          "name": "stderr"
        },
        {
          "output_type": "execute_result",
          "data": {
            "text/html": [
              "<div>\n",
              "<style scoped>\n",
              "    .dataframe tbody tr th:only-of-type {\n",
              "        vertical-align: middle;\n",
              "    }\n",
              "\n",
              "    .dataframe tbody tr th {\n",
              "        vertical-align: top;\n",
              "    }\n",
              "\n",
              "    .dataframe thead th {\n",
              "        text-align: right;\n",
              "    }\n",
              "</style>\n",
              "<table border=\"1\" class=\"dataframe\">\n",
              "  <thead>\n",
              "    <tr style=\"text-align: right;\">\n",
              "      <th></th>\n",
              "      <th>Clothing ID</th>\n",
              "      <th>Review Text</th>\n",
              "      <th>Rating</th>\n",
              "      <th>Recommended IND</th>\n",
              "      <th>Polarity Score</th>\n",
              "      <th>Sentiment</th>\n",
              "      <th>label</th>\n",
              "      <th>review_clean</th>\n",
              "      <th>Word Counts</th>\n",
              "    </tr>\n",
              "  </thead>\n",
              "  <tbody>\n",
              "    <tr>\n",
              "      <th>0</th>\n",
              "      <td>767</td>\n",
              "      <td>Absolutely wonderful - silky and sexy and comfortable</td>\n",
              "      <td>4</td>\n",
              "      <td>1</td>\n",
              "      <td>0.8932</td>\n",
              "      <td>True</td>\n",
              "      <td>1</td>\n",
              "      <td>Absolutely wonderful   silky and sexy and comfortable</td>\n",
              "      <td>{'absolutely': 1, 'and': 2, 'comfortable': 1, 'sexy': 1, 'silky': 1, 'wonderful': 1}</td>\n",
              "    </tr>\n",
              "    <tr>\n",
              "      <th>1</th>\n",
              "      <td>1080</td>\n",
              "      <td>Love this dress!  it's sooo pretty.  i happened to find it in a store, and i'm glad i did bc i never would have ordered it online bc it's petite.  i bought a petite and am 5'8\".  i love the length on me- hits just a little below the knee.  would definitely be a true midi on someone who is truly petite.</td>\n",
              "      <td>5</td>\n",
              "      <td>1</td>\n",
              "      <td>0.9729</td>\n",
              "      <td>True</td>\n",
              "      <td>1</td>\n",
              "      <td>Love this dress   it's sooo pretty   i happened to find it in a store  and i'm glad i did bc i never would have ordered it online bc it's petite   i bought a petite and am  '     i love the length on me  hits just a little below the knee   would definitely be a true midi on someone who is truly petite</td>\n",
              "      <td>{'am': 1, 'and': 2, 'bc': 2, 'be': 1, 'below': 1, 'bought': 1, 'definitely': 1, 'did': 1, 'dress': 1, 'find': 1, 'glad': 1, 'happened': 1, 'have': 1, 'hits': 1, 'in': 1, 'is': 1, 'it': 4, 'just': 1, 'knee': 1, 'length': 1, 'little': 1, 'love': 2, 'me': 1, 'midi': 1, 'never': 1, 'on': 2, 'online': 1, 'ordered': 1, 'petite': 3, 'pretty': 1, 'someone': 1, 'sooo': 1, 'store': 1, 'the': 2, 'this': 1, 'to': 1, 'true': 1, 'truly': 1, 'who': 1, 'would': 2}</td>\n",
              "    </tr>\n",
              "  </tbody>\n",
              "</table>\n",
              "</div>"
            ],
            "text/plain": [
              "   Clothing ID  ...                                                                                                                                                                                                                                                                                                                                                                                                                                                           Word Counts\n",
              "0          767  ...                                                                                                                                                                                                                                                                                                                                                                                  {'absolutely': 1, 'and': 2, 'comfortable': 1, 'sexy': 1, 'silky': 1, 'wonderful': 1}\n",
              "1         1080  ...  {'am': 1, 'and': 2, 'bc': 2, 'be': 1, 'below': 1, 'bought': 1, 'definitely': 1, 'did': 1, 'dress': 1, 'find': 1, 'glad': 1, 'happened': 1, 'have': 1, 'hits': 1, 'in': 1, 'is': 1, 'it': 4, 'just': 1, 'knee': 1, 'length': 1, 'little': 1, 'love': 2, 'me': 1, 'midi': 1, 'never': 1, 'on': 2, 'online': 1, 'ordered': 1, 'petite': 3, 'pretty': 1, 'someone': 1, 'sooo': 1, 'store': 1, 'the': 2, 'this': 1, 'to': 1, 'true': 1, 'truly': 1, 'who': 1, 'would': 2}\n",
              "\n",
              "[2 rows x 9 columns]"
            ]
          },
          "metadata": {
            "tags": []
          },
          "execution_count": 31
        }
      ]
    },
    {
      "cell_type": "markdown",
      "metadata": {
        "id": "TJyBhf-x5pfz"
      },
      "source": [
        "### **Modeling Data Using Supervised Learning Model**"
      ]
    },
    {
      "cell_type": "markdown",
      "metadata": {
        "id": "VkI3y84r5s1O"
      },
      "source": [
        "Define Rating Categorical\r\n",
        "- Rating of 4 or higher -> positive, while the ones with \r\n",
        "- Rating of 2 or lower -> negative \r\n",
        "- Rating of 3 -> neutral\r\n",
        "\r\n",
        "Split data, select the columns and prepare data for the models"
      ]
    },
    {
      "cell_type": "code",
      "metadata": {
        "id": "g0sFwhNV5he5"
      },
      "source": [
        "select_data = select_data[select_data['Rating'] != 3]\r\n",
        "select_data['Sentiment'] = select_data['Rating'] >=4\r\n",
        "select_data.head()\r\n",
        "\r\n",
        "train_data,test_data = train_test_split(select_data,train_size=0.8,random_state=0)\r\n",
        " \r\n",
        "X_train = vectorizer.fit_transform(train_data['review_clean'])\r\n",
        "y_train = train_data['Sentiment']\r\n",
        "X_test = vectorizer.transform(test_data['review_clean'])\r\n",
        "y_test = test_data['Sentiment']"
      ],
      "execution_count": 32,
      "outputs": []
    },
    {
      "cell_type": "markdown",
      "metadata": {
        "id": "BFc6162c58qv"
      },
      "source": [
        "Code for error 'Nan'\r\n",
        "\r\n",
        "    .values.astype('U')"
      ]
    },
    {
      "cell_type": "code",
      "metadata": {
        "colab": {
          "base_uri": "https://localhost:8080/"
        },
        "id": "wWRYMbff55De",
        "outputId": "77adf84a-e0c9-44d0-c64a-726416fb5a7c"
      },
      "source": [
        "start=dt.datetime.now()\r\n",
        "nb = MultinomialNB()\r\n",
        "nb.fit(X_train,y_train)\r\n",
        "print('Elapsed time: ',str(dt.datetime.now()-start))"
      ],
      "execution_count": 33,
      "outputs": [
        {
          "output_type": "stream",
          "text": [
            "Elapsed time:  0:00:00.015151\n"
          ],
          "name": "stdout"
        }
      ]
    },
    {
      "cell_type": "code",
      "metadata": {
        "colab": {
          "base_uri": "https://localhost:8080/"
        },
        "id": "5xQAV5St5_vC",
        "outputId": "e4b6aeb1-5886-43e4-db5c-b5007ec80717"
      },
      "source": [
        "start=dt.datetime.now()\r\n",
        "svm = SVC()\r\n",
        "svm.fit(X_train,y_train)\r\n",
        "print('Elapsed time: ',str(dt.datetime.now()-start))"
      ],
      "execution_count": 34,
      "outputs": [
        {
          "output_type": "stream",
          "text": [
            "Elapsed time:  0:00:50.440327\n"
          ],
          "name": "stdout"
        }
      ]
    },
    {
      "cell_type": "code",
      "metadata": {
        "colab": {
          "base_uri": "https://localhost:8080/",
          "height": 106
        },
        "id": "DHLOwN5P6B92",
        "outputId": "29299e2d-1f2b-4f25-c2c5-da825dd25fd2"
      },
      "source": [
        "train_data[['Clothing ID', 'Review Text', 'Sentiment']].head(2)"
      ],
      "execution_count": 35,
      "outputs": [
        {
          "output_type": "execute_result",
          "data": {
            "text/html": [
              "<div>\n",
              "<style scoped>\n",
              "    .dataframe tbody tr th:only-of-type {\n",
              "        vertical-align: middle;\n",
              "    }\n",
              "\n",
              "    .dataframe tbody tr th {\n",
              "        vertical-align: top;\n",
              "    }\n",
              "\n",
              "    .dataframe thead th {\n",
              "        text-align: right;\n",
              "    }\n",
              "</style>\n",
              "<table border=\"1\" class=\"dataframe\">\n",
              "  <thead>\n",
              "    <tr style=\"text-align: right;\">\n",
              "      <th></th>\n",
              "      <th>Clothing ID</th>\n",
              "      <th>Review Text</th>\n",
              "      <th>Sentiment</th>\n",
              "    </tr>\n",
              "  </thead>\n",
              "  <tbody>\n",
              "    <tr>\n",
              "      <th>19218</th>\n",
              "      <td>1078</td>\n",
              "      <td>I love this dress's gentle blue lace. the silhouette is just as seen in the pictures. i found the dress tight in the chest and had to size up one size (6 to 8).</td>\n",
              "      <td>True</td>\n",
              "    </tr>\n",
              "    <tr>\n",
              "      <th>3530</th>\n",
              "      <td>872</td>\n",
              "      <td>Beautiful choice...beautiful fit for my daughter's slim body</td>\n",
              "      <td>True</td>\n",
              "    </tr>\n",
              "  </tbody>\n",
              "</table>\n",
              "</div>"
            ],
            "text/plain": [
              "       Clothing ID  ... Sentiment\n",
              "19218         1078  ...      True\n",
              "3530           872  ...      True\n",
              "\n",
              "[2 rows x 3 columns]"
            ]
          },
          "metadata": {
            "tags": []
          },
          "execution_count": 35
        }
      ]
    },
    {
      "cell_type": "markdown",
      "metadata": {
        "id": "-T4WcBoK6SIC"
      },
      "source": [
        "Define a dataframe for the predictions"
      ]
    },
    {
      "cell_type": "code",
      "metadata": {
        "colab": {
          "base_uri": "https://localhost:8080/",
          "height": 526
        },
        "id": "FlcDTUWb6Py4",
        "outputId": "ecf41bcc-440c-4d47-95db-26038efc91a0"
      },
      "source": [
        "df_predict = train_data[['Clothing ID', 'Review Text', 'Sentiment']].copy()\r\n",
        "df_predict['Naive Bayes'] = nb.predict(X_train)\r\n",
        "df_predict['SVM'] = svm.predict(X_train)\r\n",
        "df_predict.head(10)"
      ],
      "execution_count": 36,
      "outputs": [
        {
          "output_type": "execute_result",
          "data": {
            "text/html": [
              "<div>\n",
              "<style scoped>\n",
              "    .dataframe tbody tr th:only-of-type {\n",
              "        vertical-align: middle;\n",
              "    }\n",
              "\n",
              "    .dataframe tbody tr th {\n",
              "        vertical-align: top;\n",
              "    }\n",
              "\n",
              "    .dataframe thead th {\n",
              "        text-align: right;\n",
              "    }\n",
              "</style>\n",
              "<table border=\"1\" class=\"dataframe\">\n",
              "  <thead>\n",
              "    <tr style=\"text-align: right;\">\n",
              "      <th></th>\n",
              "      <th>Clothing ID</th>\n",
              "      <th>Review Text</th>\n",
              "      <th>Sentiment</th>\n",
              "      <th>Naive Bayes</th>\n",
              "      <th>SVM</th>\n",
              "    </tr>\n",
              "  </thead>\n",
              "  <tbody>\n",
              "    <tr>\n",
              "      <th>19218</th>\n",
              "      <td>1078</td>\n",
              "      <td>I love this dress's gentle blue lace. the silhouette is just as seen in the pictures. i found the dress tight in the chest and had to size up one size (6 to 8).</td>\n",
              "      <td>True</td>\n",
              "      <td>True</td>\n",
              "      <td>True</td>\n",
              "    </tr>\n",
              "    <tr>\n",
              "      <th>3530</th>\n",
              "      <td>872</td>\n",
              "      <td>Beautiful choice...beautiful fit for my daughter's slim body</td>\n",
              "      <td>True</td>\n",
              "      <td>True</td>\n",
              "      <td>True</td>\n",
              "    </tr>\n",
              "    <tr>\n",
              "      <th>15663</th>\n",
              "      <td>1078</td>\n",
              "      <td>If you are shaped anything like me, you will have to size up quite a bit on this one. i tried it on in my normal size and probably needed to size up 2 or more sizes to get the proper fit. the fabric has no \"give\" and feels a little cheap in my opinion. for your reference, i am a curvy, athletic build with broad shoulders.</td>\n",
              "      <td>True</td>\n",
              "      <td>True</td>\n",
              "      <td>True</td>\n",
              "    </tr>\n",
              "    <tr>\n",
              "      <th>21310</th>\n",
              "      <td>836</td>\n",
              "      <td>This top is so cute and of spectacular quality, but you have to size up! i'm a 10/m/34c all the time. i almost never have to size up or down. but this top was so tight around the bust that i couldn't possibly have closed the zipper in the back. i'm sending it back for a l in the hopes of a better fit. the coloring of the owls is out-of-this-world cute, so i'm keeping my fingers crossed that a larger size will be just right.</td>\n",
              "      <td>True</td>\n",
              "      <td>True</td>\n",
              "      <td>True</td>\n",
              "    </tr>\n",
              "    <tr>\n",
              "      <th>15154</th>\n",
              "      <td>940</td>\n",
              "      <td>First saw this poncho on a petite blog and after reading reviews happily paid full price. i followed the petite reviews and purchased the xs regular. the length hits right below my bum so it's perfectly structured to wear with leggings. the cable knit is super soft and very warm. wore this for the first time last weekend layered over a long sleeve tee and was perfectly cozy outside for a fall day in chicago. this item will not last long and is well worth paying full price.</td>\n",
              "      <td>True</td>\n",
              "      <td>True</td>\n",
              "      <td>True</td>\n",
              "    </tr>\n",
              "    <tr>\n",
              "      <th>3994</th>\n",
              "      <td>1094</td>\n",
              "      <td>This dress has a beautiful fit--5'4\", 150 lbs, 34ddd, and the medium regular fit great. the only issue is that the bottom part of the dress wrinkles terribly. when i bought it, the woman folded it nicely, and i stashed it in my car for the rest of my shopping trip. when i arrived home and pulled it out, the bottom of the dress was horribly wrinkled. plus it's dry clean only. going back. :(</td>\n",
              "      <td>True</td>\n",
              "      <td>False</td>\n",
              "      <td>True</td>\n",
              "    </tr>\n",
              "    <tr>\n",
              "      <th>8250</th>\n",
              "      <td>867</td>\n",
              "      <td>I just love the print on this shirt!  it is so feminine and pretty!  the material is very soft!  i took my usual medium.  a great addition to my spring wardrobe!</td>\n",
              "      <td>True</td>\n",
              "      <td>True</td>\n",
              "      <td>True</td>\n",
              "    </tr>\n",
              "    <tr>\n",
              "      <th>1417</th>\n",
              "      <td>1094</td>\n",
              "      <td>This dress is perfection it is extremely comfortable and versatile. great for dressing up or down. i am large busted (36g) so was delighted that it stretches as this is a problem for me finding clothing to fit allover. i am petite 5\"1 with a curvy figure and a regular medium fit great!</td>\n",
              "      <td>True</td>\n",
              "      <td>True</td>\n",
              "      <td>True</td>\n",
              "    </tr>\n",
              "    <tr>\n",
              "      <th>17580</th>\n",
              "      <td>1110</td>\n",
              "      <td>I was too late to find my size in petite. boo. i tried the regular sizing and it was huge...a total tent. i am 5'4\" about 118#. i tried an xs. it was gigantic to say the least. huge everywhere. i love that the fabric is thick but yet doesn't feel heavy or hot. i think it would be the perfect summer dress...could wear casually or dress it up. don't need a slip (what a plus for a white dress!) i definitely needed a petite size and most likely from the size of the xs a pxxs. really? i know i ha...</td>\n",
              "      <td>True</td>\n",
              "      <td>True</td>\n",
              "      <td>True</td>\n",
              "    </tr>\n",
              "    <tr>\n",
              "      <th>7819</th>\n",
              "      <td>872</td>\n",
              "      <td>This shell can be worn casual or dressy depending on what it is paired with. enjoy!</td>\n",
              "      <td>True</td>\n",
              "      <td>True</td>\n",
              "      <td>True</td>\n",
              "    </tr>\n",
              "  </tbody>\n",
              "</table>\n",
              "</div>"
            ],
            "text/plain": [
              "       Clothing ID  ...   SVM\n",
              "19218         1078  ...  True\n",
              "3530           872  ...  True\n",
              "15663         1078  ...  True\n",
              "21310          836  ...  True\n",
              "15154          940  ...  True\n",
              "3994          1094  ...  True\n",
              "8250           867  ...  True\n",
              "1417          1094  ...  True\n",
              "17580         1110  ...  True\n",
              "7819           872  ...  True\n",
              "\n",
              "[10 rows x 5 columns]"
            ]
          },
          "metadata": {
            "tags": []
          },
          "execution_count": 36
        }
      ]
    },
    {
      "cell_type": "markdown",
      "metadata": {
        "id": "uKxDTowC6XjC"
      },
      "source": [
        "Preparation for the confusion matrix"
      ]
    },
    {
      "cell_type": "code",
      "metadata": {
        "colab": {
          "base_uri": "https://localhost:8080/",
          "height": 431
        },
        "id": "p2ygh2tu6VKE",
        "outputId": "d47016cc-26d6-4df7-ff9f-c0070b0abe47"
      },
      "source": [
        "nb_cm=confusion_matrix(y_test.values, nb.predict(X_test))\r\n",
        "svm_cm=confusion_matrix(y_test.values, svm.predict(X_test))\r\n",
        "\r\n",
        "plt.figure(figsize=(15,12))\r\n",
        "plt.suptitle(\"Confusion Matrices\",fontsize=24)\r\n",
        "\r\n",
        "plt.subplot(221)\r\n",
        "plt.title(\"Naive Bayes\")\r\n",
        "sns.heatmap(nb_cm, annot = True, cmap=\"Pastel2\",cbar=False);\r\n",
        "\r\n",
        "plt.subplot(222)\r\n",
        "plt.title(\"Support Vector Machine (SVM)\")\r\n",
        "sns.heatmap(svm_cm, annot = True, cmap=\"Pastel2\",cbar=False);"
      ],
      "execution_count": 37,
      "outputs": [
        {
          "output_type": "display_data",
          "data": {
            "image/png": "[encoded data removed]",
            "text/plain": [
              "<Figure size 1080x864 with 2 Axes>"
            ]
          },
          "metadata": {
            "tags": [],
            "needs_background": "light"
          }
        }
      ]
    },
    {
      "cell_type": "markdown",
      "metadata": {
        "id": "1yitjsCn6y-W"
      },
      "source": [
        "Precision - Recall - F1-Score"
      ]
    },
    {
      "cell_type": "code",
      "metadata": {
        "colab": {
          "base_uri": "https://localhost:8080/"
        },
        "id": "9AFrZNuu6t6e",
        "outputId": "90290ab7-a782-4656-e24d-c6316d64738c"
      },
      "source": [
        "print(\"\\n Naive Bayes\")\r\n",
        "print(mt.classification_report(y_test, nb.predict(X_test)))\r\n",
        "print(\"\\n Support Vector Machine (SVM)\")\r\n",
        "print(mt.classification_report(y_test, svm.predict(X_test)))"
      ],
      "execution_count": 38,
      "outputs": [
        {
          "output_type": "stream",
          "text": [
            "\n",
            " Naive Bayes\n",
            "              precision    recall  f1-score   support\n",
            "\n",
            "       False       0.77      0.65      0.71       458\n",
            "        True       0.96      0.98      0.97      3665\n",
            "\n",
            "    accuracy                           0.94      4123\n",
            "   macro avg       0.87      0.81      0.84      4123\n",
            "weighted avg       0.94      0.94      0.94      4123\n",
            "\n",
            "\n",
            " Support Vector Machine (SVM)\n",
            "              precision    recall  f1-score   support\n",
            "\n",
            "       False       0.84      0.46      0.59       458\n",
            "        True       0.94      0.99      0.96      3665\n",
            "\n",
            "    accuracy                           0.93      4123\n",
            "   macro avg       0.89      0.72      0.78      4123\n",
            "weighted avg       0.92      0.93      0.92      4123\n",
            "\n"
          ],
          "name": "stdout"
        }
      ]
    },
    {
      "cell_type": "markdown",
      "metadata": {
        "id": "xYUygDws7Kcw"
      },
      "source": [
        "### **See The Prediction**"
      ]
    },
    {
      "cell_type": "markdown",
      "metadata": {
        "id": "cLQwzDLx7Qry"
      },
      "source": [
        "Dataframe for the predictions using \r\n",
        "\r\n",
        "      df_predict"
      ]
    },
    {
      "cell_type": "code",
      "metadata": {
        "colab": {
          "base_uri": "https://localhost:8080/",
          "height": 203
        },
        "id": "4IPZkBGM62Lc",
        "outputId": "9a3f4d6f-c375-4a98-f28c-32e5b04e01d7"
      },
      "source": [
        "df_predict.sample(3)"
      ],
      "execution_count": 42,
      "outputs": [
        {
          "output_type": "execute_result",
          "data": {
            "text/html": [
              "<div>\n",
              "<style scoped>\n",
              "    .dataframe tbody tr th:only-of-type {\n",
              "        vertical-align: middle;\n",
              "    }\n",
              "\n",
              "    .dataframe tbody tr th {\n",
              "        vertical-align: top;\n",
              "    }\n",
              "\n",
              "    .dataframe thead th {\n",
              "        text-align: right;\n",
              "    }\n",
              "</style>\n",
              "<table border=\"1\" class=\"dataframe\">\n",
              "  <thead>\n",
              "    <tr style=\"text-align: right;\">\n",
              "      <th></th>\n",
              "      <th>Clothing ID</th>\n",
              "      <th>Review Text</th>\n",
              "      <th>Sentiment</th>\n",
              "      <th>Naive Bayes</th>\n",
              "      <th>SVM</th>\n",
              "    </tr>\n",
              "  </thead>\n",
              "  <tbody>\n",
              "    <tr>\n",
              "      <th>12020</th>\n",
              "      <td>602</td>\n",
              "      <td>The style and material are nice, but what i love is that it does not give me a wedgie! and i think it would still fold nicely on shorter frames.</td>\n",
              "      <td>True</td>\n",
              "      <td>True</td>\n",
              "      <td>True</td>\n",
              "    </tr>\n",
              "    <tr>\n",
              "      <th>20086</th>\n",
              "      <td>1094</td>\n",
              "      <td>I have purchased many dresses from retailer for weddings and events.  this is the first time i have been disappointed with the quality.  however, the sleeve on this dress ripped after lifting up my toddler son in the middle of a wedding.  the size 4 seemed to fit perfectly, but the fabric had no give.  it was not overly tight in the bust as i am bra size 34aa.  for the price, i expected better.  the color and style of the dress is gorgeous, so perhaps ordering one size up is the answer. . .</td>\n",
              "      <td>False</td>\n",
              "      <td>False</td>\n",
              "      <td>False</td>\n",
              "    </tr>\n",
              "    <tr>\n",
              "      <th>19798</th>\n",
              "      <td>943</td>\n",
              "      <td>I have to say, this sweater is gorgeous!!! i bought it in the green motif and absolutely loved the variety of colors used. i just didn't like the fit. it was so... blah. i felt like an old lady wearing it... it really had no flare to it... it was pretty boxy and boring :( so, very unfortunately, this one went back. way too much $$$ to not be in love w/it!</td>\n",
              "      <td>True</td>\n",
              "      <td>False</td>\n",
              "      <td>False</td>\n",
              "    </tr>\n",
              "  </tbody>\n",
              "</table>\n",
              "</div>"
            ],
            "text/plain": [
              "       Clothing ID  ...    SVM\n",
              "12020          602  ...   True\n",
              "20086         1094  ...  False\n",
              "19798          943  ...  False\n",
              "\n",
              "[3 rows x 5 columns]"
            ]
          },
          "metadata": {
            "tags": []
          },
          "execution_count": 42
        }
      ]
    },
    {
      "cell_type": "code",
      "metadata": {
        "colab": {
          "base_uri": "https://localhost:8080/",
          "height": 426
        },
        "id": "XW6j63mr7UEC",
        "outputId": "4cb29b12-8b3c-48ce-fdd9-9d552d29fdf3"
      },
      "source": [
        "df_predict.sample(6)"
      ],
      "execution_count": 45,
      "outputs": [
        {
          "output_type": "execute_result",
          "data": {
            "text/html": [
              "<div>\n",
              "<style scoped>\n",
              "    .dataframe tbody tr th:only-of-type {\n",
              "        vertical-align: middle;\n",
              "    }\n",
              "\n",
              "    .dataframe tbody tr th {\n",
              "        vertical-align: top;\n",
              "    }\n",
              "\n",
              "    .dataframe thead th {\n",
              "        text-align: right;\n",
              "    }\n",
              "</style>\n",
              "<table border=\"1\" class=\"dataframe\">\n",
              "  <thead>\n",
              "    <tr style=\"text-align: right;\">\n",
              "      <th></th>\n",
              "      <th>Clothing ID</th>\n",
              "      <th>Review Text</th>\n",
              "      <th>Sentiment</th>\n",
              "      <th>Naive Bayes</th>\n",
              "      <th>SVM</th>\n",
              "    </tr>\n",
              "  </thead>\n",
              "  <tbody>\n",
              "    <tr>\n",
              "      <th>5377</th>\n",
              "      <td>1059</td>\n",
              "      <td>Loved these in store when i tried them on but was in between sizes so i ordered them in the larger size. boy do i regret that! these stretch out so much i have to wear a belt with them and it gives me this saggy bunchy front when i sit...not attractive. wish i could return them, but i took the tag off and wore them not knowing this before hand!! if in between sizes definitely size down.</td>\n",
              "      <td>False</td>\n",
              "      <td>False</td>\n",
              "      <td>False</td>\n",
              "    </tr>\n",
              "    <tr>\n",
              "      <th>21371</th>\n",
              "      <td>823</td>\n",
              "      <td>Such a lovely shirt and even though it is white, flowing and delicate it is not see-through so you will not have to worry about wearing an undershirt in the summer sun. lovely top!</td>\n",
              "      <td>True</td>\n",
              "      <td>True</td>\n",
              "      <td>True</td>\n",
              "    </tr>\n",
              "    <tr>\n",
              "      <th>18333</th>\n",
              "      <td>1150</td>\n",
              "      <td>Like other reviewers, i tried on a medium and a large as i usually take either size in retailer dresses. the large was huge on me - i had an extra 6 inches or so on each side. the next medium that i tried on could barely fit over my head! i looked at the tag to see if i had picked up an extra small but it stated medium. got another medium and it fit perfectly. however, the cami underneath one medium was again teeny tiny. the other medium was ok. you may have to try on a few dresses to get th...</td>\n",
              "      <td>True</td>\n",
              "      <td>True</td>\n",
              "      <td>True</td>\n",
              "    </tr>\n",
              "    <tr>\n",
              "      <th>18372</th>\n",
              "      <td>1092</td>\n",
              "      <td>Ok, the material is great, light &amp; airy. the thing they don't show you is the waist line is tucked in the photo, that's why you cant see the bi level hem line. the hem line is fantastic. the waist is the problem, the whole dress just hangs huge from bust down. the material is so light i would caution against darting the dress. i created a button loop cinch under the outside corer of the pockets, on the seem of the waist. this worked for me.</td>\n",
              "      <td>True</td>\n",
              "      <td>True</td>\n",
              "      <td>True</td>\n",
              "    </tr>\n",
              "    <tr>\n",
              "      <th>5856</th>\n",
              "      <td>1077</td>\n",
              "      <td>I have never been able to find a maxi dress that just fits me. i'm pretty short (5'2\") and the xs petite comes exactly to my ankles. no hemming necessary! the neckline is very flattering and the waist is a semi-empire elastic waistline that makes this dress both elegant and comfortable. the dress is very stretchy but doesn't look like it. it is absolutely one of my \"summer staples\" now - especially for traveling. if i could have this dress in fifty different patterns i would.</td>\n",
              "      <td>True</td>\n",
              "      <td>True</td>\n",
              "      <td>True</td>\n",
              "    </tr>\n",
              "    <tr>\n",
              "      <th>726</th>\n",
              "      <td>886</td>\n",
              "      <td>This is a cool relaxed style with the benefit of an open neckline to add a bit of femininity. i tried on the faded blue and striped colors in the store. the faded blue goes well with the style, but the stripe is cute too. the sleeves are quite long and too tight to roll up, so if you are petite like me you will definitely want to order the petite size- and probably even those you who are in between petites and regular sizes. the sleeves may also be too narrow for some people.</td>\n",
              "      <td>True</td>\n",
              "      <td>True</td>\n",
              "      <td>True</td>\n",
              "    </tr>\n",
              "  </tbody>\n",
              "</table>\n",
              "</div>"
            ],
            "text/plain": [
              "       Clothing ID  ...    SVM\n",
              "5377          1059  ...  False\n",
              "21371          823  ...   True\n",
              "18333         1150  ...   True\n",
              "18372         1092  ...   True\n",
              "5856          1077  ...   True\n",
              "726            886  ...   True\n",
              "\n",
              "[6 rows x 5 columns]"
            ]
          },
          "metadata": {
            "tags": []
          },
          "execution_count": 45
        }
      ]
    },
    {
      "cell_type": "code",
      "metadata": {
        "colab": {
          "base_uri": "https://localhost:8080/",
          "height": 497
        },
        "id": "NVHiIlty7WOl",
        "outputId": "26bf2797-3838-47ef-8b53-93035f3ed1a6"
      },
      "source": [
        "df_predict.sample(9)"
      ],
      "execution_count": 44,
      "outputs": [
        {
          "output_type": "execute_result",
          "data": {
            "text/html": [
              "<div>\n",
              "<style scoped>\n",
              "    .dataframe tbody tr th:only-of-type {\n",
              "        vertical-align: middle;\n",
              "    }\n",
              "\n",
              "    .dataframe tbody tr th {\n",
              "        vertical-align: top;\n",
              "    }\n",
              "\n",
              "    .dataframe thead th {\n",
              "        text-align: right;\n",
              "    }\n",
              "</style>\n",
              "<table border=\"1\" class=\"dataframe\">\n",
              "  <thead>\n",
              "    <tr style=\"text-align: right;\">\n",
              "      <th></th>\n",
              "      <th>Clothing ID</th>\n",
              "      <th>Review Text</th>\n",
              "      <th>Sentiment</th>\n",
              "      <th>Naive Bayes</th>\n",
              "      <th>SVM</th>\n",
              "    </tr>\n",
              "  </thead>\n",
              "  <tbody>\n",
              "    <tr>\n",
              "      <th>4827</th>\n",
              "      <td>940</td>\n",
              "      <td>This is a beautiful warm cardigan! just from the picture thought it was going to be longer. bought to wear with leggings but can't. i will wear it with jeans skirts and dresses. i am 5 feet 7.</td>\n",
              "      <td>True</td>\n",
              "      <td>True</td>\n",
              "      <td>True</td>\n",
              "    </tr>\n",
              "    <tr>\n",
              "      <th>8798</th>\n",
              "      <td>1028</td>\n",
              "      <td>I love the fleetwood style...very trendy...fit like a dream - very long for you leggy gals. me, i need to hem (these would also look cute as cutoffs for us shorties)...true to size - slim fit!</td>\n",
              "      <td>True</td>\n",
              "      <td>True</td>\n",
              "      <td>True</td>\n",
              "    </tr>\n",
              "    <tr>\n",
              "      <th>4447</th>\n",
              "      <td>1094</td>\n",
              "      <td>I'm not sure why this dress has such bad online reviews because i absolutely love it! it fit tts for me, but i have a large bust so will run big if you are smaller on top. i don't like paying full price usually, but the quality and beauty of this dress justified it! if you are into prints and colors, you will definitely be able to pull it off :)</td>\n",
              "      <td>True</td>\n",
              "      <td>True</td>\n",
              "      <td>True</td>\n",
              "    </tr>\n",
              "    <tr>\n",
              "      <th>13371</th>\n",
              "      <td>909</td>\n",
              "      <td>At the beginning of the season i lusted over an ivory haute couture side-sliced tunic so much that i almost sprang for the $800 price tag. when i saw this at retailer, i realized it was similar, but had certain design elements that made it even more unique than the other. i just received it, and i was not disappointed! that cable neckline is beautiful, the 3/4 sleeves are perfect to show off a bracelet or two, and whether worn with skinny jeans, as shown, or wide leg trousers (as the haute</td>\n",
              "      <td>True</td>\n",
              "      <td>False</td>\n",
              "      <td>True</td>\n",
              "    </tr>\n",
              "    <tr>\n",
              "      <th>21651</th>\n",
              "      <td>1039</td>\n",
              "      <td>These jeans fit true to size, and they look amazing. i wear a 26 and have an athletic build, and they look great everywhere! i love how they look with sandals.</td>\n",
              "      <td>True</td>\n",
              "      <td>True</td>\n",
              "      <td>True</td>\n",
              "    </tr>\n",
              "    <tr>\n",
              "      <th>5731</th>\n",
              "      <td>868</td>\n",
              "      <td>Great shirt, more of a stretch to it than i thought it would. very flowy, looks great with jeans &amp; leggings.</td>\n",
              "      <td>True</td>\n",
              "      <td>True</td>\n",
              "      <td>True</td>\n",
              "    </tr>\n",
              "    <tr>\n",
              "      <th>22390</th>\n",
              "      <td>868</td>\n",
              "      <td>This shirt is incredibly comfortable. the material is so soft, and it fits so well. i am 5'6\" and 130 lbs with a 32b chest and i purchased a small - it is large on me, and i would have preferred an xs, but the small is just fine as well! it is a great shirt, especially for an oversized henley. 100% recommend. (one star off for the larger sizing.)</td>\n",
              "      <td>True</td>\n",
              "      <td>True</td>\n",
              "      <td>True</td>\n",
              "    </tr>\n",
              "    <tr>\n",
              "      <th>1275</th>\n",
              "      <td>850</td>\n",
              "      <td>I am so happy i purchased this top in 2 colors while it was on sale. i have the navy/white pattern and the green. both are vibrant and fun. i'm 8 months pregnant and these fit me currently. i can see them being a great top for post baby and on as well. i'll probably layer this in the fall and winter with a chambray jacket or a loose knit sweater. my only complaint (which is why i gave 4 stars) the top button comes undone very easily. it also pulls a bit at the top 2 buttons, but i may be abl...</td>\n",
              "      <td>True</td>\n",
              "      <td>True</td>\n",
              "      <td>True</td>\n",
              "    </tr>\n",
              "    <tr>\n",
              "      <th>19495</th>\n",
              "      <td>1078</td>\n",
              "      <td>When this dress first came out i thought it was weird.  then i started seeing people on instagram wearing outfits that look super cute and i wanted it, but sold out.  so when this version came out i snatched it up right away.   it's different from anything else i own, very quirky and in style details and has a bit of a man repeller vibe, that is why i love it.</td>\n",
              "      <td>True</td>\n",
              "      <td>True</td>\n",
              "      <td>True</td>\n",
              "    </tr>\n",
              "  </tbody>\n",
              "</table>\n",
              "</div>"
            ],
            "text/plain": [
              "       Clothing ID  ...   SVM\n",
              "4827           940  ...  True\n",
              "8798          1028  ...  True\n",
              "4447          1094  ...  True\n",
              "13371          909  ...  True\n",
              "21651         1039  ...  True\n",
              "5731           868  ...  True\n",
              "22390          868  ...  True\n",
              "1275           850  ...  True\n",
              "19495         1078  ...  True\n",
              "\n",
              "[9 rows x 5 columns]"
            ]
          },
          "metadata": {
            "tags": []
          },
          "execution_count": 44
        }
      ]
    },
    {
      "cell_type": "code",
      "metadata": {
        "id": "pm2MdH7O9q_G"
      },
      "source": [
        ""
      ],
      "execution_count": null,
      "outputs": []
    }
  ]
}